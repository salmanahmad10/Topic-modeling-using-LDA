{
  "nbformat": 4,
  "nbformat_minor": 0,
  "metadata": {
    "colab": {
      "name": "topic modeling NLP final Project.ipynb",
      "provenance": [],
      "collapsed_sections": []
    },
    "kernelspec": {
      "display_name": "Python 3",
      "name": "python3"
    }
  },
  "cells": [
    {
      "cell_type": "code",
      "metadata": {
        "id": "_ZQ9h_Teso37"
      },
      "source": [
        "import nltk"
      ],
      "execution_count": null,
      "outputs": []
    },
    {
      "cell_type": "code",
      "metadata": {
        "id": "TXO1elo48w6-"
      },
      "source": [
        "import re"
      ],
      "execution_count": null,
      "outputs": []
    },
    {
      "cell_type": "code",
      "metadata": {
        "id": "U_qIDY-18zOU"
      },
      "source": [
        "import numpy as np"
      ],
      "execution_count": null,
      "outputs": []
    },
    {
      "cell_type": "code",
      "metadata": {
        "id": "wNOoetpN80ny"
      },
      "source": [
        "import pandas as pd"
      ],
      "execution_count": null,
      "outputs": []
    },
    {
      "cell_type": "code",
      "metadata": {
        "id": "NqCm-YMG81u0"
      },
      "source": [
        "from pprint import pprint"
      ],
      "execution_count": null,
      "outputs": []
    },
    {
      "cell_type": "code",
      "metadata": {
        "id": "u6nM-j3z84t2"
      },
      "source": [
        "import gensim"
      ],
      "execution_count": null,
      "outputs": []
    },
    {
      "cell_type": "code",
      "metadata": {
        "id": "wf9pyjzF87yc"
      },
      "source": [
        "import gensim.corpora as corpora\n"
      ],
      "execution_count": null,
      "outputs": []
    },
    {
      "cell_type": "code",
      "metadata": {
        "id": "SK0z9bL18_38"
      },
      "source": [
        "from gensim.utils import simple_preprocess\n"
      ],
      "execution_count": null,
      "outputs": []
    },
    {
      "cell_type": "code",
      "metadata": {
        "id": "EGl_BU659BL4"
      },
      "source": [
        "from gensim.models import CoherenceModel\n"
      ],
      "execution_count": null,
      "outputs": []
    },
    {
      "cell_type": "code",
      "metadata": {
        "colab": {
          "base_uri": "https://localhost:8080/"
        },
        "id": "s6kAzNFd9Dqc",
        "outputId": "8df5ad34-7b63-465a-f973-f44b0cfbb54f"
      },
      "source": [
        "!pip install PYLDAvis\n"
      ],
      "execution_count": null,
      "outputs": [
        {
          "output_type": "stream",
          "text": [
            "Collecting PYLDAvis\n",
            "\u001b[?25l  Downloading https://files.pythonhosted.org/packages/a5/3a/af82e070a8a96e13217c8f362f9a73e82d61ac8fff3a2561946a97f96266/pyLDAvis-2.1.2.tar.gz (1.6MB)\n",
            "\u001b[K     |████████████████████████████████| 1.6MB 5.9MB/s \n",
            "\u001b[?25hRequirement already satisfied: wheel>=0.23.0 in /usr/local/lib/python3.6/dist-packages (from PYLDAvis) (0.36.2)\n",
            "Requirement already satisfied: numpy>=1.9.2 in /usr/local/lib/python3.6/dist-packages (from PYLDAvis) (1.19.4)\n",
            "Requirement already satisfied: scipy>=0.18.0 in /usr/local/lib/python3.6/dist-packages (from PYLDAvis) (1.4.1)\n",
            "Requirement already satisfied: pandas>=0.17.0 in /usr/local/lib/python3.6/dist-packages (from PYLDAvis) (1.1.5)\n",
            "Requirement already satisfied: joblib>=0.8.4 in /usr/local/lib/python3.6/dist-packages (from PYLDAvis) (1.0.0)\n",
            "Requirement already satisfied: jinja2>=2.7.2 in /usr/local/lib/python3.6/dist-packages (from PYLDAvis) (2.11.2)\n",
            "Requirement already satisfied: numexpr in /usr/local/lib/python3.6/dist-packages (from PYLDAvis) (2.7.1)\n",
            "Requirement already satisfied: pytest in /usr/local/lib/python3.6/dist-packages (from PYLDAvis) (3.6.4)\n",
            "Requirement already satisfied: future in /usr/local/lib/python3.6/dist-packages (from PYLDAvis) (0.16.0)\n",
            "Collecting funcy\n",
            "  Downloading https://files.pythonhosted.org/packages/66/89/479de0afbbfb98d1c4b887936808764627300208bb771fcd823403645a36/funcy-1.15-py2.py3-none-any.whl\n",
            "Requirement already satisfied: pytz>=2017.2 in /usr/local/lib/python3.6/dist-packages (from pandas>=0.17.0->PYLDAvis) (2018.9)\n",
            "Requirement already satisfied: python-dateutil>=2.7.3 in /usr/local/lib/python3.6/dist-packages (from pandas>=0.17.0->PYLDAvis) (2.8.1)\n",
            "Requirement already satisfied: MarkupSafe>=0.23 in /usr/local/lib/python3.6/dist-packages (from jinja2>=2.7.2->PYLDAvis) (1.1.1)\n",
            "Requirement already satisfied: attrs>=17.4.0 in /usr/local/lib/python3.6/dist-packages (from pytest->PYLDAvis) (20.3.0)\n",
            "Requirement already satisfied: setuptools in /usr/local/lib/python3.6/dist-packages (from pytest->PYLDAvis) (51.0.0)\n",
            "Requirement already satisfied: six>=1.10.0 in /usr/local/lib/python3.6/dist-packages (from pytest->PYLDAvis) (1.15.0)\n",
            "Requirement already satisfied: pluggy<0.8,>=0.5 in /usr/local/lib/python3.6/dist-packages (from pytest->PYLDAvis) (0.7.1)\n",
            "Requirement already satisfied: more-itertools>=4.0.0 in /usr/local/lib/python3.6/dist-packages (from pytest->PYLDAvis) (8.6.0)\n",
            "Requirement already satisfied: atomicwrites>=1.0 in /usr/local/lib/python3.6/dist-packages (from pytest->PYLDAvis) (1.4.0)\n",
            "Requirement already satisfied: py>=1.5.0 in /usr/local/lib/python3.6/dist-packages (from pytest->PYLDAvis) (1.10.0)\n",
            "Building wheels for collected packages: PYLDAvis\n",
            "  Building wheel for PYLDAvis (setup.py) ... \u001b[?25l\u001b[?25hdone\n",
            "  Created wheel for PYLDAvis: filename=pyLDAvis-2.1.2-py2.py3-none-any.whl size=97712 sha256=a1fade4de4b3dee9f53e88c7b76ac2a968c2e0ca5edbed58e5e74d4d7e25d9b5\n",
            "  Stored in directory: /root/.cache/pip/wheels/98/71/24/513a99e58bb6b8465bae4d2d5e9dba8f0bef8179e3051ac414\n",
            "Successfully built PYLDAvis\n",
            "Installing collected packages: funcy, PYLDAvis\n",
            "Successfully installed PYLDAvis-2.1.2 funcy-1.15\n"
          ],
          "name": "stdout"
        }
      ]
    },
    {
      "cell_type": "code",
      "metadata": {
        "id": "P6w7pRS69FWo"
      },
      "source": [
        "import pyLDAvis"
      ],
      "execution_count": null,
      "outputs": []
    },
    {
      "cell_type": "code",
      "metadata": {
        "id": "M1GREEqJ9eCm"
      },
      "source": [
        "import pyLDAvis.gensim"
      ],
      "execution_count": null,
      "outputs": []
    },
    {
      "cell_type": "code",
      "metadata": {
        "id": "1BLPVRMO9806"
      },
      "source": [
        "import matplotlib.pyplot as plt\n"
      ],
      "execution_count": null,
      "outputs": []
    },
    {
      "cell_type": "code",
      "metadata": {
        "colab": {
          "base_uri": "https://localhost:8080/",
          "height": 17
        },
        "id": "WgPTv3ot3Sry",
        "outputId": "327aa193-77c5-4082-857b-81a28a1c44d1"
      },
      "source": [
        "import cufflinks as cf\n",
        "cf.go_offline()\n",
        "cf.set_config_file(offline=False, world_readable=True)"
      ],
      "execution_count": null,
      "outputs": [
        {
          "output_type": "display_data",
          "data": {
            "text/html": [
              "        <script type=\"text/javascript\">\n",
              "        window.PlotlyConfig = {MathJaxConfig: 'local'};\n",
              "        if (window.MathJax) {MathJax.Hub.Config({SVG: {font: \"STIX-Web\"}});}\n",
              "        if (typeof require !== 'undefined') {\n",
              "        require.undef(\"plotly\");\n",
              "        requirejs.config({\n",
              "            paths: {\n",
              "                'plotly': ['https://cdn.plot.ly/plotly-latest.min']\n",
              "            }\n",
              "        });\n",
              "        require(['plotly'], function(Plotly) {\n",
              "            window._Plotly = Plotly;\n",
              "        });\n",
              "        }\n",
              "        </script>\n",
              "        "
            ]
          },
          "metadata": {
            "tags": []
          }
        }
      ]
    },
    {
      "cell_type": "code",
      "metadata": {
        "id": "gqp7wLz_9-FF"
      },
      "source": [
        "%matplotlib inline\n"
      ],
      "execution_count": null,
      "outputs": []
    },
    {
      "cell_type": "code",
      "metadata": {
        "colab": {
          "base_uri": "https://localhost:8080/"
        },
        "id": "EdhKGS6Z9_f3",
        "outputId": "060e1163-bf0a-4bce-b905-ffd69b2a57b8"
      },
      "source": [
        "from nltk.corpus import stopwords\n",
        "nltk.download('stopwords')"
      ],
      "execution_count": null,
      "outputs": [
        {
          "output_type": "stream",
          "text": [
            "[nltk_data] Downloading package stopwords to /root/nltk_data...\n",
            "[nltk_data]   Unzipping corpora/stopwords.zip.\n"
          ],
          "name": "stdout"
        },
        {
          "output_type": "execute_result",
          "data": {
            "text/plain": [
              "True"
            ]
          },
          "metadata": {
            "tags": []
          },
          "execution_count": 23
        }
      ]
    },
    {
      "cell_type": "code",
      "metadata": {
        "id": "zUKItfBU-cGs"
      },
      "source": [
        "stop_words = stopwords.words('english')\n"
      ],
      "execution_count": null,
      "outputs": []
    },
    {
      "cell_type": "code",
      "metadata": {
        "id": "iuIrAz7I-jOE"
      },
      "source": [
        "df = pd.read_json('https://raw.githubusercontent.com/selva86/datasets/master/newsgroups.json')\n"
      ],
      "execution_count": null,
      "outputs": []
    },
    {
      "cell_type": "code",
      "metadata": {
        "colab": {
          "base_uri": "https://localhost:8080/",
          "height": 415
        },
        "id": "W-kg_Vts-mdU",
        "outputId": "f11c7996-f109-4315-fcdd-984deed5a888"
      },
      "source": [
        "df"
      ],
      "execution_count": null,
      "outputs": [
        {
          "output_type": "execute_result",
          "data": {
            "text/html": [
              "<div>\n",
              "<style scoped>\n",
              "    .dataframe tbody tr th:only-of-type {\n",
              "        vertical-align: middle;\n",
              "    }\n",
              "\n",
              "    .dataframe tbody tr th {\n",
              "        vertical-align: top;\n",
              "    }\n",
              "\n",
              "    .dataframe thead th {\n",
              "        text-align: right;\n",
              "    }\n",
              "</style>\n",
              "<table border=\"1\" class=\"dataframe\">\n",
              "  <thead>\n",
              "    <tr style=\"text-align: right;\">\n",
              "      <th></th>\n",
              "      <th>content</th>\n",
              "      <th>target</th>\n",
              "      <th>target_names</th>\n",
              "    </tr>\n",
              "  </thead>\n",
              "  <tbody>\n",
              "    <tr>\n",
              "      <th>0</th>\n",
              "      <td>From: lerxst@wam.umd.edu (where's my thing)\\nS...</td>\n",
              "      <td>7</td>\n",
              "      <td>rec.autos</td>\n",
              "    </tr>\n",
              "    <tr>\n",
              "      <th>1</th>\n",
              "      <td>From: guykuo@carson.u.washington.edu (Guy Kuo)...</td>\n",
              "      <td>4</td>\n",
              "      <td>comp.sys.mac.hardware</td>\n",
              "    </tr>\n",
              "    <tr>\n",
              "      <th>2</th>\n",
              "      <td>From: twillis@ec.ecn.purdue.edu (Thomas E Will...</td>\n",
              "      <td>4</td>\n",
              "      <td>comp.sys.mac.hardware</td>\n",
              "    </tr>\n",
              "    <tr>\n",
              "      <th>3</th>\n",
              "      <td>From: jgreen@amber (Joe Green)\\nSubject: Re: W...</td>\n",
              "      <td>1</td>\n",
              "      <td>comp.graphics</td>\n",
              "    </tr>\n",
              "    <tr>\n",
              "      <th>4</th>\n",
              "      <td>From: jcm@head-cfa.harvard.edu (Jonathan McDow...</td>\n",
              "      <td>14</td>\n",
              "      <td>sci.space</td>\n",
              "    </tr>\n",
              "    <tr>\n",
              "      <th>...</th>\n",
              "      <td>...</td>\n",
              "      <td>...</td>\n",
              "      <td>...</td>\n",
              "    </tr>\n",
              "    <tr>\n",
              "      <th>11309</th>\n",
              "      <td>From: jim.zisfein@factory.com (Jim Zisfein) \\n...</td>\n",
              "      <td>13</td>\n",
              "      <td>sci.med</td>\n",
              "    </tr>\n",
              "    <tr>\n",
              "      <th>11310</th>\n",
              "      <td>From: ebodin@pearl.tufts.edu\\nSubject: Screen ...</td>\n",
              "      <td>4</td>\n",
              "      <td>comp.sys.mac.hardware</td>\n",
              "    </tr>\n",
              "    <tr>\n",
              "      <th>11311</th>\n",
              "      <td>From: westes@netcom.com (Will Estes)\\nSubject:...</td>\n",
              "      <td>3</td>\n",
              "      <td>comp.sys.ibm.pc.hardware</td>\n",
              "    </tr>\n",
              "    <tr>\n",
              "      <th>11312</th>\n",
              "      <td>From: steve@hcrlgw (Steven Collins)\\nSubject: ...</td>\n",
              "      <td>1</td>\n",
              "      <td>comp.graphics</td>\n",
              "    </tr>\n",
              "    <tr>\n",
              "      <th>11313</th>\n",
              "      <td>From: gunning@cco.caltech.edu (Kevin J. Gunnin...</td>\n",
              "      <td>8</td>\n",
              "      <td>rec.motorcycles</td>\n",
              "    </tr>\n",
              "  </tbody>\n",
              "</table>\n",
              "<p>11314 rows × 3 columns</p>\n",
              "</div>"
            ],
            "text/plain": [
              "                                                 content  ...              target_names\n",
              "0      From: lerxst@wam.umd.edu (where's my thing)\\nS...  ...                 rec.autos\n",
              "1      From: guykuo@carson.u.washington.edu (Guy Kuo)...  ...     comp.sys.mac.hardware\n",
              "2      From: twillis@ec.ecn.purdue.edu (Thomas E Will...  ...     comp.sys.mac.hardware\n",
              "3      From: jgreen@amber (Joe Green)\\nSubject: Re: W...  ...             comp.graphics\n",
              "4      From: jcm@head-cfa.harvard.edu (Jonathan McDow...  ...                 sci.space\n",
              "...                                                  ...  ...                       ...\n",
              "11309  From: jim.zisfein@factory.com (Jim Zisfein) \\n...  ...                   sci.med\n",
              "11310  From: ebodin@pearl.tufts.edu\\nSubject: Screen ...  ...     comp.sys.mac.hardware\n",
              "11311  From: westes@netcom.com (Will Estes)\\nSubject:...  ...  comp.sys.ibm.pc.hardware\n",
              "11312  From: steve@hcrlgw (Steven Collins)\\nSubject: ...  ...             comp.graphics\n",
              "11313  From: gunning@cco.caltech.edu (Kevin J. Gunnin...  ...           rec.motorcycles\n",
              "\n",
              "[11314 rows x 3 columns]"
            ]
          },
          "metadata": {
            "tags": []
          },
          "execution_count": 26
        }
      ]
    },
    {
      "cell_type": "code",
      "metadata": {
        "colab": {
          "base_uri": "https://localhost:8080/"
        },
        "id": "8B8ArvBG_SJt",
        "outputId": "10d1d542-c5b7-4d0d-ec4b-aa6a0ee31f82"
      },
      "source": [
        "df.shape"
      ],
      "execution_count": null,
      "outputs": [
        {
          "output_type": "execute_result",
          "data": {
            "text/plain": [
              "(11314, 3)"
            ]
          },
          "metadata": {
            "tags": []
          },
          "execution_count": 27
        }
      ]
    },
    {
      "cell_type": "code",
      "metadata": {
        "colab": {
          "base_uri": "https://localhost:8080/",
          "height": 105
        },
        "id": "RE2Qo52p_ivF",
        "outputId": "6424da9e-3a36-4111-f9d8-5445ce753e8f"
      },
      "source": [
        "df.head()['content'][0]"
      ],
      "execution_count": null,
      "outputs": [
        {
          "output_type": "execute_result",
          "data": {
            "application/vnd.google.colaboratory.intrinsic+json": {
              "type": "string"
            },
            "text/plain": [
              "\"From: lerxst@wam.umd.edu (where's my thing)\\nSubject: WHAT car is this!?\\nNntp-Posting-Host: rac3.wam.umd.edu\\nOrganization: University of Maryland, College Park\\nLines: 15\\n\\n I was wondering if anyone out there could enlighten me on this car I saw\\nthe other day. It was a 2-door sports car, looked to be from the late 60s/\\nearly 70s. It was called a Bricklin. The doors were really small. In addition,\\nthe front bumper was separate from the rest of the body. This is \\nall I know. If anyone can tellme a model name, engine specs, years\\nof production, where this car is made, history, or whatever info you\\nhave on this funky looking car, please e-mail.\\n\\nThanks,\\n- IL\\n   ---- brought to you by your neighborhood Lerxst ----\\n\\n\\n\\n\\n\""
            ]
          },
          "metadata": {
            "tags": []
          },
          "execution_count": 28
        }
      ]
    },
    {
      "cell_type": "code",
      "metadata": {
        "id": "79P4yTSC_xbC"
      },
      "source": [
        "all_text=df.content"
      ],
      "execution_count": null,
      "outputs": []
    },
    {
      "cell_type": "code",
      "metadata": {
        "id": "9MKfRQXFAWdw"
      },
      "source": [
        "df['totalwords'] = df['content'].str.split().str.len()\n"
      ],
      "execution_count": null,
      "outputs": []
    },
    {
      "cell_type": "code",
      "metadata": {
        "colab": {
          "base_uri": "https://localhost:8080/"
        },
        "id": "Ym-tZfO_3GgO",
        "outputId": "61e6e965-8ac7-45c5-85fb-e58efca4236b"
      },
      "source": [
        "df.totalwords"
      ],
      "execution_count": null,
      "outputs": [
        {
          "output_type": "execute_result",
          "data": {
            "text/plain": [
              "0        123\n",
              "1        123\n",
              "2        339\n",
              "3        113\n",
              "4        171\n",
              "        ... \n",
              "11309    337\n",
              "11310    130\n",
              "11311    139\n",
              "11312    194\n",
              "11313     75\n",
              "Name: totalwords, Length: 11314, dtype: int64"
            ]
          },
          "metadata": {
            "tags": []
          },
          "execution_count": 31
        }
      ]
    },
    {
      "cell_type": "code",
      "metadata": {
        "colab": {
          "base_uri": "https://localhost:8080/"
        },
        "id": "BP9iglKbAd7J",
        "outputId": "66c3d046-be93-44bb-b510-b85c6c050cdf"
      },
      "source": [
        "!python -m spacy download en_core_web_lg\n"
      ],
      "execution_count": null,
      "outputs": [
        {
          "output_type": "stream",
          "text": [
            "Collecting en_core_web_lg==2.2.5\n",
            "\u001b[?25l  Downloading https://github.com/explosion/spacy-models/releases/download/en_core_web_lg-2.2.5/en_core_web_lg-2.2.5.tar.gz (827.9MB)\n",
            "\u001b[K     |████████████████████████████████| 827.9MB 1.1MB/s \n",
            "\u001b[?25hRequirement already satisfied: spacy>=2.2.2 in /usr/local/lib/python3.6/dist-packages (from en_core_web_lg==2.2.5) (2.2.4)\n",
            "Requirement already satisfied: cymem<2.1.0,>=2.0.2 in /usr/local/lib/python3.6/dist-packages (from spacy>=2.2.2->en_core_web_lg==2.2.5) (2.0.5)\n",
            "Requirement already satisfied: tqdm<5.0.0,>=4.38.0 in /usr/local/lib/python3.6/dist-packages (from spacy>=2.2.2->en_core_web_lg==2.2.5) (4.41.1)\n",
            "Requirement already satisfied: numpy>=1.15.0 in /usr/local/lib/python3.6/dist-packages (from spacy>=2.2.2->en_core_web_lg==2.2.5) (1.19.4)\n",
            "Requirement already satisfied: preshed<3.1.0,>=3.0.2 in /usr/local/lib/python3.6/dist-packages (from spacy>=2.2.2->en_core_web_lg==2.2.5) (3.0.5)\n",
            "Requirement already satisfied: wasabi<1.1.0,>=0.4.0 in /usr/local/lib/python3.6/dist-packages (from spacy>=2.2.2->en_core_web_lg==2.2.5) (0.8.0)\n",
            "Requirement already satisfied: catalogue<1.1.0,>=0.0.7 in /usr/local/lib/python3.6/dist-packages (from spacy>=2.2.2->en_core_web_lg==2.2.5) (1.0.0)\n",
            "Requirement already satisfied: setuptools in /usr/local/lib/python3.6/dist-packages (from spacy>=2.2.2->en_core_web_lg==2.2.5) (51.0.0)\n",
            "Requirement already satisfied: thinc==7.4.0 in /usr/local/lib/python3.6/dist-packages (from spacy>=2.2.2->en_core_web_lg==2.2.5) (7.4.0)\n",
            "Requirement already satisfied: murmurhash<1.1.0,>=0.28.0 in /usr/local/lib/python3.6/dist-packages (from spacy>=2.2.2->en_core_web_lg==2.2.5) (1.0.5)\n",
            "Requirement already satisfied: blis<0.5.0,>=0.4.0 in /usr/local/lib/python3.6/dist-packages (from spacy>=2.2.2->en_core_web_lg==2.2.5) (0.4.1)\n",
            "Requirement already satisfied: requests<3.0.0,>=2.13.0 in /usr/local/lib/python3.6/dist-packages (from spacy>=2.2.2->en_core_web_lg==2.2.5) (2.23.0)\n",
            "Requirement already satisfied: plac<1.2.0,>=0.9.6 in /usr/local/lib/python3.6/dist-packages (from spacy>=2.2.2->en_core_web_lg==2.2.5) (1.1.3)\n",
            "Requirement already satisfied: srsly<1.1.0,>=1.0.2 in /usr/local/lib/python3.6/dist-packages (from spacy>=2.2.2->en_core_web_lg==2.2.5) (1.0.5)\n",
            "Requirement already satisfied: importlib-metadata>=0.20; python_version < \"3.8\" in /usr/local/lib/python3.6/dist-packages (from catalogue<1.1.0,>=0.0.7->spacy>=2.2.2->en_core_web_lg==2.2.5) (3.3.0)\n",
            "Requirement already satisfied: certifi>=2017.4.17 in /usr/local/lib/python3.6/dist-packages (from requests<3.0.0,>=2.13.0->spacy>=2.2.2->en_core_web_lg==2.2.5) (2020.12.5)\n",
            "Requirement already satisfied: idna<3,>=2.5 in /usr/local/lib/python3.6/dist-packages (from requests<3.0.0,>=2.13.0->spacy>=2.2.2->en_core_web_lg==2.2.5) (2.10)\n",
            "Requirement already satisfied: urllib3!=1.25.0,!=1.25.1,<1.26,>=1.21.1 in /usr/local/lib/python3.6/dist-packages (from requests<3.0.0,>=2.13.0->spacy>=2.2.2->en_core_web_lg==2.2.5) (1.24.3)\n",
            "Requirement already satisfied: chardet<4,>=3.0.2 in /usr/local/lib/python3.6/dist-packages (from requests<3.0.0,>=2.13.0->spacy>=2.2.2->en_core_web_lg==2.2.5) (3.0.4)\n",
            "Requirement already satisfied: typing-extensions>=3.6.4; python_version < \"3.8\" in /usr/local/lib/python3.6/dist-packages (from importlib-metadata>=0.20; python_version < \"3.8\"->catalogue<1.1.0,>=0.0.7->spacy>=2.2.2->en_core_web_lg==2.2.5) (3.7.4.3)\n",
            "Requirement already satisfied: zipp>=0.5 in /usr/local/lib/python3.6/dist-packages (from importlib-metadata>=0.20; python_version < \"3.8\"->catalogue<1.1.0,>=0.0.7->spacy>=2.2.2->en_core_web_lg==2.2.5) (3.4.0)\n",
            "Building wheels for collected packages: en-core-web-lg\n",
            "  Building wheel for en-core-web-lg (setup.py) ... \u001b[?25l\u001b[?25hdone\n",
            "  Created wheel for en-core-web-lg: filename=en_core_web_lg-2.2.5-cp36-none-any.whl size=829180945 sha256=9a249de32dbc18ec60ea52799c5f186d0952715bb4613c019c8d1324c76f75cd\n",
            "  Stored in directory: /tmp/pip-ephem-wheel-cache-cfeluxhj/wheels/2a/c1/a6/fc7a877b1efca9bc6a089d6f506f16d3868408f9ff89f8dbfc\n",
            "Successfully built en-core-web-lg\n",
            "Installing collected packages: en-core-web-lg\n",
            "Successfully installed en-core-web-lg-2.2.5\n",
            "\u001b[38;5;2m✔ Download and installation successful\u001b[0m\n",
            "You can now load the model via spacy.load('en_core_web_lg')\n"
          ],
          "name": "stdout"
        }
      ]
    },
    {
      "cell_type": "code",
      "metadata": {
        "id": "ngdN1GnZBlQw"
      },
      "source": [
        ""
      ],
      "execution_count": null,
      "outputs": []
    },
    {
      "cell_type": "code",
      "metadata": {
        "id": "6pk1I2MICLMZ"
      },
      "source": [
        "data = df.content.values.tolist()\n"
      ],
      "execution_count": null,
      "outputs": []
    },
    {
      "cell_type": "code",
      "metadata": {
        "colab": {
          "base_uri": "https://localhost:8080/"
        },
        "id": "5_Ii3wZQCPrf",
        "outputId": "b01c060d-0686-4e28-8d42-2a65b1521e1c"
      },
      "source": [
        "data = [re.sub('\\S*@\\S*\\s?', '', sent) for sent in data]\n"
      ],
      "execution_count": null,
      "outputs": [
        {
          "output_type": "stream",
          "text": [
            "<input>:1: DeprecationWarning:\n",
            "\n",
            "invalid escape sequence \\S\n",
            "\n",
            "<input>:1: DeprecationWarning:\n",
            "\n",
            "invalid escape sequence \\S\n",
            "\n",
            "<input>:1: DeprecationWarning:\n",
            "\n",
            "invalid escape sequence \\S\n",
            "\n",
            "<ipython-input-34-9396b9abe3b2>:1: DeprecationWarning:\n",
            "\n",
            "invalid escape sequence \\S\n",
            "\n"
          ],
          "name": "stderr"
        }
      ]
    },
    {
      "cell_type": "code",
      "metadata": {
        "colab": {
          "base_uri": "https://localhost:8080/"
        },
        "id": "Ov7ZEcrACSFW",
        "outputId": "c53342f1-7b74-4577-c823-c72967c9bdb3"
      },
      "source": [
        "data = [re.sub('\\s+', ' ', sent) for sent in data]\n"
      ],
      "execution_count": null,
      "outputs": [
        {
          "output_type": "stream",
          "text": [
            "<input>:1: DeprecationWarning:\n",
            "\n",
            "invalid escape sequence \\s\n",
            "\n",
            "<input>:1: DeprecationWarning:\n",
            "\n",
            "invalid escape sequence \\s\n",
            "\n",
            "<input>:1: DeprecationWarning:\n",
            "\n",
            "invalid escape sequence \\s\n",
            "\n",
            "<ipython-input-35-e591ccbe0189>:1: DeprecationWarning:\n",
            "\n",
            "invalid escape sequence \\s\n",
            "\n"
          ],
          "name": "stderr"
        }
      ]
    },
    {
      "cell_type": "code",
      "metadata": {
        "id": "o_SEt06MC4r6"
      },
      "source": [
        "data = [re.sub(\"\\'\", \"\", sent) for sent in data]\n"
      ],
      "execution_count": null,
      "outputs": []
    },
    {
      "cell_type": "code",
      "metadata": {
        "colab": {
          "base_uri": "https://localhost:8080/"
        },
        "id": "EzcMOiMeC6UL",
        "outputId": "23a28107-28f4-4567-ab65-4657f99d3940"
      },
      "source": [
        "def sent_to_words(sentences):\n",
        "    for sentence in sentences:\n",
        "        yield(gensim.utils.simple_preprocess(str(sentence), deacc=True))  \n",
        "\n",
        "data_words = list(sent_to_words(data))\n",
        "\n",
        "print(data_words[:1])"
      ],
      "execution_count": null,
      "outputs": [
        {
          "output_type": "stream",
          "text": [
            "[['from', 'wheres', 'my', 'thing', 'subject', 'what', 'car', 'is', 'this', 'nntp', 'posting', 'host', 'rac', 'wam', 'umd', 'edu', 'organization', 'university', 'of', 'maryland', 'college', 'park', 'lines', 'was', 'wondering', 'if', 'anyone', 'out', 'there', 'could', 'enlighten', 'me', 'on', 'this', 'car', 'saw', 'the', 'other', 'day', 'it', 'was', 'door', 'sports', 'car', 'looked', 'to', 'be', 'from', 'the', 'late', 'early', 'it', 'was', 'called', 'bricklin', 'the', 'doors', 'were', 'really', 'small', 'in', 'addition', 'the', 'front', 'bumper', 'was', 'separate', 'from', 'the', 'rest', 'of', 'the', 'body', 'this', 'is', 'all', 'know', 'if', 'anyone', 'can', 'tellme', 'model', 'name', 'engine', 'specs', 'years', 'of', 'production', 'where', 'this', 'car', 'is', 'made', 'history', 'or', 'whatever', 'info', 'you', 'have', 'on', 'this', 'funky', 'looking', 'car', 'please', 'mail', 'thanks', 'il', 'brought', 'to', 'you', 'by', 'your', 'neighborhood', 'lerxst']]\n"
          ],
          "name": "stdout"
        }
      ]
    },
    {
      "cell_type": "code",
      "metadata": {
        "id": "7rtxMo3lC71_"
      },
      "source": [
        "bigram = gensim.models.Phrases(data_words, min_count=5, threshold=100) "
      ],
      "execution_count": null,
      "outputs": []
    },
    {
      "cell_type": "code",
      "metadata": {
        "id": "99wN8BZqW12v",
        "colab": {
          "base_uri": "https://localhost:8080/"
        },
        "outputId": "a51bd310-57ca-4517-81e3-587fc5b4854f"
      },
      "source": [
        "print(bigram)"
      ],
      "execution_count": null,
      "outputs": [
        {
          "output_type": "stream",
          "text": [
            "Phrases<971890 vocab, min_count=5, threshold=100, max_vocab_size=40000000>\n"
          ],
          "name": "stdout"
        }
      ]
    },
    {
      "cell_type": "code",
      "metadata": {
        "id": "V7YHVGFoVkWh"
      },
      "source": [
        ""
      ],
      "execution_count": null,
      "outputs": []
    },
    {
      "cell_type": "code",
      "metadata": {
        "colab": {
          "base_uri": "https://localhost:8080/"
        },
        "id": "gXohClWnDNJV",
        "outputId": "092e7948-42f5-4af5-8b85-e33a5446233a"
      },
      "source": [
        "trigram = gensim.models.Phrases(bigram[data_words], threshold=100)  \n"
      ],
      "execution_count": null,
      "outputs": [
        {
          "output_type": "stream",
          "text": [
            "/usr/local/lib/python3.6/dist-packages/gensim/models/phrases.py:598: UserWarning:\n",
            "\n",
            "For a faster implementation, use the gensim.models.phrases.Phraser class\n",
            "\n"
          ],
          "name": "stderr"
        }
      ]
    },
    {
      "cell_type": "code",
      "metadata": {
        "id": "mvRkDEH8DQb-"
      },
      "source": [
        "\n",
        "\n",
        "bigram_mod = gensim.models.phrases.Phraser(bigram)\n"
      ],
      "execution_count": null,
      "outputs": []
    },
    {
      "cell_type": "code",
      "metadata": {
        "id": "sbYsQlWRD0NO"
      },
      "source": [
        "trigram_mod = gensim.models.phrases.Phraser(trigram)\n"
      ],
      "execution_count": null,
      "outputs": []
    },
    {
      "cell_type": "code",
      "metadata": {
        "colab": {
          "base_uri": "https://localhost:8080/"
        },
        "id": "Qb4Pw1ieD13I",
        "outputId": "0efd5b72-d297-4231-ab3c-d7c4f102cad9"
      },
      "source": [
        "print(trigram_mod[bigram_mod[data_words[0]]])\n"
      ],
      "execution_count": null,
      "outputs": [
        {
          "output_type": "stream",
          "text": [
            "['from', 'wheres', 'my', 'thing', 'subject', 'what', 'car', 'is', 'this', 'nntp_posting_host', 'rac_wam_umd_edu', 'organization', 'university', 'of', 'maryland_college_park', 'lines', 'was', 'wondering', 'if', 'anyone', 'out', 'there', 'could', 'enlighten', 'me', 'on', 'this', 'car', 'saw', 'the', 'other', 'day', 'it', 'was', 'door', 'sports', 'car', 'looked', 'to', 'be', 'from', 'the', 'late', 'early', 'it', 'was', 'called', 'bricklin', 'the', 'doors', 'were', 'really', 'small', 'in', 'addition', 'the', 'front_bumper', 'was', 'separate', 'from', 'the', 'rest', 'of', 'the', 'body', 'this', 'is', 'all', 'know', 'if', 'anyone', 'can', 'tellme', 'model', 'name', 'engine', 'specs', 'years', 'of', 'production', 'where', 'this', 'car', 'is', 'made', 'history', 'or', 'whatever', 'info', 'you', 'have', 'on', 'this', 'funky', 'looking', 'car', 'please', 'mail', 'thanks', 'il', 'brought', 'to', 'you', 'by', 'your', 'neighborhood', 'lerxst']\n"
          ],
          "name": "stdout"
        }
      ]
    },
    {
      "cell_type": "code",
      "metadata": {
        "id": "58pFyS4hD33I"
      },
      "source": [
        "def remove_stopwords(texts):\n",
        "    return [[word for word in simple_preprocess(str(doc)) if word not in stop_words] for doc in texts]\n"
      ],
      "execution_count": null,
      "outputs": []
    },
    {
      "cell_type": "code",
      "metadata": {
        "id": "-fvCDn7TELDv"
      },
      "source": [
        "def make_bigrams(texts):\n",
        "    return [bigram_mod[doc] for doc in texts]"
      ],
      "execution_count": null,
      "outputs": []
    },
    {
      "cell_type": "code",
      "metadata": {
        "id": "pzMAMYn6EWP3"
      },
      "source": [
        "def make_trigrams(texts):\n",
        "    return [trigram_mod[bigram_mod[doc]] for doc in texts]\n"
      ],
      "execution_count": null,
      "outputs": []
    },
    {
      "cell_type": "code",
      "metadata": {
        "id": "Y8KPAcwYEX6L"
      },
      "source": [
        "def lemmatization(texts, allowed_postags=['NOUN', 'ADJ', 'VERB', 'ADV']):\n",
        "    texts_out = []\n",
        "    for sent in texts:\n",
        "        doc = nlp(\" \".join(sent)) \n",
        "        texts_out.append([token.lemma_ for token in doc if token.pos_ in allowed_postags])\n",
        "    return texts_out"
      ],
      "execution_count": null,
      "outputs": []
    },
    {
      "cell_type": "code",
      "metadata": {
        "id": "dRKzGZyuEbw3"
      },
      "source": [
        "data_words_nostops = remove_stopwords(data_words)\n"
      ],
      "execution_count": null,
      "outputs": []
    },
    {
      "cell_type": "code",
      "metadata": {
        "id": "JkUJ6HY2Ed1v"
      },
      "source": [
        "data_words_bigrams = make_bigrams(data_words_nostops)\n"
      ],
      "execution_count": null,
      "outputs": []
    },
    {
      "cell_type": "code",
      "metadata": {
        "colab": {
          "base_uri": "https://localhost:8080/"
        },
        "id": "3ZmxltrTEfpR",
        "outputId": "7078cbaf-ef31-4ca2-d83f-2da15f9522e5"
      },
      "source": [
        "!python3 -m spacy download en"
      ],
      "execution_count": null,
      "outputs": [
        {
          "output_type": "stream",
          "text": [
            "Requirement already satisfied: en_core_web_sm==2.2.5 from https://github.com/explosion/spacy-models/releases/download/en_core_web_sm-2.2.5/en_core_web_sm-2.2.5.tar.gz#egg=en_core_web_sm==2.2.5 in /usr/local/lib/python3.6/dist-packages (2.2.5)\n",
            "Requirement already satisfied: spacy>=2.2.2 in /usr/local/lib/python3.6/dist-packages (from en_core_web_sm==2.2.5) (2.2.4)\n",
            "Requirement already satisfied: thinc==7.4.0 in /usr/local/lib/python3.6/dist-packages (from spacy>=2.2.2->en_core_web_sm==2.2.5) (7.4.0)\n",
            "Requirement already satisfied: preshed<3.1.0,>=3.0.2 in /usr/local/lib/python3.6/dist-packages (from spacy>=2.2.2->en_core_web_sm==2.2.5) (3.0.5)\n",
            "Requirement already satisfied: blis<0.5.0,>=0.4.0 in /usr/local/lib/python3.6/dist-packages (from spacy>=2.2.2->en_core_web_sm==2.2.5) (0.4.1)\n",
            "Requirement already satisfied: tqdm<5.0.0,>=4.38.0 in /usr/local/lib/python3.6/dist-packages (from spacy>=2.2.2->en_core_web_sm==2.2.5) (4.41.1)\n",
            "Requirement already satisfied: catalogue<1.1.0,>=0.0.7 in /usr/local/lib/python3.6/dist-packages (from spacy>=2.2.2->en_core_web_sm==2.2.5) (1.0.0)\n",
            "Requirement already satisfied: murmurhash<1.1.0,>=0.28.0 in /usr/local/lib/python3.6/dist-packages (from spacy>=2.2.2->en_core_web_sm==2.2.5) (1.0.5)\n",
            "Requirement already satisfied: srsly<1.1.0,>=1.0.2 in /usr/local/lib/python3.6/dist-packages (from spacy>=2.2.2->en_core_web_sm==2.2.5) (1.0.5)\n",
            "Requirement already satisfied: setuptools in /usr/local/lib/python3.6/dist-packages (from spacy>=2.2.2->en_core_web_sm==2.2.5) (51.0.0)\n",
            "Requirement already satisfied: requests<3.0.0,>=2.13.0 in /usr/local/lib/python3.6/dist-packages (from spacy>=2.2.2->en_core_web_sm==2.2.5) (2.23.0)\n",
            "Requirement already satisfied: cymem<2.1.0,>=2.0.2 in /usr/local/lib/python3.6/dist-packages (from spacy>=2.2.2->en_core_web_sm==2.2.5) (2.0.5)\n",
            "Requirement already satisfied: numpy>=1.15.0 in /usr/local/lib/python3.6/dist-packages (from spacy>=2.2.2->en_core_web_sm==2.2.5) (1.19.4)\n",
            "Requirement already satisfied: plac<1.2.0,>=0.9.6 in /usr/local/lib/python3.6/dist-packages (from spacy>=2.2.2->en_core_web_sm==2.2.5) (1.1.3)\n",
            "Requirement already satisfied: wasabi<1.1.0,>=0.4.0 in /usr/local/lib/python3.6/dist-packages (from spacy>=2.2.2->en_core_web_sm==2.2.5) (0.8.0)\n",
            "Requirement already satisfied: importlib-metadata>=0.20; python_version < \"3.8\" in /usr/local/lib/python3.6/dist-packages (from catalogue<1.1.0,>=0.0.7->spacy>=2.2.2->en_core_web_sm==2.2.5) (3.3.0)\n",
            "Requirement already satisfied: urllib3!=1.25.0,!=1.25.1,<1.26,>=1.21.1 in /usr/local/lib/python3.6/dist-packages (from requests<3.0.0,>=2.13.0->spacy>=2.2.2->en_core_web_sm==2.2.5) (1.24.3)\n",
            "Requirement already satisfied: idna<3,>=2.5 in /usr/local/lib/python3.6/dist-packages (from requests<3.0.0,>=2.13.0->spacy>=2.2.2->en_core_web_sm==2.2.5) (2.10)\n",
            "Requirement already satisfied: certifi>=2017.4.17 in /usr/local/lib/python3.6/dist-packages (from requests<3.0.0,>=2.13.0->spacy>=2.2.2->en_core_web_sm==2.2.5) (2020.12.5)\n",
            "Requirement already satisfied: chardet<4,>=3.0.2 in /usr/local/lib/python3.6/dist-packages (from requests<3.0.0,>=2.13.0->spacy>=2.2.2->en_core_web_sm==2.2.5) (3.0.4)\n",
            "Requirement already satisfied: typing-extensions>=3.6.4; python_version < \"3.8\" in /usr/local/lib/python3.6/dist-packages (from importlib-metadata>=0.20; python_version < \"3.8\"->catalogue<1.1.0,>=0.0.7->spacy>=2.2.2->en_core_web_sm==2.2.5) (3.7.4.3)\n",
            "Requirement already satisfied: zipp>=0.5 in /usr/local/lib/python3.6/dist-packages (from importlib-metadata>=0.20; python_version < \"3.8\"->catalogue<1.1.0,>=0.0.7->spacy>=2.2.2->en_core_web_sm==2.2.5) (3.4.0)\n",
            "\u001b[38;5;2m✔ Download and installation successful\u001b[0m\n",
            "You can now load the model via spacy.load('en_core_web_sm')\n",
            "\u001b[38;5;2m✔ Linking successful\u001b[0m\n",
            "/usr/local/lib/python3.6/dist-packages/en_core_web_sm -->\n",
            "/usr/local/lib/python3.6/dist-packages/spacy/data/en\n",
            "You can now load the model via spacy.load('en')\n"
          ],
          "name": "stdout"
        }
      ]
    },
    {
      "cell_type": "code",
      "metadata": {
        "id": "kwko1YZzEhok"
      },
      "source": [
        "from spacy.lang.en import English\n",
        "import spacy"
      ],
      "execution_count": null,
      "outputs": []
    },
    {
      "cell_type": "code",
      "metadata": {
        "id": "DINpD0hHEvq1"
      },
      "source": [
        "\n",
        "nlp = spacy.load('en', disable=['parser', 'ner'])\n"
      ],
      "execution_count": null,
      "outputs": []
    },
    {
      "cell_type": "code",
      "metadata": {
        "id": "kVr6CaY8FHZP"
      },
      "source": [
        "data_lemmatized = lemmatization(data_words_bigrams, allowed_postags=['NOUN', 'ADJ', 'VERB', 'ADV'])\n"
      ],
      "execution_count": null,
      "outputs": []
    },
    {
      "cell_type": "code",
      "metadata": {
        "colab": {
          "base_uri": "https://localhost:8080/"
        },
        "id": "zDC0f2UgFgOe",
        "outputId": "26683eaf-54f3-4feb-ab60-84b16e4377bf"
      },
      "source": [
        "print(data_lemmatized[:1])\n"
      ],
      "execution_count": null,
      "outputs": [
        {
          "output_type": "stream",
          "text": [
            "[['where', 'thing', 'subject', 'car', 'nntp_posting', 'host', 'rac_wam', 'park', 'line', 'wonder', 'could', 'enlighten', 'car', 'see', 'day', 'door', 'sport', 'car', 'look', 'late', 'early', 'call', 'bricklin', 'door', 'really', 'small', 'addition', 'separate', 'rest', 'body', 'know', 'tellme', 'model', 'name', 'engine', 'year', 'production', 'car', 'make', 'history', 'info', 'funky', 'look', 'car', 'mail', 'thank', 'bring', 'neighborhood', 'lerxst']]\n"
          ],
          "name": "stdout"
        }
      ]
    },
    {
      "cell_type": "code",
      "metadata": {
        "id": "tOWEltucFhyX"
      },
      "source": [
        "texts = data_lemmatized\n"
      ],
      "execution_count": null,
      "outputs": []
    },
    {
      "cell_type": "code",
      "metadata": {
        "id": "Tnv6-xnftEhe"
      },
      "source": [
        "id2word = corpora.Dictionary(data_lemmatized)\n"
      ],
      "execution_count": null,
      "outputs": []
    },
    {
      "cell_type": "code",
      "metadata": {
        "id": "6z9zZfo9tGOw"
      },
      "source": [
        "corpus = [id2word.doc2bow(text) for text in texts]\n"
      ],
      "execution_count": null,
      "outputs": []
    },
    {
      "cell_type": "code",
      "metadata": {
        "colab": {
          "base_uri": "https://localhost:8080/"
        },
        "id": "2ZG-WjjHt2cz",
        "outputId": "cde2f094-64d5-416b-b606-011bd8ed8db8"
      },
      "source": [
        "print(corpus[:1])\n"
      ],
      "execution_count": null,
      "outputs": [
        {
          "output_type": "stream",
          "text": [
            "[[(0, 1), (1, 1), (2, 1), (3, 1), (4, 1), (5, 5), (6, 1), (7, 1), (8, 2), (9, 1), (10, 1), (11, 1), (12, 1), (13, 1), (14, 1), (15, 1), (16, 1), (17, 1), (18, 1), (19, 1), (20, 2), (21, 1), (22, 1), (23, 1), (24, 1), (25, 1), (26, 1), (27, 1), (28, 1), (29, 1), (30, 1), (31, 1), (32, 1), (33, 1), (34, 1), (35, 1), (36, 1), (37, 1), (38, 1), (39, 1), (40, 1), (41, 1), (42, 1)]]\n"
          ],
          "name": "stdout"
        }
      ]
    },
    {
      "cell_type": "code",
      "metadata": {
        "colab": {
          "base_uri": "https://localhost:8080/",
          "height": 35
        },
        "id": "XrFdXRmqt8r4",
        "outputId": "d0095ff2-c0f9-47a7-9e53-3cdd6c49a70d"
      },
      "source": [
        "id2word[1]\n"
      ],
      "execution_count": null,
      "outputs": [
        {
          "output_type": "execute_result",
          "data": {
            "application/vnd.google.colaboratory.intrinsic+json": {
              "type": "string"
            },
            "text/plain": [
              "'body'"
            ]
          },
          "metadata": {
            "tags": []
          },
          "execution_count": 58
        }
      ]
    },
    {
      "cell_type": "code",
      "metadata": {
        "colab": {
          "base_uri": "https://localhost:8080/"
        },
        "id": "4pxqWTKhuA7u",
        "outputId": "087c5537-956c-4d0e-c1c4-5ae77c3653a3"
      },
      "source": [
        "[[(id2word[id], freq) for id, freq in cp] for cp in corpus[:1]]\n"
      ],
      "execution_count": null,
      "outputs": [
        {
          "output_type": "execute_result",
          "data": {
            "text/plain": [
              "[[('addition', 1),\n",
              "  ('body', 1),\n",
              "  ('bricklin', 1),\n",
              "  ('bring', 1),\n",
              "  ('call', 1),\n",
              "  ('car', 5),\n",
              "  ('could', 1),\n",
              "  ('day', 1),\n",
              "  ('door', 2),\n",
              "  ('early', 1),\n",
              "  ('engine', 1),\n",
              "  ('enlighten', 1),\n",
              "  ('funky', 1),\n",
              "  ('history', 1),\n",
              "  ('host', 1),\n",
              "  ('info', 1),\n",
              "  ('know', 1),\n",
              "  ('late', 1),\n",
              "  ('lerxst', 1),\n",
              "  ('line', 1),\n",
              "  ('look', 2),\n",
              "  ('mail', 1),\n",
              "  ('make', 1),\n",
              "  ('model', 1),\n",
              "  ('name', 1),\n",
              "  ('neighborhood', 1),\n",
              "  ('nntp_posting', 1),\n",
              "  ('park', 1),\n",
              "  ('production', 1),\n",
              "  ('rac_wam', 1),\n",
              "  ('really', 1),\n",
              "  ('rest', 1),\n",
              "  ('see', 1),\n",
              "  ('separate', 1),\n",
              "  ('small', 1),\n",
              "  ('sport', 1),\n",
              "  ('subject', 1),\n",
              "  ('tellme', 1),\n",
              "  ('thank', 1),\n",
              "  ('thing', 1),\n",
              "  ('where', 1),\n",
              "  ('wonder', 1),\n",
              "  ('year', 1)]]"
            ]
          },
          "metadata": {
            "tags": []
          },
          "execution_count": 55
        }
      ]
    },
    {
      "cell_type": "code",
      "metadata": {
        "id": "pRv7Mr1uuEQ7"
      },
      "source": [
        "lda_model = gensim.models.ldamodel.LdaModel(corpus=corpus,\n",
        "                                           id2word=id2word,\n",
        "                                           num_topics=20, \n",
        "                                           random_state=100,\n",
        "                                           update_every=1,\n",
        "                                           chunksize=100,\n",
        "                                           passes=10,\n",
        "                                           alpha='auto',\n",
        "                                           per_word_topics=True)"
      ],
      "execution_count": null,
      "outputs": []
    },
    {
      "cell_type": "code",
      "metadata": {
        "colab": {
          "base_uri": "https://localhost:8080/"
        },
        "id": "ChF0mgKIuJhX",
        "outputId": "89b78e60-3368-4f20-9076-0c4c7565d2b4"
      },
      "source": [
        "pprint(lda_model.print_topics())\n",
        "doc_lda = lda_model[corpus]\n",
        "doc_lda"
      ],
      "execution_count": null,
      "outputs": [
        {
          "output_type": "stream",
          "text": [
            "[(0,\n",
            "  '0.046*\"year\" + 0.036*\"game\" + 0.025*\"win\" + 0.021*\"play\" + 0.019*\"team\" + '\n",
            "  '0.018*\"last\" + 0.014*\"run\" + 0.014*\"lose\" + 0.012*\"first\" + 0.012*\"hit\"'),\n",
            " (1,\n",
            "  '0.025*\"use\" + 0.024*\"program\" + 0.022*\"file\" + 0.017*\"include\" + '\n",
            "  '0.015*\"window\" + 0.014*\"available\" + 0.013*\"software\" + 0.013*\"information\" '\n",
            "  '+ 0.012*\"source\" + 0.011*\"list\"'),\n",
            " (2,\n",
            "  '0.023*\"bike\" + 0.021*\"light\" + 0.020*\"pin\" + 0.018*\"monitor\" + '\n",
            "  '0.016*\"character\" + 0.014*\"normal\" + 0.014*\"ride\" + 0.013*\"drive\" + '\n",
            "  '0.012*\"switch\" + 0.011*\"side\"'),\n",
            " (3,\n",
            "  '0.053*\"good\" + 0.052*\"would\" + 0.025*\"make\" + 0.019*\"may\" + 0.019*\"much\" + '\n",
            "  '0.017*\"lot\" + 0.015*\"well\" + 0.011*\"big\" + 0.011*\"pay\" + 0.011*\"money\"'),\n",
            " (4,\n",
            "  '0.025*\"church\" + 0.023*\"christian\" + 0.022*\"slave\" + 0.020*\"faith\" + '\n",
            "  '0.019*\"sin\" + 0.017*\"talk\" + 0.016*\"judge\" + 0.015*\"deny\" + 0.014*\"appear\" '\n",
            "  '+ 0.011*\"heart\"'),\n",
            " (5,\n",
            "  '0.027*\"car\" + 0.021*\"high\" + 0.016*\"price\" + 0.016*\"power\" + 0.015*\"cost\" + '\n",
            "  '0.014*\"new\" + 0.014*\"low\" + 0.012*\"rate\" + 0.011*\"internet\" + '\n",
            "  '0.010*\"model\"'),\n",
            " (6,\n",
            "  '0.037*\"space\" + 0.018*\"system\" + 0.017*\"device\" + 0.017*\"research\" + '\n",
            "  '0.015*\"item\" + 0.013*\"launch\" + 0.012*\"special\" + 0.012*\"revelation\" + '\n",
            "  '0.012*\"moral\" + 0.012*\"internal\"'),\n",
            " (7,\n",
            "  '0.026*\"people\" + 0.018*\"state\" + 0.014*\"law\" + 0.012*\"government\" + '\n",
            "  '0.010*\"issue\" + 0.010*\"right\" + 0.009*\"child\" + 0.008*\"death\" + '\n",
            "  '0.008*\"case\" + 0.007*\"group\"'),\n",
            " (8,\n",
            "  '0.050*\"key\" + 0.026*\"use\" + 0.019*\"sale\" + 0.017*\"public\" + 0.016*\"patient\" '\n",
            "  '+ 0.014*\"encryption\" + 0.014*\"phone\" + 0.013*\"security\" + 0.012*\"private\" + '\n",
            "  '0.011*\"chip\"'),\n",
            " (9,\n",
            "  '0.030*\"man\" + 0.022*\"existence\" + 0.016*\"society\" + 0.013*\"knowledge\" + '\n",
            "  '0.012*\"absolutely\" + 0.012*\"insist\" + 0.012*\"evil\" + 0.011*\"mine\" + '\n",
            "  '0.010*\"byte\" + 0.010*\"homosexual\"'),\n",
            " (10,\n",
            "  '0.021*\"soldier\" + 0.019*\"lebanese\" + 0.018*\"village\" + 0.017*\"brain\" + '\n",
            "  '0.013*\"kill\" + 0.013*\"food\" + 0.012*\"turkish\" + 0.012*\"doctor\" + '\n",
            "  '0.011*\"terrorism\" + 0.011*\"occupy\"'),\n",
            " (11,\n",
            "  '0.043*\"team\" + 0.027*\"season\" + 0.024*\"fan\" + 0.024*\"hockey\" + '\n",
            "  '0.020*\"trade\" + 0.017*\"playoff\" + 0.016*\"cool\" + 0.015*\"pen\" + 0.014*\"hot\" '\n",
            "  '+ 0.013*\"star\"'),\n",
            " (12,\n",
            "  '0.042*\"test\" + 0.033*\"solution\" + 0.026*\"function\" + 0.024*\"problem\" + '\n",
            "  '0.021*\"family\" + 0.019*\"object\" + 0.018*\"pain\" + 0.017*\"draw\" + '\n",
            "  '0.017*\"connection\" + 0.014*\"edu\"'),\n",
            " (13,\n",
            "  '0.081*\"line\" + 0.040*\"write\" + 0.037*\"subject\" + 0.031*\"use\" + '\n",
            "  '0.027*\"article\" + 0.027*\"host\" + 0.018*\"thank\" + 0.017*\"organization\" + '\n",
            "  '0.016*\"need\" + 0.014*\"drive\"'),\n",
            " (14,\n",
            "  '0.027*\"value\" + 0.021*\"scsi\" + 0.020*\"remove\" + 0.017*\"picture\" + '\n",
            "  '0.016*\"hour\" + 0.012*\"cd\" + 0.012*\"sphere\" + 0.011*\"warranty\" + '\n",
            "  '0.011*\"communication\" + 0.011*\"rational\"'),\n",
            " (15,\n",
            "  '0.061*\"gun\" + 0.021*\"weapon\" + 0.021*\"carry\" + 0.018*\"safety\" + '\n",
            "  '0.016*\"firearm\" + 0.015*\"cop\" + 0.011*\"fire\" + 0.011*\"police\" + '\n",
            "  '0.010*\"workstation\" + 0.010*\"visible\"'),\n",
            " (16,\n",
            "  '0.017*\"reason\" + 0.017*\"evidence\" + 0.017*\"believe\" + 0.015*\"may\" + '\n",
            "  '0.013*\"say\" + 0.012*\"claim\" + 0.011*\"question\" + 0.011*\"sense\" + '\n",
            "  '0.010*\"point\" + 0.010*\"exist\"'),\n",
            " (17,\n",
            "  '0.119*\"ax\" + 0.101*\"max\" + 0.038*\"ripem\" + 0.037*\"publish\" + 0.025*\"drug\" + '\n",
            "  '0.024*\"di_di\" + 0.012*\"violence\" + 0.010*\"prohibit\" + 0.010*\"stream\" + '\n",
            "  '0.008*\"wide_range\"'),\n",
            " (18,\n",
            "  '0.027*\"would\" + 0.024*\"go\" + 0.021*\"say\" + 0.021*\"think\" + 0.019*\"be\" + '\n",
            "  '0.018*\"know\" + 0.018*\"time\" + 0.016*\"write\" + 0.015*\"see\" + 0.014*\"take\"'),\n",
            " (19,\n",
            "  '0.061*\"driver\" + 0.045*\"version\" + 0.026*\"card\" + 0.023*\"university\" + '\n",
            "  '0.020*\"port\" + 0.017*\"recommend\" + 0.017*\"print\" + 0.017*\"printer\" + '\n",
            "  '0.015*\"gift\" + 0.013*\"gateway\"')]\n"
          ],
          "name": "stdout"
        },
        {
          "output_type": "execute_result",
          "data": {
            "text/plain": [
              "<gensim.interfaces.TransformedCorpus at 0x7f40e57745c0>"
            ]
          },
          "metadata": {
            "tags": []
          },
          "execution_count": 77
        }
      ]
    },
    {
      "cell_type": "code",
      "metadata": {
        "id": "mSDDWCYTvWKR",
        "colab": {
          "base_uri": "https://localhost:8080/",
          "height": 163
        },
        "outputId": "55c52bcc-73c1-4cd7-86d5-92d636d13e8d"
      },
      "source": [
        "print('\\nPerplexity: ', lda_model.log_perplexity(corpus))\n"
      ],
      "execution_count": null,
      "outputs": [
        {
          "output_type": "error",
          "ename": "NameError",
          "evalue": "ignored",
          "traceback": [
            "\u001b[0;31m---------------------------------------------------------------------------\u001b[0m",
            "\u001b[0;31mNameError\u001b[0m                                 Traceback (most recent call last)",
            "\u001b[0;32m<ipython-input-1-5de980fbaa8e>\u001b[0m in \u001b[0;36m<module>\u001b[0;34m()\u001b[0m\n\u001b[0;32m----> 1\u001b[0;31m \u001b[0mprint\u001b[0m\u001b[0;34m(\u001b[0m\u001b[0;34m'\\nPerplexity: '\u001b[0m\u001b[0;34m,\u001b[0m \u001b[0mlda_model\u001b[0m\u001b[0;34m.\u001b[0m\u001b[0mlog_perplexity\u001b[0m\u001b[0;34m(\u001b[0m\u001b[0mcorpus\u001b[0m\u001b[0;34m)\u001b[0m\u001b[0;34m)\u001b[0m\u001b[0;34m\u001b[0m\u001b[0;34m\u001b[0m\u001b[0m\n\u001b[0m",
            "\u001b[0;31mNameError\u001b[0m: name 'lda_model' is not defined"
          ]
        }
      ]
    },
    {
      "cell_type": "code",
      "metadata": {
        "id": "wEOIFI9BwHY9"
      },
      "source": [
        "from gensim.models.coherencemodel import CoherenceModel\n"
      ],
      "execution_count": null,
      "outputs": []
    },
    {
      "cell_type": "code",
      "metadata": {
        "colab": {
          "base_uri": "https://localhost:8080/"
        },
        "id": "EK69vbf6wkIb",
        "outputId": "452597b0-5ff4-49a8-9ce1-705522946e9e"
      },
      "source": [
        "coherence_model_lda = CoherenceModel(model=lda_model, texts=data_lemmatized, dictionary=id2word, coherence='c_v')\n",
        "coherence_lda = coherence_model_lda.get_coherence()\n",
        "print('\\nCoherence Score: ', coherence_lda)"
      ],
      "execution_count": null,
      "outputs": [
        {
          "output_type": "stream",
          "text": [
            "\n",
            "Coherence Score:  0.44522161483195094\n"
          ],
          "name": "stdout"
        }
      ]
    },
    {
      "cell_type": "code",
      "metadata": {
        "id": "0G8zaHCEw49K"
      },
      "source": [
        "pyLDAvis.enable_notebook()"
      ],
      "execution_count": null,
      "outputs": []
    },
    {
      "cell_type": "code",
      "metadata": {
        "id": "Zk2iZ6C_yIYt"
      },
      "source": [
        "vis = pyLDAvis.gensim.prepare(lda_model, corpus, id2word)\n",
        "\n"
      ],
      "execution_count": null,
      "outputs": []
    },
    {
      "cell_type": "code",
      "metadata": {
        "colab": {
          "base_uri": "https://localhost:8080/",
          "height": 861
        },
        "id": "2ZQlDiqVyKPv",
        "outputId": "90f18f6b-b87d-4f6c-9145-70a4b29432c0"
      },
      "source": [
        "vis"
      ],
      "execution_count": null,
      "outputs": [
        {
          "output_type": "execute_result",
          "data": {
            "text/html": [
              "\n",
              "<link rel=\"stylesheet\" type=\"text/css\" href=\"https://cdn.rawgit.com/bmabey/pyLDAvis/files/ldavis.v1.0.0.css\">\n",
              "\n",
              "\n",
              "<div id=\"ldavis_el581399158696059601556521159\"></div>\n",
              "<script type=\"text/javascript\">\n",
              "\n",
              "var ldavis_el581399158696059601556521159_data = {\"mdsDat\": {\"x\": [-0.30118804524096515, -0.24882268822926806, -0.26143722810669434, -0.1376755614700122, -0.16717315176315678, -0.1734345715991004, -0.040499062356067324, 0.009303224747531234, -0.022891362852883762, 0.07773029002476405, 0.11145731946706602, 0.09576396048927895, 0.11911649555441725, 0.11603619587003633, 0.11521415733197521, 0.12102743645684369, 0.1449209900119315, 0.13843696541440706, 0.1467691331961854, 0.15734550305371126], \"y\": [0.13037191632313452, -0.12336505616507323, 0.11054424553965414, 0.01706285379959589, -0.18984587125614433, 0.17202668786205713, -0.12600815877492005, 0.11195517965745512, -0.2681956181710432, -0.08850702810375154, 0.020940896428081633, 0.037839189953450876, 0.020056991218549463, -0.04252117144342189, 0.05570663271796447, 0.021481774277469428, 0.020980249122822432, 0.08981800125628807, 0.005512169255852911, 0.02414611650197955], \"topics\": [1, 2, 3, 4, 5, 6, 7, 8, 9, 10, 11, 12, 13, 14, 15, 16, 17, 18, 19, 20], \"cluster\": [1, 1, 1, 1, 1, 1, 1, 1, 1, 1, 1, 1, 1, 1, 1, 1, 1, 1, 1, 1], \"Freq\": [21.164506077913543, 11.624431581113964, 10.45908827065743, 8.88155270509432, 8.194309225478715, 7.367377707889619, 5.157488044578104, 3.618254859042395, 3.448523486751609, 2.5594027671774695, 2.3929692689894915, 2.031908371159952, 1.9290188119552822, 1.8741339485623676, 1.754158799447758, 1.6215365384442004, 1.6060566837045858, 1.5435410642639962, 1.4000828247867783, 1.3716589629884404]}, \"tinfo\": {\"Term\": [\"line\", \"would\", \"good\", \"write\", \"use\", \"subject\", \"go\", \"ax\", \"year\", \"host\", \"say\", \"people\", \"article\", \"max\", \"make\", \"key\", \"problem\", \"think\", \"be\", \"system\", \"time\", \"program\", \"know\", \"get\", \"file\", \"team\", \"thank\", \"game\", \"take\", \"drive\", \"go\", \"s\", \"tell\", \"let\", \"happen\", \"maybe\", \"remember\", \"stop\", \"physical\", \"story\", \"guy\", \"stand\", \"job\", \"chance\", \"shall\", \"there\", \"sorry\", \"notice\", \"anyway\", \"realize\", \"eat\", \"steal\", \"period\", \"direct\", \"best\", \"convince\", \"personally\", \"sit\", \"pack\", \"hole\", \"never\", \"back\", \"take\", \"keep\", \"hand\", \"day\", \"come\", \"time\", \"face\", \"think\", \"ever\", \"could\", \"little\", \"ill\", \"hear\", \"hope\", \"see\", \"be\", \"still\", \"say\", \"thing\", \"even\", \"know\", \"way\", \"would\", \"get\", \"want\", \"have\", \"give\", \"make\", \"write\", \"people\", \"first\", \"right\", \"article\", \"really\", \"also\", \"host\", \"thank\", \"nntp_poste\", \"com\", \"interested\", \"color\", \"screen\", \"memory\", \"disk\", \"appreciate\", \"display\", \"slow\", \"instal\", \"video\", \"input\", \"quality\", \"suggestion\", \"install\", \"manager\", \"apple\", \"keyboard\", \"ram\", \"font\", \"rider\", \"mac\", \"localtalk\", \"busmastere\", \"clock\", \"este\", \"solid\", \"ca\", \"line\", \"board\", \"wonder\", \"distribution_usa\", \"reply\", \"subject\", \"advance\", \"keyword\", \"drive\", \"organization\", \"help\", \"need\", \"write\", \"article\", \"problem\", \"computer\", \"use\", \"type\", \"mail\", \"system\", \"work\", \"post\", \"bit\", \"get\", \"card\", \"try\", \"look\", \"find\", \"want\", \"know\", \"run\", \"question\", \"be\", \"new\", \"would\", \"evidence\", \"sense\", \"religion\", \"god\", \"argument\", \"explain\", \"truth\", \"atheist\", \"discussion\", \"belief\", \"valid\", \"graphic\", \"conclusion\", \"indeed\", \"reality\", \"nature\", \"scientific\", \"theory\", \"greek\", \"proof\", \"atheism\", \"false\", \"reject\", \"objective\", \"context\", \"convert\", \"mother\", \"should\", \"translation\", \"assumption\", \"claim\", \"exist\", \"therefore\", \"true\", \"reason\", \"believe\", \"view\", \"science\", \"book\", \"prove\", \"word\", \"accept\", \"choose\", \"question\", \"answer\", \"example\", \"point\", \"may\", \"mean\", \"say\", \"many\", \"must\", \"read\", \"fact\", \"however\", \"follow\", \"can\", \"make\", \"think\", \"write\", \"law\", \"country\", \"member\", \"war\", \"israeli\", \"risk\", \"crime\", \"jewish\", \"author\", \"community\", \"military\", \"school\", \"policy\", \"trial\", \"authority\", \"criminal\", \"trust\", \"political\", \"withdraw\", \"vote\", \"examine\", \"parent\", \"oppose\", \"party\", \"civilian\", \"sex\", \"benefit\", \"property\", \"commit\", \"adult\", \"serve\", \"state\", \"action\", \"force\", \"land\", \"medium\", \"individual\", \"death\", \"government\", \"child\", \"issue\", \"people\", \"situation\", \"suggest\", \"news\", \"kill\", \"talk\", \"person\", \"right\", \"case\", \"group\", \"report\", \"public\", \"fact\", \"order\", \"allow\", \"number\", \"program\", \"file\", \"available\", \"image\", \"copy\", \"entry\", \"application\", \"tape\", \"server\", \"access\", \"package\", \"cpu\", \"release\", \"format\", \"library\", \"telnet\", \"motif\", \"controller\", \"select\", \"client\", \"update\", \"software\", \"interface\", \"industry\", \"review\", \"procedure\", \"processor\", \"data\", \"status\", \"resource\", \"user\", \"site\", \"window\", \"section\", \"include\", \"list\", \"contain\", \"source\", \"faq\", \"information\", \"send\", \"address\", \"use\", \"support\", \"receive\", \"set\", \"allow\", \"also\", \"follow\", \"system\", \"run\", \"mail\", \"may\", \"number\", \"lot\", \"pay\", \"money\", \"player\", \"deal\", \"sound\", \"pretty\", \"better\", \"learn\", \"goal\", \"serious\", \"forget\", \"limit\", \"necessarily\", \"seller\", \"owner\", \"kid\", \"pro\", \"imagine\", \"worry\", \"tax\", \"happy\", \"link\", \"bill\", \"piece\", \"somewhere\", \"dollar\", \"proposal\", \"impossible\", \"draft\", \"good\", \"originator\", \"worth\", \"half\", \"big\", \"likely\", \"care\", \"amount\", \"spend\", \"purchase\", \"much\", \"especially\", \"would\", \"opinion\", \"small\", \"couple\", \"make\", \"great\", \"probably\", \"well\", \"may\", \"least\", \"consider\", \"case\", \"bad\", \"rather\", \"sure\", \"really\", \"week\", \"sell\", \"many\", \"car\", \"low\", \"internet\", \"wire\", \"bus\", \"engine\", \"unit\", \"box\", \"mount\", \"weight\", \"dealer\", \"mouse\", \"market\", \"environment\", \"track\", \"air\", \"vehicle\", \"expensive\", \"factor\", \"mile\", \"door\", \"impact\", \"dual\", \"additional\", \"slip\", \"specify\", \"oil\", \"moon\", \"unknown\", \"ring\", \"cost\", \"commercial\", \"price\", \"rate\", \"model\", \"nntp_posting\", \"performance\", \"high\", \"power\", \"design\", \"option\", \"speed\", \"increase\", \"new\", \"handle\", \"buy\", \"cover\", \"will\", \"old\", \"less\", \"use\", \"large\", \"year\", \"game\", \"hit\", \"watch\", \"score\", \"division\", \"wing\", \"throw\", \"route\", \"bomb\", \"average\", \"baseball\", \"night\", \"battery\", \"arab\", \"stat\", \"tomorrow\", \"yesterday\", \"talent\", \"prediction\", \"invasion\", \"finish\", \"tie\", \"offense\", \"rocket\", \"weekend\", \"pitcher\", \"rock\", \"injure\", \"sink\", \"pitch\", \"win\", \"play\", \"clearly\", \"year\", \"final\", \"lose\", \"team\", \"third\", \"last\", \"defense\", \"pick\", \"run\", \"laugh\", \"next\", \"first\", \"field\", \"lead\", \"second\", \"will\", \"early\", \"key\", \"sale\", \"patient\", \"encryption\", \"phone\", \"security\", \"private\", \"clipper\", \"encrypt\", \"secure\", \"license\", \"tap\", \"disease\", \"secret\", \"master\", \"diagnosis\", \"announcement\", \"agency\", \"expert\", \"federal\", \"pgp\", \"medical\", \"register\", \"clipper_chip\", \"privacy\", \"telephone\", \"restrict\", \"department\", \"devil\", \"registration\", \"block\", \"public\", \"court\", \"chip\", \"technology\", \"use\", \"message\", \"government\", \"information\", \"system\", \"bit\", \"new\", \"space\", \"device\", \"item\", \"launch\", \"special\", \"revelation\", \"moral\", \"internal\", \"transfer\", \"orbit\", \"mission\", \"satellite\", \"signal\", \"cable\", \"aware\", \"interpretation\", \"flight\", \"description\", \"circuit\", \"schedule\", \"feed\", \"volume\", \"transmit\", \"morality\", \"shuttle\", \"connector\", \"interpret\", \"absolute\", \"realistic\", \"lunar\", \"obtain\", \"activity\", \"research\", \"animal\", \"material\", \"project\", \"earth\", \"station\", \"lead\", \"ground\", \"system\", \"field\", \"bike\", \"pin\", \"monitor\", \"character\", \"normal\", \"ride\", \"switch\", \"edge\", \"motorcycle\", \"btw\", \"wave\", \"negative\", \"shift\", \"bug\", \"seat\", \"shipping\", \"taste\", \"music\", \"egg\", \"corner\", \"modem\", \"audio\", \"finger\", \"vertical\", \"hook\", \"distance\", \"surrender\", \"gear\", \"vram\", \"snow\", \"light\", \"foot\", \"road\", \"side\", \"head\", \"drive\", \"turn\", \"soon\", \"tube\", \"will\", \"left\", \"level\", \"soldier\", \"lebanese\", \"village\", \"brain\", \"turkish\", \"doctor\", \"terrorism\", \"occupy\", \"tumor\", \"blood\", \"armenian\", \"positive\", \"girl\", \"escape\", \"liar\", \"dept\", \"proceed\", \"closed\", \"diagnose\", \"genocide\", \"youth\", \"pathology\", \"diet\", \"knife\", \"slaughter\", \"serdar_argic\", \"cub\", \"hospital\", \"controlling\", \"massacre\", \"food\", \"troop\", \"russian\", \"kill\", \"woman\", \"child\", \"attack\", \"son\", \"body\", \"terrorist\", \"begin\", \"history\", \"reply\", \"existence\", \"society\", \"knowledge\", \"absolutely\", \"insist\", \"evil\", \"mine\", \"byte\", \"homosexual\", \"marriage\", \"gay\", \"responsibility\", \"sake\", \"promise\", \"circumstance\", \"miracle\", \"conflict\", \"wise\", \"fool\", \"sight\", \"arrogance\", \"poster\", \"participate\", \"injury\", \"eliminate\", \"carefully\", \"homosexuality\", \"contest\", \"favor\", \"tree\", \"witness\", \"totally\", \"regardless\", \"man\", \"implement\", \"difficult\", \"poor\", \"new\", \"value\", \"scsi\", \"remove\", \"picture\", \"cd\", \"sphere\", \"warranty\", \"communication\", \"rational\", \"ide\", \"plane\", \"surface\", \"socket\", \"laboratory\", \"helmet\", \"mirror\", \"serial\", \"ethnic\", \"task\", \"predict\", \"definitely\", \"anywhere\", \"algorithm\", \"insert\", \"pattern\", \"probe\", \"bend\", \"scale\", \"shape\", \"probability\", \"thread\", \"hour\", \"past\", \"typical\", \"table\", \"fit\", \"single\", \"extremely\", \"method\", \"bit\", \"church\", \"christian\", \"slave\", \"sin\", \"judge\", \"heart\", \"scripture\", \"prayer\", \"doctrine\", \"worship\", \"blind\", \"tradition\", \"excuse\", \"biblical\", \"gospel\", \"remark\", \"trivial\", \"thinking\", \"enable\", \"forgive\", \"salvation\", \"crack\", \"thi\", \"occupant\", \"divine\", \"earlier\", \"impair\", \"catcher\", \"intelligent\", \"spiritually\", \"enjoy\", \"deny\", \"tv\", \"faith\", \"fear\", \"appear\", \"talk\", \"hate\", \"early\", \"alone\", \"teach\", \"test\", \"solution\", \"function\", \"family\", \"object\", \"pain\", \"connection\", \"edu\", \"crash\", \"sample\", \"migraine\", \"directory\", \"syndrome\", \"properly\", \"neurologist\", \"string\", \"dn\", \"eeg\", \"pointer\", \"optional\", \"root\", \"solve\", \"toll\", \"occasional\", \"libxmu\", \"drawing\", \"trademark\", \"slmr\", \"disabled\", \"virus\", \"draw\", \"problem\", \"distribution\", \"event\", \"error\", \"extend\", \"cause\", \"example\", \"gun\", \"weapon\", \"firearm\", \"cop\", \"workstation\", \"visible\", \"glock\", \"band\", \"surveillance\", \"greatly_appreciate\", \"resistance\", \"rent\", \"decrease\", \"tension\", \"revolver\", \"trigger\", \"beginning\", \"soft\", \"espn\", \"explosive\", \"impressive\", \"discharge\", \"paranoid\", \"secondary\", \"terrible\", \"aluminum\", \"engage\", \"garbage\", \"landing\", \"apartment\", \"safety\", \"carry\", \"wear\", \"push\", \"police\", \"fire\", \"shoot\", \"safe\", \"require\", \"capable\", \"season\", \"fan\", \"hockey\", \"trade\", \"playoff\", \"cool\", \"pen\", \"hot\", \"star\", \"cycle\", \"ice\", \"water\", \"winner\", \"award\", \"coach\", \"king\", \"canadian\", \"prize\", \"penguin\", \"nuclear\", \"channel\", \"heat\", \"middle\", \"leg\", \"percentage\", \"leafs\", \"ranger\", \"horse\", \"franchise\", \"crazy\", \"team\", \"sport\", \"play\", \"driver\", \"version\", \"university\", \"recommend\", \"printer\", \"gift\", \"gateway\", \"upgrade\", \"circle\", \"ship\", \"jumper\", \"electronic\", \"slot\", \"accelerator\", \"motherboard\", \"drink\", \"father\", \"soul\", \"please\", \"documentation\", \"maxtor\", \"gold\", \"floppy\", \"lemon\", \"meg\", \"vga\", \"deeply\", \"combination\", \"lately\", \"fetch\", \"port\", \"print\", \"card\", \"recall\", \"window\", \"ax\", \"max\", \"ripem\", \"publish\", \"di_di\", \"violence\", \"prohibit\", \"stream\", \"wide_range\", \"univ\", \"aged\", \"film\", \"few\", \"movie\", \"label\", \"defeat\", \"disbelief\", \"vat\", \"plot\", \"radical\", \"rebel\", \"imagination\", \"prevalence\", \"mad\", \"standpoint\", \"mere\", \"celebration\", \"prevention\", \"stuff_delete\", \"enforcement\", \"drug\"], \"Freq\": [11523.0, 12167.0, 4562.0, 9849.0, 8645.0, 6163.0, 5692.0, 1873.0, 3517.0, 3552.0, 6591.0, 5938.0, 6359.0, 1589.0, 5979.0, 1958.0, 2846.0, 5675.0, 5696.0, 3403.0, 4787.0, 2212.0, 6344.0, 5373.0, 2033.0, 1538.0, 2326.0, 1476.0, 3489.0, 2332.0, 5691.856988694112, 2895.5867078723863, 2450.713142732812, 1558.0887357498605, 1376.033462744975, 1084.1599335151345, 960.3253531883648, 936.2578122692212, 884.3263283599183, 563.8129359989549, 496.4737180890895, 493.4992824935784, 488.735344483584, 460.25008557961985, 425.5075351093912, 421.0715505774333, 412.66705313355766, 407.8110787458445, 399.9002284055804, 386.61448175222046, 373.8170063773515, 367.51935390416077, 356.73691228770804, 340.43358270946607, 337.9892991661602, 301.7582080511568, 300.75411087222176, 273.31995243489615, 260.7462915174033, 255.52988353548008, 1865.9859390689478, 1845.643929395408, 3429.4535396729616, 1601.7653165111822, 970.4556593700335, 1712.697353634941, 3321.6292360911593, 4463.522266502268, 695.2147641891718, 4971.844978653461, 979.562250832929, 3329.953602780489, 1375.038681786537, 681.0671123386002, 1386.141139798911, 724.4651634381773, 3669.404929359677, 4549.782700095691, 1738.0228376322998, 5080.721930714371, 2770.1161879680853, 2412.016883979008, 4466.29270220001, 2340.8740587037246, 6553.047735932753, 3365.8339424156356, 2251.381375074454, 1630.7618980065888, 2092.5980771622294, 2958.9115635555618, 3860.657535503839, 2734.907516870517, 1833.1848495463228, 1768.392252876823, 2275.7296410184804, 1646.5504993659558, 1685.044672128316, 3551.7866645126855, 2325.626519725141, 1025.8135509930964, 807.2271987786415, 694.2396822658078, 680.5080146863854, 611.3710728100389, 611.21636129117, 596.3349929642133, 545.5526991969458, 536.3779103831232, 520.472304806548, 504.7756710836968, 450.0893230354257, 438.0156101321322, 341.1179369938234, 322.99470689408366, 275.3731781142289, 264.5813076514446, 262.1782086275417, 248.53015761542179, 215.7885131191772, 213.59757045867937, 207.0983572106845, 161.79422395147427, 157.79939568577853, 151.24822546187252, 149.4995895537607, 148.42667259062108, 147.68686152362343, 551.7315755050923, 10793.420546059695, 337.85223777478774, 560.8237525726285, 610.4773077046303, 1574.5916328981657, 4872.277056531585, 521.0122492441035, 338.7455391166505, 1849.8114289490236, 2274.131699646152, 1622.406520159037, 2132.601453780478, 5261.275487869221, 3571.6565208785055, 1822.0209859025622, 916.0796758471083, 4134.544268570369, 749.8591534857385, 1076.1499515698906, 1634.8475028730109, 1607.692725059952, 1157.6516334332864, 947.5857305871419, 1845.8600398687815, 822.39016433059, 1271.378821884054, 1238.7372884785564, 1058.7321058232676, 1116.0562481671711, 1328.4490691454332, 966.0186619827471, 972.4134665978042, 1140.2253781077, 895.3490125051993, 1031.4957674612926, 2046.5343839980126, 1260.2209820250282, 771.1800778305644, 734.7020374491376, 729.117554035982, 714.298407505857, 627.7231417397021, 615.5545037007624, 610.2874247994081, 604.5515552904399, 499.3667600704093, 496.92327387342425, 477.6874477342993, 409.22691089166, 403.4663667287068, 331.36012889622384, 302.13551878908476, 295.95547769028906, 278.6597414251383, 270.40886538615763, 267.0021775045871, 240.48276627164844, 234.06443533515863, 229.40675362379332, 223.38663877726276, 221.17873015330036, 217.74579589514053, 216.35636529470773, 212.00216513649718, 208.69670731789293, 1415.3903393280518, 1176.9305886840743, 343.61124759927316, 1060.688432851698, 2061.8959834624166, 1996.306914272859, 723.1006104527595, 652.6852123254743, 967.133828542612, 624.5573307790507, 769.0655684746451, 596.8059393871162, 489.17064780910374, 1365.9586897846348, 646.8897008118345, 655.8022303401397, 1205.1877687555505, 1806.0393499446195, 946.6366741498418, 1509.3649969349644, 1023.9244780467574, 813.1234845243989, 775.413714346869, 713.8425244962689, 696.1301843775917, 666.7837031778846, 684.5913481043998, 690.8842472316247, 676.6979624581586, 679.5938822204317, 1418.055620995047, 665.0254312372183, 618.7975461082267, 540.298786501271, 530.8064412876979, 475.31964669635767, 454.9117115807603, 451.68324931402833, 414.02913192217665, 413.1647912889746, 411.3169590481548, 392.4028521086283, 339.91181632466845, 325.82981998656055, 315.620253939282, 291.32113241198186, 286.6424251467756, 285.4983253958088, 277.5376040678753, 266.9588920497018, 262.79033237440075, 255.88923738654765, 251.796599842843, 222.95190643729276, 222.62523339502573, 218.8251346433838, 215.50468706848866, 212.19357030939338, 210.69442711166445, 210.23934314613734, 319.2846897158904, 1858.9942587482133, 568.4087785574403, 686.3971569468206, 388.1681263192633, 302.4909929501303, 433.78811470447727, 816.6100379052305, 1194.9722091107733, 887.4604577238389, 986.8301026439731, 2635.1658165822937, 526.5916527351305, 471.46542921307685, 498.5355195650969, 641.2687017645492, 674.0916770700399, 666.0849394657063, 966.5932403588116, 780.5738603507461, 711.989009852967, 544.8416418128959, 539.8462773684583, 576.4180673721698, 552.5911323689767, 509.76693986520553, 461.590827641852, 2211.0655556678416, 2032.3789386564395, 1300.8437676405836, 936.5131340023128, 898.2200186954798, 839.5896275946179, 762.7285253407754, 633.3393916247372, 625.7726626946456, 619.2090452544654, 571.1276924318138, 544.9267934363606, 505.4897744737788, 464.9741044474788, 385.13731835920424, 382.29593194364054, 367.51824673285796, 359.9167120614595, 308.0590343820539, 306.9692027639897, 306.76372466189775, 1252.8322442450747, 289.5633680649735, 276.8643941844124, 276.8417715422856, 258.4598722694267, 257.22127171575795, 254.49886121866263, 238.16548795873655, 237.68234852649485, 717.6161436610577, 362.4533030529931, 1426.3113818545414, 523.0099864616982, 1549.4459434727482, 1075.6374139468662, 616.103248536125, 1111.2451039432024, 469.9027892077129, 1206.5512004110956, 1011.9997908774611, 682.8628398079343, 2295.2944906744647, 806.688808650448, 635.6997308755391, 734.1830226895257, 641.9552619292989, 1005.069852272669, 694.6669770406705, 796.2151791793272, 703.0101987392532, 642.8713263742638, 635.1993738254938, 621.8774708916878, 1407.677945907513, 949.2724857361746, 904.9572425670738, 833.0505114010043, 824.3744466510022, 782.4960449255248, 659.9523128986386, 566.0422124465408, 483.2698647219258, 478.9897161489871, 432.3676251526748, 403.5649274153295, 360.84856261896823, 331.90646563725227, 326.04109644717227, 305.3142080405421, 304.4535734872662, 290.16174139913727, 267.3669081154457, 262.3701290722899, 240.0915275981212, 239.5739829196958, 226.20737069682548, 225.06315646059596, 217.44210924168218, 216.00984764921864, 204.65429584931803, 190.66362021139048, 190.15757783215622, 182.97283418017489, 4419.763519710577, 331.4611483435261, 396.5103537352844, 257.3515603243632, 962.248803588877, 531.8604752697531, 531.1590505647358, 393.7494492183686, 429.5103521392992, 299.2288059414041, 1632.9024480777164, 360.8945326256162, 4367.639724210195, 757.8744623367368, 638.9277951522915, 488.8073498023552, 2083.368539308915, 780.4223391013387, 785.2695294698353, 1222.4003997614757, 1636.251478672864, 626.8924711867369, 673.5069984905657, 772.0520356402263, 673.947808920895, 566.8031669385131, 627.365926984106, 591.368942801413, 508.09276693914563, 503.9762371025712, 532.9517632536568, 1569.5084363858823, 819.9582284014145, 629.0494194185915, 515.2753153720492, 431.52906978533343, 423.8997528069451, 384.5057897193309, 352.26866142993316, 328.8087497183065, 290.63047762870497, 284.1444237679638, 283.05040612200446, 282.77704574323127, 275.19236518959843, 273.5411192564791, 268.60307416453344, 259.6531006312089, 259.0491508742525, 257.782760359984, 245.4708711767572, 224.0328221542563, 206.55768929727336, 194.96773324203005, 191.49466548708972, 187.87424540433014, 183.13770894165881, 169.6542302065131, 158.14615332132684, 153.67958903923736, 153.20325226922031, 894.4561744051491, 267.35396757626125, 970.0788375995887, 677.6394187891506, 599.2169241921296, 337.2625922711278, 366.5787919367574, 1247.1189916522073, 955.4023152964461, 537.0186040146054, 341.2040681379694, 474.8707090053054, 429.6786471812091, 847.894100815216, 306.7686988098742, 450.8101671479058, 352.57362670195675, 421.6963814600551, 417.3369363669379, 385.57311330180704, 516.2883729138576, 320.5022046236981, 340.6724090873626, 1475.9042993588428, 489.0492555806889, 455.48535727661084, 452.07975674759797, 414.13786159296217, 391.99631920861515, 341.09542711608793, 328.70386987479975, 295.5406361173667, 290.16535658993854, 271.2661810304157, 236.51022053214737, 213.88124817980375, 188.52670987413353, 185.93527617932492, 166.41655932701462, 157.46177311160685, 156.92951690884365, 156.7110635964345, 147.72952406787707, 146.62594027695948, 146.55782518686115, 143.291582473575, 142.37023878737511, 139.1974883177037, 137.00464049484933, 136.79212487820038, 133.78209806753893, 129.12747388371244, 128.01936705064364, 1021.2350913561876, 867.0544003855205, 294.9587034388918, 1917.4569930748175, 279.62075955235895, 560.8989542187971, 787.5883606924966, 218.76538307057496, 729.8516313974606, 197.19303185872792, 251.5368058957866, 597.0799809465002, 209.12123711385425, 373.30479940130215, 513.5629122329809, 235.5015628854414, 266.22343171254636, 271.2677207894459, 264.61257430913054, 229.05959604285675, 1957.0255176730623, 750.896682917853, 627.701116562837, 551.6387771595217, 542.8101940027257, 504.340233027224, 465.83938055903195, 415.98762887411254, 385.2201424133193, 338.021647094046, 329.35819767667897, 313.5127697146725, 287.4667287239682, 284.4062696536068, 274.2089952541664, 259.02534964981874, 256.6420636511109, 245.67859218118895, 219.21247091577604, 207.89585685334694, 194.38981741854715, 186.35588305738855, 163.36707257248887, 160.33638600369306, 157.57201932259244, 157.32162212827924, 153.49120544349248, 150.35832380000667, 148.86743322330253, 143.41463533259278, 389.1418944556508, 654.9084502116506, 193.7311719048611, 452.1142023049453, 365.4781305372303, 1018.6734603692091, 398.2275887535087, 404.6647961560884, 355.38457377417427, 432.52422646889056, 334.2255155635575, 215.91451056521154, 1088.523367826621, 500.1230914876834, 434.93915070907707, 371.3211789603053, 360.9878691074752, 360.9267943820502, 359.1542386639411, 346.6274394414881, 305.8025116548822, 287.4519936632895, 280.3512331543219, 251.35933600831245, 288.5979003707291, 234.48171820504615, 231.69482647644517, 223.28098659987435, 222.32146263676572, 205.52310855428064, 203.92466890025105, 179.63692790726972, 179.19512320045573, 167.34501995493665, 151.30204014591504, 150.74192528218094, 146.5685855512653, 137.86551886530316, 132.37463420505017, 125.85556757002591, 124.76902015880857, 121.53904395875026, 280.80214597333145, 305.69272418590594, 495.97480246893497, 249.2328845227717, 256.99228815849193, 244.51371155696077, 264.76955404114875, 197.45951575445622, 323.5679049141261, 232.93698782248376, 538.6191199137886, 236.2284335689741, 619.9914511512495, 560.1807591523907, 489.0077892468466, 440.31553480722175, 376.50767374669954, 373.0951308845422, 319.59513807624865, 277.11592448799286, 237.97173299994105, 211.83355234333516, 187.3251916077436, 156.85596798713064, 154.65815891683573, 149.84438691250762, 149.7581721143615, 148.57029691161594, 148.17696496672968, 147.75290475922355, 147.4625519546004, 134.42790044755603, 133.86385734691348, 132.22025171404437, 131.6443959258661, 130.74094172559748, 127.34628337420277, 124.10772306941455, 114.07284500780172, 112.58442091991992, 104.12946435783428, 103.79784352197096, 567.4401138939137, 204.2075587665837, 259.2250745891671, 310.4378103149743, 227.27346051633177, 363.6923079812265, 209.18434076722937, 175.36991169508846, 140.95777081699035, 194.2742978219944, 137.5143851295107, 144.17658814939935, 482.09205932495314, 437.27394320094527, 418.46376730415534, 389.1249755212541, 289.66631530164807, 271.84979171534167, 265.56450742837666, 260.85699151771723, 243.2394967096952, 224.6095643182094, 223.25596542499386, 173.64502144577355, 155.9705006882442, 135.66721984625013, 130.19598206935854, 127.9656037981885, 126.38009649469433, 125.67069843858802, 123.03924702329938, 114.02777431433006, 104.78720342003886, 100.75053144079034, 93.59146174630557, 93.12230549833046, 91.60560547204705, 90.9593293918928, 88.52511253433926, 87.91739598315914, 86.0570973174018, 85.24299676454079, 308.0587836842869, 122.68163508899296, 112.35182100145802, 311.1240257473254, 196.3013036440705, 249.49603023364094, 189.4405069030742, 131.24761148241168, 159.63351002526014, 128.14155630615483, 145.81011073992983, 142.55805356861129, 129.96516532339004, 477.02585181369165, 362.40613790168055, 295.18147553642973, 268.3399451615217, 266.85629218522394, 259.58445527819913, 244.2283986513746, 214.9407104645205, 209.52250600451978, 205.18655511611644, 191.78945236097593, 189.5709505435255, 182.37256363238097, 169.4835156685264, 157.53324854053318, 156.2267867529559, 151.89195434032106, 144.08433675644608, 139.8163153137996, 138.14943753637888, 131.19750522163736, 129.35884393191824, 121.15922624429656, 120.21587915415093, 118.29395811777455, 114.24465512472129, 112.3189784724617, 111.76868839435774, 109.29457894944463, 107.74189857411272, 175.41921526574902, 186.03164171717333, 134.27921380123325, 661.0384703275404, 146.78001727722437, 157.57274407478064, 147.31506940563818, 133.52166708485186, 577.5511792061268, 445.3293182063564, 428.71988226200773, 370.57443472096344, 261.9446402235799, 258.391226234732, 229.91049886604853, 228.3508432619589, 227.54339055624808, 224.51751153758806, 221.81409918582833, 197.684289159896, 194.62002837324098, 191.7646042816403, 181.74993368348214, 171.27270794988715, 164.95000453839359, 162.08780132932887, 155.08571071645272, 145.54797097047134, 142.15271977363403, 137.7798600227382, 137.00666179880162, 132.55985982109567, 127.36360646915811, 119.42060426014284, 114.04235154287628, 113.77409787710762, 110.08578942001553, 106.85649700027241, 203.06818449552233, 348.9265991686857, 176.99498093987353, 182.45701557356344, 176.95651941755543, 201.47064558795714, 207.3758749951498, 142.4248913705253, 161.93794295621177, 185.48265532925416, 492.72703037014895, 455.48111358156336, 442.43355799610333, 382.45497079280045, 323.887170225782, 220.2975543491704, 212.74532213108722, 195.25648346103435, 192.34340948898796, 192.2190820037913, 174.08331864530518, 158.38369842552925, 126.9453886989375, 120.8660788664576, 119.40005215869581, 116.43078634367028, 106.37884758030535, 105.4776506033995, 103.36926211175724, 101.59227672460648, 96.60140158427981, 92.52971376846175, 88.34610882134312, 87.04395477156872, 84.09345378487781, 82.69792348590174, 81.100505655425, 77.93177372757249, 76.37645312386435, 75.81292974605012, 109.72204762242266, 301.9560220508893, 215.64630300640476, 401.60883106323774, 157.09903084432722, 275.840849029686, 342.4474983228187, 119.08294428891772, 123.7143857209154, 112.28845282157604, 103.7314764858464, 780.274478788089, 607.8062274783581, 489.6256663664252, 384.0290233293078, 350.05680909139255, 324.2039606463133, 312.46345576592887, 253.69729153430214, 219.94787707969795, 198.214728600037, 181.27790827789855, 178.90694940690202, 170.83757771178463, 161.23840042747196, 155.15747582670718, 138.6741906422573, 143.90440477345817, 148.7011642120169, 115.1752740928646, 106.6442850534399, 101.69241107739442, 97.04147638280227, 96.49487942311828, 95.79160668859642, 92.06956508981403, 84.84989466663576, 84.67231901278271, 84.32076458891866, 80.09805746080967, 79.30154176625713, 319.72298518247453, 436.1961219232555, 173.40185399445622, 174.0512079738299, 176.81511562254684, 100.58501938631409, 102.06791885001012, 100.11870970433273, 1119.2307304065844, 381.1577224661077, 299.3491814234697, 282.03460735788923, 191.61951780457116, 181.87520983597807, 148.29249353158724, 123.54422619516072, 117.67907858173665, 110.92919774534437, 110.87505899898771, 108.18314930539972, 101.4753953679004, 96.15149852561093, 95.0051189012037, 90.13279405136713, 89.94429518761245, 89.88045127858243, 88.80797954351264, 81.49056027265303, 78.49094737131252, 76.75913969039742, 74.86553942963342, 73.41964105684079, 73.09204910022943, 72.36863003359804, 71.95828789595296, 71.02681440451114, 70.63205520411627, 68.56873847408475, 322.2912633094086, 378.96189523814894, 147.7876712935858, 153.6813363656399, 201.29964867633115, 207.83805777711248, 150.0118622011886, 115.01202128094519, 98.36653104026843, 79.07909218990675, 481.7308596873908, 431.7581194955039, 422.9767101982882, 353.40794459698736, 307.2144395190621, 281.88758684358936, 256.5138344745149, 241.7457515434836, 233.01181669101655, 198.60330471909418, 167.7998782635687, 166.94896740104957, 166.60004419038884, 159.10832720283335, 154.17655182436573, 149.72878259758363, 133.18192697365092, 132.91677784804222, 123.41581295760683, 119.60448209744615, 111.07854147437617, 107.7238832434921, 106.94303454580185, 103.57626548717577, 100.23949022769652, 97.9004336951616, 95.09265939145345, 93.2418129047084, 86.74788854067329, 83.45555796632455, 749.7986701497057, 128.7262343917698, 230.35549752529428, 977.9990469880817, 713.3361724273094, 369.4716722343848, 273.01442396608263, 264.86223237823276, 239.25121736629254, 211.53864862544552, 184.8764620253398, 182.94258395028487, 179.7987064024573, 169.63768391995737, 162.20852190602798, 147.38806156406167, 145.62565742763536, 144.8630661110987, 131.48595398430913, 129.08219084428035, 128.26365302726686, 126.27038765258436, 125.35526913559971, 125.13078305767476, 119.74199259727716, 115.47625067873274, 106.45809484748011, 95.82802888075099, 94.15854121662883, 89.30346934830662, 88.55408265708218, 74.49651153634092, 73.56988645076778, 313.41363624223817, 265.89908964612187, 421.6278121991338, 112.85612681115443, 137.24990326639454, 1872.2651965923098, 1588.2161893644109, 599.975310157457, 577.2082064531262, 370.3781936171459, 183.4725266861979, 162.83822462144857, 150.11830444718495, 125.39288566679126, 124.1787907339814, 116.12523694784663, 115.46182464481127, 114.60452460018624, 106.83227695145592, 104.96648776449464, 98.4843199558453, 94.04719975568945, 89.42375090400851, 88.56619548471913, 82.43337292047472, 69.95539470321154, 69.02423300923896, 66.88284348451658, 61.24932216758047, 60.40728623146428, 59.59117812019809, 58.32638402009676, 54.33060231486188, 54.023488743520616, 52.37702626292727, 399.41184135639105], \"Total\": [11523.0, 12167.0, 4562.0, 9849.0, 8645.0, 6163.0, 5692.0, 1873.0, 3517.0, 3552.0, 6591.0, 5938.0, 6359.0, 1589.0, 5979.0, 1958.0, 2846.0, 5675.0, 5696.0, 3403.0, 4787.0, 2212.0, 6344.0, 5373.0, 2033.0, 1538.0, 2326.0, 1476.0, 3489.0, 2332.0, 5692.966887615033, 2896.5596725614887, 2451.686107421914, 1559.0620488843515, 1377.0064274340773, 1085.1328994987591, 961.2983178774672, 937.2307769583235, 885.299293171174, 564.7859016965991, 497.4466827781919, 494.4722471826808, 489.7083091726864, 461.2230502734212, 426.48049982985, 422.0447025571115, 413.64001782266007, 408.7840434349469, 400.8731930946828, 387.5874464466005, 374.78997107173154, 368.49231860660404, 357.7098770180963, 341.4065474531479, 338.9622638775311, 302.73117276346767, 301.7270755700921, 274.29291712399856, 261.7192562156007, 256.5028482401279, 1874.1240590707412, 1863.0600105448455, 3489.4094607380216, 1638.974301969083, 988.8094873867014, 1776.0258823913357, 3523.0213594089264, 4787.985301542397, 711.1601624264891, 5675.563829442875, 1029.4502691419298, 3820.338279573394, 1504.359476547935, 707.3806905815709, 1526.6417552448318, 756.6394211470932, 4438.698240741283, 5696.498458128516, 1992.8954838313236, 6591.012995930077, 3361.401904463279, 3017.342381583808, 6344.87946375108, 2973.7556438394795, 12167.521273822525, 5373.69654417062, 3368.3974063640826, 2115.0296493168175, 3055.994490527068, 5979.671394660488, 9849.186970729363, 5938.195584517935, 2790.481032165919, 2735.9059985398603, 6359.3055605688, 2259.083560715342, 4378.332370619468, 3552.762270797132, 2326.602126009587, 1026.7891572775427, 808.2028050683654, 695.2152885502541, 681.4836209708317, 612.3466790944851, 612.1919681715582, 597.3105992486595, 546.5283054813921, 537.3535166675695, 521.4479111253518, 505.7512773751286, 451.064929319872, 438.9912164347625, 342.0935432782697, 323.97031317853, 276.3487844023117, 265.5569139358909, 263.15381491198804, 249.5057639040797, 216.7641194036234, 214.57317674312557, 208.0739635200316, 162.76983024124138, 158.77500208196443, 152.22383199646748, 150.47519585644358, 149.4022805571121, 148.6624678127686, 561.3791203532983, 11523.705922657035, 342.9313351354949, 583.134493115132, 638.5518828768658, 1781.5761850775802, 6163.14069913422, 564.5284856132068, 353.59779863229164, 2332.525945549442, 2954.2222937811384, 2074.355147578086, 3130.2308093996417, 9849.186970729363, 6359.3055605688, 2846.395592662743, 1195.3816075957702, 8645.874884398305, 945.7401527527046, 1719.937079547439, 3403.0378847189227, 3352.9593734132463, 1999.8217624433391, 1468.1714150827202, 5373.69654417062, 1244.9452546531675, 3035.8137599069632, 2892.9384111000854, 2846.3313364938613, 3368.3974063640826, 6344.87946375108, 2266.9742707807623, 2358.4806691758376, 5696.498458128516, 2443.7226056087356, 12167.521273822525, 2047.5134958041913, 1261.200093831207, 772.1591896367431, 735.6811492598725, 730.0966658421607, 715.2775193120357, 628.7022535511584, 616.5336155069411, 611.2665366286167, 605.5306670966186, 500.34587189094816, 497.9023856923344, 478.666559540478, 410.20602270184776, 404.44547854593026, 332.3392407024025, 303.1146305952634, 296.9345894964677, 279.63885324763936, 271.3879771963454, 267.98128931076576, 241.46187808203877, 235.04354714133723, 230.3858654410167, 224.36575058344135, 222.157841968574, 218.72490771876025, 217.33547710088632, 212.98127695118015, 209.67581912885547, 1479.2923742947378, 1227.7196632977368, 353.5396916192258, 1166.0701165841572, 2443.589272428976, 2400.9595881807372, 798.1494393295039, 717.1989946109504, 1130.4071629354792, 702.5685138835067, 921.8174056362177, 724.2740329727908, 580.9582869947799, 2358.4806691758376, 881.7447867065608, 920.43147307209, 2645.451335245499, 5409.596271299989, 2064.3359966009075, 6591.012995930077, 2900.3700643344746, 1722.098450120134, 1813.812856564344, 1659.1425860525712, 1543.7611273928082, 1704.7350953519033, 2627.5218513189793, 5979.671394660488, 5675.563829442875, 9849.186970729363, 1419.0291698247115, 665.9989800668825, 619.7710949378909, 541.2723353309352, 531.7799901173621, 476.2931976524394, 455.88526041042456, 452.6567981482488, 415.00268076055755, 414.13834012391646, 412.29050787781904, 393.37640093829253, 340.8853651543327, 326.8033688162248, 316.59380276894626, 292.2946812458176, 287.6159739764399, 286.4718742254731, 278.51115294582377, 267.932440879366, 263.76388125534686, 256.8627862162119, 252.7701486937331, 223.92545527174084, 223.5987822299675, 219.7986834780583, 216.4782358981528, 213.1671191424533, 211.6679759413286, 211.21289198442807, 321.0033527115874, 1930.1529730592, 587.808275933045, 716.7690787656761, 399.1676448709784, 309.0110731338445, 455.8782897235346, 962.0534269122363, 1600.5608455841248, 1137.880329966696, 1472.1600046753988, 5938.195584517935, 719.6759243276334, 623.4217606152584, 688.4199748988527, 1079.0987435603183, 1237.1977713877766, 1232.1468518432225, 2735.9059985398603, 2032.6571957194428, 1899.4004220867075, 1015.645555597656, 1195.678567897372, 1659.1425860525712, 1479.5830294305033, 1211.8288768389837, 2256.0530943703898, 2212.0317592012198, 2033.3451421898183, 1301.8099711739624, 937.4793375399031, 899.186222232495, 840.5558311369922, 763.694728874154, 634.3055951729731, 626.7388662280242, 620.175248787844, 572.0938959651924, 545.89299702723, 506.4559780071574, 465.94030798085737, 386.1035218925828, 383.2621355282154, 368.48445026623654, 360.8829156071165, 309.02523791944157, 307.9354062973683, 307.72992820292194, 1256.8387356809192, 290.52957160685634, 277.83059773169106, 277.80797507566416, 259.4260758687982, 258.1874752688918, 255.46506475204112, 239.13169152434187, 238.64855205987334, 743.1787736223461, 368.17201513033905, 1628.4069106920244, 565.4386472579913, 1910.2110342189983, 1276.4884105043811, 685.2747777558329, 1397.223924258409, 518.9080453370708, 1674.7803347954923, 1633.8091748722186, 1061.587317113104, 8645.874884398305, 1468.8220523473572, 985.6425038914947, 1549.5742203715495, 1211.8288768389837, 4378.332370619468, 1704.7350953519033, 3403.0378847189227, 2266.9742707807623, 1719.937079547439, 5409.596271299989, 2256.0530943703898, 1408.6517946794681, 950.2463345081295, 905.9310913390286, 834.0243601816672, 825.3482954282347, 783.4698936974796, 660.9261616705935, 567.0160612184957, 484.2437134938807, 479.9635649296501, 433.34147392990735, 404.5387762015816, 361.8224114024595, 332.8803144292369, 327.0149453010702, 306.288056812497, 305.42742227026594, 291.13559018912144, 268.3452164433275, 263.34397784880105, 241.06537637007605, 240.54783169165066, 227.18121950015586, 226.03700523255083, 218.41595801363704, 216.9836964211735, 205.62814462544443, 191.63746898334534, 191.1314266169309, 183.94668296615876, 4562.677343201932, 334.2728802342788, 400.9802806040973, 259.8526747114321, 1027.1424873677506, 581.5589375206991, 581.8024525720465, 421.2826381839707, 501.03263566417326, 318.0899921997712, 2725.368991479805, 404.23832166058634, 12167.521273822525, 1140.5350863343178, 917.7289497003233, 637.4929918367083, 5979.671394660488, 1373.5592075556212, 1427.0373957843315, 3150.429272801028, 5409.596271299989, 1057.4769588260344, 1229.5508416503712, 2032.6571957194428, 1612.0267156998962, 1106.219164437842, 1963.234087987961, 2259.083560715342, 891.7201915953814, 963.9259567827269, 2900.3700643344746, 1570.4823155005124, 820.9321075279538, 630.0232985423164, 516.2491944866791, 432.50294890737405, 424.8736319215751, 385.4796688339609, 353.24254054456316, 329.782628873679, 291.60435678962983, 285.1183028825938, 284.02428525357766, 283.75092485786126, 276.166244316197, 274.5149984024587, 269.57695327916343, 260.62697974583887, 260.0230299888825, 258.756639474614, 246.44475029539623, 225.0067012791742, 207.53156842725906, 195.9416124009008, 192.46893128654412, 188.8481245690229, 184.11158806945787, 170.62810932114297, 159.12003244716064, 154.6534681755455, 154.17713140975906, 925.5557730023282, 271.8993135548837, 1030.8210954660724, 719.3101907170981, 643.8675224101582, 350.5967263571282, 385.06615892698466, 1492.1868794036257, 1247.358564802681, 671.6533509772866, 400.0532198846678, 664.7688832729982, 646.2203419184324, 2443.7226056087356, 365.215528335913, 1219.5594748888118, 626.9340082226232, 1338.2643046261799, 1511.1568789618966, 1113.29838005309, 8645.874884398305, 1090.1795468235814, 3517.6235107400057, 1476.879074831154, 490.02403105299993, 456.46013274892186, 453.054532219909, 415.1126370694447, 392.9710946849353, 342.07020258839896, 329.6786454278805, 296.5154116183914, 291.14013209636505, 272.2409565027267, 237.4849960044583, 214.85602367210092, 189.50148536249964, 186.9100516558074, 167.39133481275084, 158.43654858391778, 157.9042923811546, 157.68583906874545, 148.7042995789034, 147.60071574927042, 147.53260066280862, 144.26635794588594, 143.3450142638576, 140.1722638315199, 137.97941596716026, 137.76690035472305, 134.75687356801413, 130.1022494181232, 128.99414252295458, 1046.8258274697373, 1098.3383023475217, 346.99125228465886, 3517.6235107400057, 348.76408303333017, 940.0029670013853, 1538.315435278909, 266.3156070447707, 1661.834958494044, 231.7904310802283, 378.0150287303677, 2266.9742707807623, 288.27138168140095, 1228.1726957094056, 2790.481032165919, 472.65279767302343, 872.6035518861158, 951.777066360974, 1338.2643046261799, 524.150500119901, 1958.0018173752014, 751.8729826356196, 628.6774162744654, 552.6150768616608, 543.7864937048647, 505.316532729363, 466.815680261171, 416.9639285762516, 386.19644211545835, 338.99794679618503, 330.3344973883104, 314.48906941681156, 288.4430284492755, 285.38256935574583, 275.1852950241491, 260.0016494611556, 257.6183633696157, 246.6548918833279, 220.188770617915, 208.8721565554859, 195.3661171206861, 187.33218276529468, 164.34337227994874, 161.31268570583202, 158.5483190247314, 158.2979218304182, 154.46750514980297, 151.33462353262115, 149.84373295508658, 144.39093503890328, 415.7185654686044, 1195.678567897372, 226.62315758659497, 1028.589924116555, 928.3645595306614, 8645.874884398305, 1279.0091426686827, 1600.5608455841248, 1674.7803347954923, 3403.0378847189227, 1468.1714150827202, 2443.7226056087356, 1089.4974017764137, 501.0971254374759, 435.91335868381464, 372.2952129100978, 361.9619030625886, 361.9008283736193, 360.128272626696, 347.60147340911834, 306.7765456099956, 288.426027613082, 281.3252671041144, 252.33336995810487, 289.7704796067735, 235.45575215483856, 232.66886045785202, 224.25502056839628, 223.29549658655813, 206.49714250407305, 204.89870285004346, 180.61096186577026, 180.16915715525852, 168.31905390472906, 152.27607413174138, 151.71595923197336, 147.54261950105771, 138.8395528468156, 133.3486681849621, 126.8296015232141, 125.74305424962792, 122.51307790854267, 283.07302287554927, 317.8682530499305, 574.5655242520429, 272.3297403736537, 333.45535002748466, 345.299703240896, 441.68041306348033, 257.2493765027518, 872.6035518861158, 386.611185124952, 3403.0378847189227, 472.65279767302343, 620.9656183569168, 561.1549263703365, 489.98195645251394, 441.2897020315847, 377.4818409618562, 374.06929809020954, 320.5693052860875, 278.0900916936602, 238.94590020560835, 212.82898079673646, 188.29935882136286, 157.8301352284555, 155.63232612613956, 150.81855413241, 150.73233932873694, 149.54446412091977, 149.1511321776746, 148.72707196489085, 148.4367193020421, 135.40206766034873, 134.83802455258078, 133.19441891971167, 132.61856315267, 131.7151089562223, 128.32045057987008, 125.08189027508185, 115.04701221346902, 113.55858812558722, 105.10363156713812, 104.77201072763826, 616.3905794219222, 253.4296708765978, 349.45786260807137, 638.1004503201275, 552.2475577036126, 2332.525945549442, 963.6782729299566, 506.8804870153881, 185.06891890332335, 1338.2643046261799, 164.19421858607063, 705.5084616520662, 483.06836071448924, 438.2502446060429, 419.44006869369144, 390.1012769150019, 290.6426166911842, 272.82609310487777, 266.54080891397376, 261.8332929130205, 244.21579819062651, 225.58586570774546, 224.2322668145299, 174.6213228909207, 156.94680207778023, 136.64352123578618, 131.17228354468602, 128.94190522594286, 127.35639790350591, 126.64699991988975, 124.01554843639028, 115.00407570386612, 105.76350486979031, 101.72683296285992, 94.56776313584163, 94.09860692076651, 92.58190686158311, 91.93563078142886, 89.50141394039866, 88.8936973726952, 87.03339878281442, 86.21929815407685, 317.53640363806045, 132.87713817879637, 128.72441265861542, 1079.0987435603183, 520.6887766117626, 1137.880329966696, 693.2794511370518, 262.082144483694, 523.1037670025303, 302.67343502182905, 685.815208915604, 591.4997107209999, 1781.5761850775802, 478.0006580741501, 363.38094415418703, 296.1562817889362, 269.31475144628297, 267.8310984884162, 260.5592615307056, 245.20320490388102, 215.91551675960633, 210.4973122570262, 206.16136136862286, 192.76425861348235, 190.54575679603192, 183.3473699110018, 170.45832192103282, 158.5080548517522, 157.20159302151154, 152.86676060387225, 145.0591430089525, 140.79112157031517, 139.12424382081508, 132.1723114937551, 130.33365019852732, 122.13403250872831, 121.19068546308671, 119.26876437028096, 115.2194613772277, 113.2937847249681, 112.74349469552983, 110.26938520195104, 108.71670483906546, 186.00346724378352, 203.94395028409346, 143.08830720324508, 1483.2437535455247, 203.15550493847113, 275.4889842851466, 276.8912997189573, 2443.7226056087356, 578.5288032513886, 446.3069422516183, 429.69750630726963, 371.5520587696211, 262.9222642688418, 259.3688503385555, 230.88812293086488, 229.3284673072207, 228.5210146357443, 225.49513558284988, 222.79172323109015, 198.66191320515782, 195.5976524385925, 192.74222834266598, 182.72755772874396, 172.25033202079376, 165.92762859261285, 163.06542542256128, 156.06333477807266, 146.52559505536385, 143.13034381889585, 138.75748406800002, 137.98428584406344, 133.53748390948607, 128.34123052962573, 120.39822831205237, 115.0199756163513, 114.75172192236944, 111.06341346862632, 107.83412109332254, 207.03329871713785, 371.05802680969265, 194.21946159377433, 224.10713691775834, 251.56000810672265, 326.0672242987149, 730.8133092992736, 174.8517006893922, 408.3001832189257, 1468.1714150827202, 493.7070711412363, 456.46115435265074, 443.4135988153593, 383.4350115638878, 324.8672110118421, 221.27759512025773, 213.72536290217454, 196.23652423212167, 193.32345026007528, 193.19912277487862, 175.06335944517136, 159.36373920162694, 127.92542947002482, 121.84611963754492, 120.38009292978313, 117.41082713246972, 107.35888844328065, 106.45769139126108, 104.34930292587815, 102.5723174956938, 97.58144235536713, 93.50975454482668, 89.32614965048991, 88.02399572584598, 85.07349455596513, 83.67796428486018, 82.08054646722691, 78.91181452005156, 77.35649393672946, 76.79297060184098, 116.06526752278445, 405.6819205761677, 276.08047712398206, 1017.8223039410718, 236.27722013325027, 661.8317114751095, 1237.1977713877766, 229.6863088260796, 524.150500119901, 292.40346209262276, 237.06192915200435, 781.2510484962337, 608.7827972266522, 490.60223608029384, 385.0055930378988, 351.0333787942164, 325.18053034913714, 313.4400254687527, 254.6738612371259, 220.92444680023092, 199.19129830813836, 182.2544779956511, 179.88351911868318, 171.81414741988598, 162.21497014881558, 156.13404561508156, 139.65076034508104, 145.07611521394702, 149.94375514062338, 116.15184379568835, 107.62085482508246, 102.66898079867627, 98.01804608562603, 97.4714492423645, 96.76817648897257, 93.0461347979587, 85.826464379503, 85.64888890990795, 85.29733435476383, 81.07462725129722, 80.27811146908088, 457.16782056842294, 2846.395592662743, 468.9666979321431, 521.28741438643, 559.7658765327943, 132.56543541725614, 1101.8291908092622, 920.43147307209, 1120.2048058381602, 382.13179789768367, 300.32325685504566, 283.0086827894652, 192.59359327785714, 182.84928534474454, 149.2665689631631, 124.51830162673659, 118.65315455957393, 111.90327318854263, 111.84913444160837, 109.15722474098474, 102.4494708401894, 97.12557422629126, 95.97919433277957, 91.106869482943, 90.91837061918832, 90.85452671886642, 89.78205498379664, 82.4646357042289, 79.46502283057585, 77.73321514195952, 75.83961486120928, 74.39371653368026, 74.06612455190114, 73.34270548539517, 72.93236335153595, 72.00088985560681, 71.60613064233986, 69.54281390566062, 384.7219037794369, 605.6337038394051, 195.86564667625552, 234.83096569874127, 379.77320850358444, 558.4054575110044, 429.06718947393176, 302.83379910681106, 1048.9687007421433, 303.0195516504307, 482.71049687102584, 432.73775667443994, 423.95634737722423, 354.3875817759234, 308.1940766979982, 282.86722406638614, 257.49347166270616, 242.72538872576862, 233.9914538699526, 199.5829419380063, 168.77951544250476, 167.9286045857528, 167.5796813935186, 160.0879644269504, 155.1561890033018, 150.7084197765197, 134.16156415258698, 133.89641505768543, 124.39545013654288, 120.58411932474625, 112.05817870317247, 108.70352045298624, 107.92267177420665, 104.55590270706507, 101.21912743083463, 98.88007087409764, 96.0722965703895, 94.22145009487024, 87.72752571960933, 84.43519516500766, 1538.315435278909, 178.70695105805535, 1098.3383023475217, 978.9767270363417, 714.3138524755694, 370.4493522826449, 273.99210405146533, 265.83991242649284, 240.22889753039956, 212.5163286737056, 185.8541420735999, 183.92026404006901, 180.77638645599498, 170.61536401202815, 163.18620196295794, 148.36574161232176, 146.60333747589544, 145.84074616757556, 132.46363403878462, 130.0598709199833, 129.24133308848926, 127.24806772300968, 126.33294918385978, 126.10846315351965, 120.71967265424534, 116.45393074033133, 107.43577499804215, 96.80570892901106, 95.1362212648889, 90.28114945117456, 89.5317627253858, 75.47419162623399, 74.5475667317782, 318.5231549662408, 376.31529320044007, 1244.9452546531675, 163.6946708353654, 1628.4069106920244, 1873.2281784893235, 1589.1791712614245, 600.9382924371491, 578.1711884232799, 371.34117551779593, 184.43550862917655, 163.80120656378728, 151.08128642421326, 126.35586789145974, 125.14177268796118, 117.08821912050652, 116.42480654603652, 115.56750657975078, 107.79525886503218, 105.92946972729423, 99.44730187743895, 95.01018542482393, 90.38673285506383, 89.52917741329968, 83.39635486048952, 70.91837669769951, 69.98721497490978, 67.84582596430255, 62.21230410090735, 61.370268195328514, 60.55416004559287, 59.28936596749435, 55.29358452225595, 54.98647067807012, 53.34000817322844, 578.8895561901318], \"Category\": [\"Default\", \"Default\", \"Default\", \"Default\", \"Default\", \"Default\", \"Default\", \"Default\", \"Default\", \"Default\", \"Default\", \"Default\", \"Default\", \"Default\", \"Default\", \"Default\", \"Default\", \"Default\", \"Default\", \"Default\", \"Default\", \"Default\", \"Default\", \"Default\", \"Default\", \"Default\", \"Default\", \"Default\", \"Default\", \"Default\", \"Topic1\", \"Topic1\", \"Topic1\", \"Topic1\", \"Topic1\", \"Topic1\", \"Topic1\", \"Topic1\", \"Topic1\", \"Topic1\", \"Topic1\", \"Topic1\", \"Topic1\", \"Topic1\", \"Topic1\", \"Topic1\", \"Topic1\", \"Topic1\", \"Topic1\", \"Topic1\", \"Topic1\", \"Topic1\", \"Topic1\", \"Topic1\", \"Topic1\", \"Topic1\", \"Topic1\", \"Topic1\", \"Topic1\", \"Topic1\", \"Topic1\", \"Topic1\", \"Topic1\", \"Topic1\", \"Topic1\", \"Topic1\", \"Topic1\", \"Topic1\", \"Topic1\", \"Topic1\", \"Topic1\", \"Topic1\", \"Topic1\", \"Topic1\", \"Topic1\", \"Topic1\", \"Topic1\", \"Topic1\", \"Topic1\", \"Topic1\", \"Topic1\", \"Topic1\", \"Topic1\", \"Topic1\", \"Topic1\", \"Topic1\", \"Topic1\", \"Topic1\", \"Topic1\", \"Topic1\", \"Topic1\", \"Topic1\", \"Topic1\", \"Topic1\", \"Topic1\", \"Topic1\", \"Topic1\", \"Topic2\", \"Topic2\", \"Topic2\", \"Topic2\", \"Topic2\", \"Topic2\", \"Topic2\", \"Topic2\", \"Topic2\", \"Topic2\", \"Topic2\", \"Topic2\", \"Topic2\", \"Topic2\", \"Topic2\", \"Topic2\", \"Topic2\", \"Topic2\", \"Topic2\", \"Topic2\", \"Topic2\", \"Topic2\", \"Topic2\", \"Topic2\", \"Topic2\", \"Topic2\", \"Topic2\", \"Topic2\", \"Topic2\", \"Topic2\", \"Topic2\", \"Topic2\", \"Topic2\", \"Topic2\", \"Topic2\", \"Topic2\", \"Topic2\", \"Topic2\", \"Topic2\", \"Topic2\", \"Topic2\", \"Topic2\", \"Topic2\", \"Topic2\", \"Topic2\", \"Topic2\", \"Topic2\", \"Topic2\", \"Topic2\", \"Topic2\", \"Topic2\", \"Topic2\", \"Topic2\", \"Topic2\", \"Topic2\", \"Topic2\", \"Topic2\", \"Topic2\", \"Topic2\", \"Topic2\", \"Topic2\", \"Topic2\", \"Topic2\", \"Topic2\", \"Topic2\", \"Topic2\", \"Topic3\", \"Topic3\", \"Topic3\", \"Topic3\", \"Topic3\", \"Topic3\", \"Topic3\", \"Topic3\", \"Topic3\", \"Topic3\", \"Topic3\", \"Topic3\", \"Topic3\", \"Topic3\", \"Topic3\", \"Topic3\", \"Topic3\", \"Topic3\", \"Topic3\", \"Topic3\", \"Topic3\", \"Topic3\", \"Topic3\", \"Topic3\", \"Topic3\", \"Topic3\", \"Topic3\", \"Topic3\", \"Topic3\", \"Topic3\", \"Topic3\", \"Topic3\", \"Topic3\", \"Topic3\", \"Topic3\", \"Topic3\", \"Topic3\", \"Topic3\", \"Topic3\", \"Topic3\", \"Topic3\", \"Topic3\", \"Topic3\", \"Topic3\", \"Topic3\", \"Topic3\", \"Topic3\", \"Topic3\", \"Topic3\", \"Topic3\", \"Topic3\", \"Topic3\", \"Topic3\", \"Topic3\", \"Topic3\", \"Topic3\", \"Topic3\", \"Topic3\", \"Topic3\", \"Topic3\", \"Topic4\", \"Topic4\", \"Topic4\", \"Topic4\", \"Topic4\", \"Topic4\", \"Topic4\", \"Topic4\", \"Topic4\", \"Topic4\", \"Topic4\", \"Topic4\", \"Topic4\", \"Topic4\", \"Topic4\", \"Topic4\", \"Topic4\", \"Topic4\", \"Topic4\", \"Topic4\", \"Topic4\", \"Topic4\", \"Topic4\", \"Topic4\", \"Topic4\", \"Topic4\", \"Topic4\", \"Topic4\", \"Topic4\", \"Topic4\", \"Topic4\", \"Topic4\", \"Topic4\", \"Topic4\", \"Topic4\", \"Topic4\", \"Topic4\", \"Topic4\", \"Topic4\", \"Topic4\", \"Topic4\", \"Topic4\", \"Topic4\", \"Topic4\", \"Topic4\", \"Topic4\", \"Topic4\", \"Topic4\", \"Topic4\", \"Topic4\", \"Topic4\", \"Topic4\", \"Topic4\", \"Topic4\", \"Topic4\", \"Topic4\", \"Topic4\", \"Topic5\", \"Topic5\", \"Topic5\", \"Topic5\", \"Topic5\", \"Topic5\", \"Topic5\", \"Topic5\", \"Topic5\", \"Topic5\", \"Topic5\", \"Topic5\", \"Topic5\", \"Topic5\", \"Topic5\", \"Topic5\", \"Topic5\", \"Topic5\", \"Topic5\", \"Topic5\", \"Topic5\", \"Topic5\", \"Topic5\", \"Topic5\", \"Topic5\", \"Topic5\", \"Topic5\", \"Topic5\", \"Topic5\", \"Topic5\", \"Topic5\", \"Topic5\", \"Topic5\", \"Topic5\", \"Topic5\", \"Topic5\", \"Topic5\", \"Topic5\", \"Topic5\", \"Topic5\", \"Topic5\", \"Topic5\", \"Topic5\", \"Topic5\", \"Topic5\", \"Topic5\", \"Topic5\", \"Topic5\", \"Topic5\", \"Topic5\", \"Topic5\", \"Topic5\", \"Topic5\", \"Topic5\", \"Topic6\", \"Topic6\", \"Topic6\", \"Topic6\", \"Topic6\", \"Topic6\", \"Topic6\", \"Topic6\", \"Topic6\", \"Topic6\", \"Topic6\", \"Topic6\", \"Topic6\", \"Topic6\", \"Topic6\", \"Topic6\", \"Topic6\", \"Topic6\", \"Topic6\", \"Topic6\", \"Topic6\", \"Topic6\", \"Topic6\", \"Topic6\", \"Topic6\", \"Topic6\", \"Topic6\", \"Topic6\", \"Topic6\", \"Topic6\", \"Topic6\", \"Topic6\", \"Topic6\", \"Topic6\", \"Topic6\", \"Topic6\", \"Topic6\", \"Topic6\", \"Topic6\", \"Topic6\", \"Topic6\", \"Topic6\", \"Topic6\", \"Topic6\", \"Topic6\", \"Topic6\", \"Topic6\", \"Topic6\", \"Topic6\", \"Topic6\", \"Topic6\", \"Topic6\", \"Topic6\", \"Topic6\", \"Topic6\", \"Topic6\", \"Topic6\", \"Topic6\", \"Topic6\", \"Topic6\", \"Topic6\", \"Topic7\", \"Topic7\", \"Topic7\", \"Topic7\", \"Topic7\", \"Topic7\", \"Topic7\", \"Topic7\", \"Topic7\", \"Topic7\", \"Topic7\", \"Topic7\", \"Topic7\", \"Topic7\", \"Topic7\", \"Topic7\", \"Topic7\", \"Topic7\", \"Topic7\", \"Topic7\", \"Topic7\", \"Topic7\", \"Topic7\", \"Topic7\", \"Topic7\", \"Topic7\", \"Topic7\", \"Topic7\", \"Topic7\", \"Topic7\", \"Topic7\", \"Topic7\", \"Topic7\", \"Topic7\", \"Topic7\", \"Topic7\", \"Topic7\", \"Topic7\", \"Topic7\", \"Topic7\", \"Topic7\", \"Topic7\", \"Topic7\", \"Topic7\", \"Topic7\", \"Topic7\", \"Topic7\", \"Topic7\", \"Topic7\", \"Topic7\", \"Topic7\", \"Topic7\", \"Topic7\", \"Topic8\", \"Topic8\", \"Topic8\", \"Topic8\", \"Topic8\", \"Topic8\", \"Topic8\", \"Topic8\", \"Topic8\", \"Topic8\", \"Topic8\", \"Topic8\", \"Topic8\", \"Topic8\", \"Topic8\", \"Topic8\", \"Topic8\", \"Topic8\", \"Topic8\", \"Topic8\", \"Topic8\", \"Topic8\", \"Topic8\", \"Topic8\", \"Topic8\", \"Topic8\", \"Topic8\", \"Topic8\", \"Topic8\", \"Topic8\", \"Topic8\", \"Topic8\", \"Topic8\", \"Topic8\", \"Topic8\", \"Topic8\", \"Topic8\", \"Topic8\", \"Topic8\", \"Topic8\", \"Topic8\", \"Topic8\", \"Topic8\", \"Topic8\", \"Topic8\", \"Topic8\", \"Topic8\", \"Topic8\", \"Topic8\", \"Topic8\", \"Topic9\", \"Topic9\", \"Topic9\", \"Topic9\", \"Topic9\", \"Topic9\", \"Topic9\", \"Topic9\", \"Topic9\", \"Topic9\", \"Topic9\", \"Topic9\", \"Topic9\", \"Topic9\", \"Topic9\", \"Topic9\", \"Topic9\", \"Topic9\", \"Topic9\", \"Topic9\", \"Topic9\", \"Topic9\", \"Topic9\", \"Topic9\", \"Topic9\", \"Topic9\", \"Topic9\", \"Topic9\", \"Topic9\", \"Topic9\", \"Topic9\", \"Topic9\", \"Topic9\", \"Topic9\", \"Topic9\", \"Topic9\", \"Topic9\", \"Topic9\", \"Topic9\", \"Topic9\", \"Topic9\", \"Topic9\", \"Topic10\", \"Topic10\", \"Topic10\", \"Topic10\", \"Topic10\", \"Topic10\", \"Topic10\", \"Topic10\", \"Topic10\", \"Topic10\", \"Topic10\", \"Topic10\", \"Topic10\", \"Topic10\", \"Topic10\", \"Topic10\", \"Topic10\", \"Topic10\", \"Topic10\", \"Topic10\", \"Topic10\", \"Topic10\", \"Topic10\", \"Topic10\", \"Topic10\", \"Topic10\", \"Topic10\", \"Topic10\", \"Topic10\", \"Topic10\", \"Topic10\", \"Topic10\", \"Topic10\", \"Topic10\", \"Topic10\", \"Topic10\", \"Topic10\", \"Topic10\", \"Topic10\", \"Topic10\", \"Topic10\", \"Topic10\", \"Topic11\", \"Topic11\", \"Topic11\", \"Topic11\", \"Topic11\", \"Topic11\", \"Topic11\", \"Topic11\", \"Topic11\", \"Topic11\", \"Topic11\", \"Topic11\", \"Topic11\", \"Topic11\", \"Topic11\", \"Topic11\", \"Topic11\", \"Topic11\", \"Topic11\", \"Topic11\", \"Topic11\", \"Topic11\", \"Topic11\", \"Topic11\", \"Topic11\", \"Topic11\", \"Topic11\", \"Topic11\", \"Topic11\", \"Topic11\", \"Topic11\", \"Topic11\", \"Topic11\", \"Topic11\", \"Topic11\", \"Topic11\", \"Topic11\", \"Topic11\", \"Topic11\", \"Topic11\", \"Topic11\", \"Topic11\", \"Topic12\", \"Topic12\", \"Topic12\", \"Topic12\", \"Topic12\", \"Topic12\", \"Topic12\", \"Topic12\", \"Topic12\", \"Topic12\", \"Topic12\", \"Topic12\", \"Topic12\", \"Topic12\", \"Topic12\", \"Topic12\", \"Topic12\", \"Topic12\", \"Topic12\", \"Topic12\", \"Topic12\", \"Topic12\", \"Topic12\", \"Topic12\", \"Topic12\", \"Topic12\", \"Topic12\", \"Topic12\", \"Topic12\", \"Topic12\", \"Topic12\", \"Topic12\", \"Topic12\", \"Topic12\", \"Topic12\", \"Topic12\", \"Topic12\", \"Topic12\", \"Topic12\", \"Topic12\", \"Topic12\", \"Topic12\", \"Topic12\", \"Topic13\", \"Topic13\", \"Topic13\", \"Topic13\", \"Topic13\", \"Topic13\", \"Topic13\", \"Topic13\", \"Topic13\", \"Topic13\", \"Topic13\", \"Topic13\", \"Topic13\", \"Topic13\", \"Topic13\", \"Topic13\", \"Topic13\", \"Topic13\", \"Topic13\", \"Topic13\", \"Topic13\", \"Topic13\", \"Topic13\", \"Topic13\", \"Topic13\", \"Topic13\", \"Topic13\", \"Topic13\", \"Topic13\", \"Topic13\", \"Topic13\", \"Topic13\", \"Topic13\", \"Topic13\", \"Topic13\", \"Topic13\", \"Topic13\", \"Topic13\", \"Topic14\", \"Topic14\", \"Topic14\", \"Topic14\", \"Topic14\", \"Topic14\", \"Topic14\", \"Topic14\", \"Topic14\", \"Topic14\", \"Topic14\", \"Topic14\", \"Topic14\", \"Topic14\", \"Topic14\", \"Topic14\", \"Topic14\", \"Topic14\", \"Topic14\", \"Topic14\", \"Topic14\", \"Topic14\", \"Topic14\", \"Topic14\", \"Topic14\", \"Topic14\", \"Topic14\", \"Topic14\", \"Topic14\", \"Topic14\", \"Topic14\", \"Topic14\", \"Topic14\", \"Topic14\", \"Topic14\", \"Topic14\", \"Topic14\", \"Topic14\", \"Topic14\", \"Topic14\", \"Topic15\", \"Topic15\", \"Topic15\", \"Topic15\", \"Topic15\", \"Topic15\", \"Topic15\", \"Topic15\", \"Topic15\", \"Topic15\", \"Topic15\", \"Topic15\", \"Topic15\", \"Topic15\", \"Topic15\", \"Topic15\", \"Topic15\", \"Topic15\", \"Topic15\", \"Topic15\", \"Topic15\", \"Topic15\", \"Topic15\", \"Topic15\", \"Topic15\", \"Topic15\", \"Topic15\", \"Topic15\", \"Topic15\", \"Topic15\", \"Topic15\", \"Topic15\", \"Topic15\", \"Topic15\", \"Topic15\", \"Topic15\", \"Topic15\", \"Topic15\", \"Topic15\", \"Topic15\", \"Topic15\", \"Topic16\", \"Topic16\", \"Topic16\", \"Topic16\", \"Topic16\", \"Topic16\", \"Topic16\", \"Topic16\", \"Topic16\", \"Topic16\", \"Topic16\", \"Topic16\", \"Topic16\", \"Topic16\", \"Topic16\", \"Topic16\", \"Topic16\", \"Topic16\", \"Topic16\", \"Topic16\", \"Topic16\", \"Topic16\", \"Topic16\", \"Topic16\", \"Topic16\", \"Topic16\", \"Topic16\", \"Topic16\", \"Topic16\", \"Topic16\", \"Topic16\", \"Topic16\", \"Topic16\", \"Topic16\", \"Topic16\", \"Topic16\", \"Topic16\", \"Topic16\", \"Topic17\", \"Topic17\", \"Topic17\", \"Topic17\", \"Topic17\", \"Topic17\", \"Topic17\", \"Topic17\", \"Topic17\", \"Topic17\", \"Topic17\", \"Topic17\", \"Topic17\", \"Topic17\", \"Topic17\", \"Topic17\", \"Topic17\", \"Topic17\", \"Topic17\", \"Topic17\", \"Topic17\", \"Topic17\", \"Topic17\", \"Topic17\", \"Topic17\", \"Topic17\", \"Topic17\", \"Topic17\", \"Topic17\", \"Topic17\", \"Topic17\", \"Topic17\", \"Topic17\", \"Topic17\", \"Topic17\", \"Topic17\", \"Topic17\", \"Topic17\", \"Topic17\", \"Topic17\", \"Topic18\", \"Topic18\", \"Topic18\", \"Topic18\", \"Topic18\", \"Topic18\", \"Topic18\", \"Topic18\", \"Topic18\", \"Topic18\", \"Topic18\", \"Topic18\", \"Topic18\", \"Topic18\", \"Topic18\", \"Topic18\", \"Topic18\", \"Topic18\", \"Topic18\", \"Topic18\", \"Topic18\", \"Topic18\", \"Topic18\", \"Topic18\", \"Topic18\", \"Topic18\", \"Topic18\", \"Topic18\", \"Topic18\", \"Topic18\", \"Topic18\", \"Topic18\", \"Topic18\", \"Topic19\", \"Topic19\", \"Topic19\", \"Topic19\", \"Topic19\", \"Topic19\", \"Topic19\", \"Topic19\", \"Topic19\", \"Topic19\", \"Topic19\", \"Topic19\", \"Topic19\", \"Topic19\", \"Topic19\", \"Topic19\", \"Topic19\", \"Topic19\", \"Topic19\", \"Topic19\", \"Topic19\", \"Topic19\", \"Topic19\", \"Topic19\", \"Topic19\", \"Topic19\", \"Topic19\", \"Topic19\", \"Topic19\", \"Topic19\", \"Topic19\", \"Topic19\", \"Topic19\", \"Topic19\", \"Topic19\", \"Topic20\", \"Topic20\", \"Topic20\", \"Topic20\", \"Topic20\", \"Topic20\", \"Topic20\", \"Topic20\", \"Topic20\", \"Topic20\", \"Topic20\", \"Topic20\", \"Topic20\", \"Topic20\", \"Topic20\", \"Topic20\", \"Topic20\", \"Topic20\", \"Topic20\", \"Topic20\", \"Topic20\", \"Topic20\", \"Topic20\", \"Topic20\", \"Topic20\", \"Topic20\", \"Topic20\", \"Topic20\", \"Topic20\", \"Topic20\", \"Topic20\"], \"logprob\": [30.0, 29.0, 28.0, 27.0, 26.0, 25.0, 24.0, 23.0, 22.0, 21.0, 20.0, 19.0, 18.0, 17.0, 16.0, 15.0, 14.0, 13.0, 12.0, 11.0, 10.0, 9.0, 8.0, 7.0, 6.0, 5.0, 4.0, 3.0, 2.0, 1.0, -3.7488999366760254, -4.424799919128418, -4.591599941253662, -5.04449987411499, -5.168799877166748, -5.407199859619141, -5.528500080108643, -5.553800106048584, -5.610899925231934, -6.060999870300293, -6.188199996948242, -6.194200038909912, -6.20389986038208, -6.263999938964844, -6.34250020980835, -6.35290002822876, -6.3730998039245605, -6.384900093078613, -6.4045000076293945, -6.438300132751465, -6.4720001220703125, -6.488999843597412, -6.518700122833252, -6.565499782562256, -6.572700023651123, -6.686100006103516, -6.6894001960754395, -6.785099983215332, -6.832200050354004, -6.852399826049805, -4.864200115203857, -4.875199794769287, -4.2555999755859375, -5.016900062561035, -5.51800012588501, -4.949900150299072, -4.287499904632568, -3.992000102996826, -5.851500034332275, -3.884200096130371, -5.508600234985352, -4.284999847412109, -5.16949987411499, -5.872099876403809, -5.161499977111816, -5.810299873352051, -4.188000202178955, -3.972899913787842, -4.935200214385986, -3.862499952316284, -4.469099998474121, -4.607500076293945, -3.9914000034332275, -4.637499809265137, -3.608099937438965, -4.2743000984191895, -4.676400184631348, -4.998899936676025, -4.749599933624268, -4.403200149536133, -4.1371002197265625, -4.481900215148926, -4.881899833679199, -4.917900085449219, -4.6656999588012695, -4.989299774169922, -4.96619987487793, -3.621299982070923, -4.0447998046875, -4.86329984664917, -5.10290002822876, -5.253699779510498, -5.27370023727417, -5.380799770355225, -5.381100177764893, -5.405700206756592, -5.494699954986572, -5.51170015335083, -5.541800022125244, -5.572400093078613, -5.687099933624268, -5.714300155639648, -5.964300155639648, -6.018899917602539, -6.178400039672852, -6.218400001525879, -6.227499961853027, -6.281000137329102, -6.4222002029418945, -6.432400226593018, -6.4633002281188965, -6.71019983291626, -6.735199928283691, -6.777599811553955, -6.7891998291015625, -6.79640007019043, -6.801400184631348, -5.483500003814697, -2.5097999572753906, -5.973899841308594, -5.467100143432617, -5.382299900054932, -4.434800148010254, -3.3052000999450684, -5.540800094604492, -5.97130012512207, -4.27370023727417, -4.067200183868408, -4.404900074005127, -4.131400108337402, -3.2283999919891357, -3.6157000064849854, -4.28879976272583, -4.976399898529053, -3.469399929046631, -5.176599979400635, -4.815400123596191, -4.397200107574463, -4.414000034332275, -4.742400169372559, -4.942599773406982, -4.2758002281188965, -5.0843000411987305, -4.64870023727417, -4.674699783325195, -4.831699848175049, -4.7789998054504395, -4.604800224304199, -4.923299789428711, -4.9166998863220215, -4.757500171661377, -4.999300003051758, -4.857800006866455, -4.066999912261963, -4.551799774169922, -5.043000221252441, -5.091400146484375, -5.099100112915039, -5.11959981918335, -5.248799800872803, -5.268400192260742, -5.2769999504089355, -5.286399841308594, -5.477499961853027, -5.482500076293945, -5.521900177001953, -5.676599979400635, -5.690800189971924, -5.887700080871582, -5.980000019073486, -6.000699996948242, -6.0609002113342285, -6.091000080108643, -6.103600025177002, -6.208199977874756, -6.235300064086914, -6.25540018081665, -6.2820000648498535, -6.291900157928467, -6.307600021362305, -6.314000129699707, -6.3343000411987305, -6.349999904632568, -4.435699939727783, -4.620200157165527, -5.851399898529053, -4.7241997718811035, -4.059500217437744, -4.091800212860107, -5.1072998046875, -5.209799766540527, -4.816500186920166, -5.253799915313721, -5.0457000732421875, -5.299300193786621, -5.498199939727783, -4.47130012512207, -5.218699932098389, -5.204999923706055, -4.596499919891357, -4.191999912261963, -4.8379998207092285, -4.371399879455566, -4.759500026702881, -4.989999771118164, -5.037499904632568, -5.120200157165527, -5.145299911499023, -5.188399791717529, -5.162099838256836, -5.152900218963623, -5.173699855804443, -5.169400215148926, -4.270299911499023, -5.027599811553955, -5.099599838256836, -5.235300064086914, -5.252999782562256, -5.363399982452393, -5.407299995422363, -5.414400100708008, -5.501500129699707, -5.503499984741211, -5.507999897003174, -5.555099964141846, -5.698699951171875, -5.741000175476074, -5.772900104522705, -5.853000164031982, -5.869200229644775, -5.873199939727783, -5.901400089263916, -5.940299987792969, -5.955999851226807, -5.982600212097168, -5.998799800872803, -6.1203999519348145, -6.1219000816345215, -6.139100074768066, -6.154399871826172, -6.169899940490723, -6.177000045776367, -6.179100036621094, -5.761300086975098, -3.9995999336242676, -5.184599876403809, -4.9959001541137695, -5.565999984741211, -5.815299987792969, -5.454800128936768, -4.822199821472168, -4.441500186920166, -4.738999843597412, -4.632900238037109, -3.650700092315674, -5.261000156402588, -5.371500015258789, -5.315700054168701, -5.063899993896484, -5.013999938964844, -5.026000022888184, -4.653600215911865, -4.867400169372559, -4.9593000411987305, -5.226900100708008, -5.236100196838379, -5.170599937438965, -5.212800025939941, -5.293399810791016, -5.3927001953125, -3.7455999851226807, -3.829900026321411, -4.276100158691406, -4.604700088500977, -4.646399974822998, -4.713900089263916, -4.809999942779541, -4.995800018310547, -5.007900238037109, -5.018400192260742, -5.0991997718811035, -5.146200180053711, -5.22130012512207, -5.304900169372559, -5.493299961090088, -5.500699996948242, -5.54010009765625, -5.560999870300293, -5.716599941253662, -5.720099925994873, -5.720799922943115, -4.313700199127197, -5.778500080108643, -5.823299884796143, -5.823400020599365, -5.892099857330322, -5.896900177001953, -5.907599925994873, -5.973899841308594, -5.975900173187256, -4.8709001541137695, -5.553999900817871, -4.184000015258789, -5.187300205230713, -4.101200103759766, -4.46619987487793, -5.023399829864502, -4.433599948883057, -5.294300079345703, -4.35129976272583, -4.527200222015381, -4.920599937438965, -3.708199977874756, -4.753900051116943, -4.992099761962891, -4.848100185394287, -4.9822998046875, -4.533999919891357, -4.90339994430542, -4.767000198364258, -4.891499996185303, -4.980899810791016, -4.9928998947143555, -5.014100074768066, -4.090799808502197, -4.484799861907959, -4.532599925994873, -4.6153998374938965, -4.625899791717529, -4.677999973297119, -4.848299980163574, -5.001800060272217, -5.159900188446045, -5.168799877166748, -5.271200180053711, -5.340099811553955, -5.452000141143799, -5.535600185394287, -5.553500175476074, -5.619100093841553, -5.622000217437744, -5.670000076293945, -5.7519001960754395, -5.770699977874756, -5.859499931335449, -5.861599922180176, -5.919000148773193, -5.924099922180176, -5.958499908447266, -5.965199947357178, -6.019199848175049, -6.090000152587891, -6.092599868774414, -6.131100177764893, -2.9465999603271484, -5.5370001792907715, -5.357800006866455, -5.789999961853027, -4.471199989318848, -5.0640997886657715, -5.065400123596191, -5.364799976348877, -5.2778000831604, -5.6392998695373535, -3.9423999786376953, -5.451900005340576, -2.9584999084472656, -4.710000038146973, -4.88070011138916, -5.148499965667725, -3.698699951171875, -4.680600166320801, -4.6743998527526855, -4.231900215148926, -3.9402999877929688, -4.899700164794922, -4.828000068664551, -4.691400051116943, -4.827300071716309, -5.000500202178955, -4.898900032043457, -4.958000183105469, -5.109799861907959, -5.1178998947143555, -5.061999797821045, -3.6252999305725098, -4.274600028991699, -4.539700031280518, -4.739200115203857, -4.916500091552734, -4.9344000816345215, -5.031899929046631, -5.119500160217285, -5.188399791717529, -5.311800003051758, -5.334400177001953, -5.338200092315674, -5.339200019836426, -5.366399765014648, -5.372399806976318, -5.390600204467773, -5.424499988555908, -5.426799774169922, -5.431700229644775, -5.4807000160217285, -5.5721001625061035, -5.653299808502197, -5.710999965667725, -5.729000091552734, -5.7480998039245605, -5.773600101470947, -5.850100040435791, -5.920300006866455, -5.948999881744385, -5.952099800109863, -4.187600135803223, -5.395299911499023, -4.106500148773193, -4.465199947357178, -4.588200092315674, -5.163000106811523, -5.079699993133545, -3.855299949645996, -4.121699810028076, -4.697800159454346, -5.151400089263916, -4.820799827575684, -4.92080020904541, -4.241099834442139, -5.257800102233887, -4.872799873352051, -5.118599891662598, -4.939599990844727, -4.949999809265137, -5.029099941253662, -4.737199783325195, -5.214000225067139, -5.152900218963623, -3.33240008354187, -4.4369001388549805, -4.507999897003174, -4.515500068664551, -4.6031999588012695, -4.658199787139893, -4.7972002029418945, -4.834199905395508, -4.9405999183654785, -4.959000110626221, -5.026299953460693, -5.163400173187256, -5.263999938964844, -5.390200138092041, -5.4039998054504395, -5.514900207519531, -5.570199966430664, -5.573599815368652, -5.574999809265137, -5.633999824523926, -5.641499996185303, -5.642000198364258, -5.6645002365112305, -5.671000003814697, -5.69350004196167, -5.709400177001953, -5.710899829864502, -5.7332000732421875, -5.768599987030029, -5.777200222015381, -3.7005999088287354, -3.864300012588501, -4.942599773406982, -3.07069993019104, -4.995999813079834, -4.299900054931641, -3.960400104522705, -5.241399765014648, -4.036600112915039, -5.345200061798096, -5.101799964904785, -4.237400054931641, -5.286499977111816, -4.706999778747559, -4.388000011444092, -5.167699813842773, -5.045100212097168, -5.026299953460693, -5.05109977722168, -5.195400238037109, -3.00219988822937, -3.960099935531616, -4.1392998695373535, -4.268499851226807, -4.284599781036377, -4.358099937438965, -4.4375, -4.5507001876831055, -4.627500057220459, -4.758299827575684, -4.784200191497803, -4.833499908447266, -4.920300006866455, -4.931000232696533, -4.96750020980835, -5.024400234222412, -5.033699989318848, -5.077300071716309, -5.191299915313721, -5.24429988861084, -5.311500072479248, -5.353700160980225, -5.485400199890137, -5.5040998458862305, -5.521500110626221, -5.523099899291992, -5.547699928283691, -5.568299770355225, -5.5782999992370605, -5.615600109100342, -4.617400169372559, -4.09689998626709, -5.314899921417236, -4.467400074005127, -4.680200099945068, -3.655100107192993, -4.594299793243408, -4.5782999992370605, -4.708199977874756, -4.51170015335083, -4.769499778747559, -5.206500053405762, -3.290600061416626, -4.068299770355225, -4.208000183105469, -4.366099834442139, -4.3942999839782715, -4.394499778747559, -4.399400234222412, -4.434899806976318, -4.560200214385986, -4.622099876403809, -4.64709997177124, -4.75629997253418, -4.618199825286865, -4.825799942016602, -4.837800025939941, -4.874800205230713, -4.8790998458862305, -4.957600116729736, -4.965400218963623, -5.092299938201904, -5.094699859619141, -5.163099765777588, -5.263899803161621, -5.267600059509277, -5.2957000732421875, -5.356900215148926, -5.397600173950195, -5.4481000900268555, -5.456699848175049, -5.482999801635742, -4.645500183105469, -4.5605998039245605, -4.076700210571289, -4.764800071716309, -4.734099864959717, -4.783899784088135, -4.7042999267578125, -4.997700214385986, -4.503799915313721, -4.832399845123291, -3.9941999912261963, -4.818399906158447, -3.7862000465393066, -3.887700080871582, -4.023600101470947, -4.128499984741211, -4.284999847412109, -4.294099807739258, -4.44890022277832, -4.5914998054504395, -4.743800163269043, -4.860099792480469, -4.983099937438965, -5.160600185394287, -5.174699783325195, -5.206399917602539, -5.206900119781494, -5.214900016784668, -5.21750020980835, -5.220399856567383, -5.222400188446045, -5.314899921417236, -5.3190999031066895, -5.331500053405762, -5.3358001708984375, -5.342700004577637, -5.36899995803833, -5.394800186157227, -5.479100227355957, -5.492199897766113, -5.570300102233887, -5.573500156402588, -3.874799966812134, -4.8968000411987305, -4.658299922943115, -4.478000164031982, -4.78980016708374, -4.3196001052856445, -4.872700214385986, -5.049099922180176, -5.267499923706055, -4.946700096130371, -5.292200088500977, -5.244900226593018, -3.874300003051758, -3.9718000888824463, -4.0157999992370605, -4.088500022888184, -4.383699893951416, -4.4471001625061035, -4.4704999923706055, -4.488399982452393, -4.558300018310547, -4.638000011444092, -4.644100189208984, -4.895400047302246, -5.002699851989746, -5.142199993133545, -5.183300018310547, -5.2006001472473145, -5.213099956512451, -5.218699932098389, -5.2399001121521, -5.315899848937988, -5.4004998207092285, -5.439700126647949, -5.513500213623047, -5.518499851226807, -5.534900188446045, -5.541999816894531, -5.5690999031066895, -5.576000213623047, -5.597400188446045, -5.606900215148926, -4.3221001625061035, -5.242800235748291, -5.3308000564575195, -4.31220006942749, -4.77269983291626, -4.532899856567383, -4.808300018310547, -5.175300121307373, -4.979499816894531, -5.1992998123168945, -5.070099830627441, -5.092599868774414, -5.185100078582764, -3.832900047302246, -4.107699871063232, -4.31279993057251, -4.408199787139893, -4.413700103759766, -4.441299915313721, -4.502299785614014, -4.630099773406982, -4.655600070953369, -4.676499843597412, -4.74399995803833, -4.75570011138916, -4.794400215148926, -4.867700099945068, -4.940800189971924, -4.949100017547607, -4.97730016708374, -5.03000020980835, -5.060100078582764, -5.0721001625061035, -5.123700141906738, -5.137800216674805, -5.2032999992370605, -5.211100101470947, -5.22730016708374, -5.2621002197265625, -5.279099941253662, -5.283999919891357, -5.306399822235107, -5.320700168609619, -4.833199977874756, -4.774499893188477, -5.100500106811523, -3.5065999031066895, -5.011499881744385, -4.940499782562256, -5.007900238037109, -5.106200218200684, -3.612799882888794, -3.8726999759674072, -3.910799980163574, -4.05649995803833, -4.40339994430542, -4.417099952697754, -4.533899784088135, -4.5406999588012695, -4.5441999435424805, -4.557600021362305, -4.569699764251709, -4.684899806976318, -4.700500011444092, -4.7153000831604, -4.768899917602539, -4.8282999992370605, -4.865900039672852, -4.883399963378906, -4.927599906921387, -4.991099834442139, -5.014699935913086, -5.045899868011475, -5.051499843597412, -5.084499835968018, -5.124499797821045, -5.188899993896484, -5.235000133514404, -5.237299919128418, -5.270299911499023, -5.300099849700928, -4.6579999923706055, -4.116700172424316, -4.795400142669678, -4.764999866485596, -4.7957000732421875, -4.665900230407715, -4.63700008392334, -5.012700080871582, -4.884300231933594, -4.748600006103516, -3.705399990081787, -3.7839999198913574, -3.8131000995635986, -3.9588000774383545, -4.125, -4.51039981842041, -4.545300006866455, -4.631100177764893, -4.646100044250488, -4.6468000411987305, -4.7459001541137695, -4.840400218963623, -5.061600208282471, -5.1107001304626465, -5.122900009155273, -5.148099899291992, -5.238399982452393, -5.2469000816345215, -5.267099857330322, -5.28439998626709, -5.334799766540527, -5.377900123596191, -5.424099922180176, -5.439000129699707, -5.473499774932861, -5.490200042724609, -5.509699821472168, -5.549600124359131, -5.569699764251709, -5.577099800109863, -5.207499980926514, -4.195099830627441, -4.531799793243408, -3.909899950027466, -4.848499774932861, -4.285600185394287, -4.069300174713135, -5.1255998611450195, -5.087399959564209, -5.184299945831299, -5.263599872589111, -3.167099952697754, -3.4168999195098877, -3.6331000328063965, -3.8761000633239746, -3.9686999320983887, -4.045400142669678, -4.082300186157227, -4.290599822998047, -4.4334001541137695, -4.537399768829346, -4.626800060272217, -4.639900207519531, -4.686100006103516, -4.743899822235107, -4.782299995422363, -4.894700050354004, -4.857600212097168, -4.82480001449585, -5.0802998542785645, -5.157299995422363, -5.204800128936768, -5.251699924468994, -5.257299900054932, -5.264599800109863, -5.304200172424316, -5.385900020599365, -5.388000011444092, -5.392199993133545, -5.44350004196167, -5.453499794006348, -4.059299945831299, -3.748699903488159, -4.671199798583984, -4.667399883270264, -4.651700019836426, -5.215799808502197, -5.201200008392334, -5.220399856567383, -2.796799898147583, -3.874000072479248, -4.115600109100342, -4.17519998550415, -4.561699867248535, -4.613900184631348, -4.817999839782715, -5.0005998611450195, -5.049200057983398, -5.10830020904541, -5.108799934387207, -5.133399963378906, -5.197400093078613, -5.251299858093262, -5.263299942016602, -5.315899848937988, -5.317999839782715, -5.318699836730957, -5.330699920654297, -5.4166998863220215, -5.45419979095459, -5.476500034332275, -5.501500129699707, -5.520999908447266, -5.5254998207092285, -5.535399913787842, -5.541100025177002, -5.554100036621094, -5.559700012207031, -5.589399814605713, -4.0416998863220215, -3.8798000812530518, -4.821400165557861, -4.782299995422363, -4.512400150299072, -4.480400085449219, -4.80649995803833, -5.072199821472168, -5.228499889373779, -5.446700096130371, -3.600100040435791, -3.7095999717712402, -3.7302000522613525, -3.909899950027466, -4.049900054931641, -4.136000156402588, -4.230299949645996, -4.289599895477295, -4.326399803161621, -4.486199855804443, -4.654699802398682, -4.659800052642822, -4.661900043487549, -4.707900047302246, -4.7393999099731445, -4.768700122833252, -4.885799884796143, -4.887800216674805, -4.961900234222412, -4.993299961090088, -5.067299842834473, -5.097899913787842, -5.105199813842773, -5.137199878692627, -5.169899940490723, -5.19350004196167, -5.222599983215332, -5.242300033569336, -5.314499855041504, -5.3531999588012695, -3.1577000617980957, -4.9197998046875, -4.337900161743164, -2.7943999767303467, -3.109999895095825, -3.767899990081787, -4.070400238037109, -4.1006999015808105, -4.202400207519531, -4.325500011444092, -4.460299968719482, -4.470799922943115, -4.488100051879883, -4.546299934387207, -4.591100215911865, -4.6869001388549805, -4.69890022277832, -4.70419979095459, -4.801000118255615, -4.819499969482422, -4.825900077819824, -4.8414998054504395, -4.848800182342529, -4.850599765777588, -4.894599914550781, -4.9309000968933105, -5.012199878692627, -5.117400169372559, -5.135000228881836, -5.187900066375732, -5.196300029754639, -5.369200229644775, -5.381700038909912, -3.9323999881744385, -4.096799850463867, -3.6357998847961426, -4.953800201416016, -4.7581000328063965, -2.124500036239624, -2.289099931716919, -3.262500047683716, -3.3011999130249023, -3.7448999881744385, -4.447400093078613, -4.566699981689453, -4.6479997634887695, -4.828000068664551, -4.837699890136719, -4.904799938201904, -4.9105000495910645, -4.917900085449219, -4.9882001876831055, -5.005799770355225, -5.069499969482422, -5.115600109100342, -5.165999889373779, -5.1757001876831055, -5.247399806976318, -5.411600112915039, -5.425000190734863, -5.456500053405762, -5.54449987411499, -5.558300018310547, -5.571899890899658, -5.593400001525879, -5.664299964904785, -5.670000076293945, -5.701000213623047, -3.6693999767303467], \"loglift\": [30.0, 29.0, 28.0, 27.0, 26.0, 25.0, 24.0, 23.0, 22.0, 21.0, 20.0, 19.0, 18.0, 17.0, 16.0, 15.0, 14.0, 13.0, 12.0, 11.0, 10.0, 9.0, 8.0, 7.0, 6.0, 5.0, 4.0, 3.0, 2.0, 1.0, 1.5526, 1.5525, 1.5524, 1.5522, 1.5521, 1.5519, 1.5518, 1.5518, 1.5517, 1.5511, 1.5509, 1.5509, 1.5509, 1.5507, 1.5506, 1.5505, 1.5505, 1.5505, 1.5504, 1.5503, 1.5502, 1.5502, 1.5501, 1.55, 1.55, 1.5496, 1.5496, 1.5493, 1.5491, 1.549, 1.5485, 1.5435, 1.5355, 1.5299, 1.5341, 1.5165, 1.494, 1.4827, 1.5302, 1.4205, 1.5032, 1.4155, 1.463, 1.5149, 1.4563, 1.5094, 1.3625, 1.3281, 1.416, 1.2926, 1.3594, 1.3289, 1.2018, 1.3135, 0.934, 1.085, 1.15, 1.2928, 1.1741, 0.8493, 0.6163, 0.7775, 1.1327, 1.1165, 0.5252, 1.2366, 0.598, 2.1518, 2.1516, 2.1511, 2.1509, 2.1507, 2.1506, 2.1505, 2.1505, 2.1504, 2.1503, 2.1502, 2.1502, 2.1501, 2.1499, 2.1498, 2.1492, 2.149, 2.1485, 2.1484, 2.1483, 2.1481, 2.1476, 2.1475, 2.1474, 2.146, 2.1459, 2.1456, 2.1456, 2.1455, 2.1455, 2.1347, 2.0866, 2.1371, 2.113, 2.1071, 2.0286, 1.917, 2.0718, 2.1092, 1.9202, 1.8904, 1.9063, 1.7683, 1.525, 1.5752, 1.706, 1.8859, 1.4144, 1.92, 1.6832, 1.4189, 1.417, 1.6054, 1.7142, 1.0835, 1.7374, 1.2817, 1.3039, 1.1631, 1.0474, 0.5884, 1.299, 1.2661, 0.5434, 1.148, -0.3157, 2.2572, 2.2569, 2.2564, 2.2564, 2.2564, 2.2563, 2.2561, 2.2561, 2.2561, 2.2561, 2.2557, 2.2557, 2.2557, 2.2553, 2.2553, 2.2547, 2.2545, 2.2544, 2.2542, 2.2541, 2.254, 2.2536, 2.2535, 2.2534, 2.2533, 2.2533, 2.2532, 2.2532, 2.2531, 2.253, 2.2135, 2.2155, 2.2292, 2.163, 2.0879, 2.0731, 2.159, 2.1634, 2.1017, 2.14, 2.0765, 2.0641, 2.0857, 1.7115, 1.948, 1.9187, 1.4715, 1.1607, 1.4781, 0.7837, 1.2165, 1.5073, 1.4079, 1.4143, 1.4613, 1.319, 0.9127, 0.0996, 0.131, -0.4159, 2.4205, 2.4197, 2.4196, 2.4194, 2.4194, 2.4191, 2.4191, 2.419, 2.4188, 2.4188, 2.4188, 2.4187, 2.4183, 2.4182, 2.4181, 2.4179, 2.4178, 2.4178, 2.4177, 2.4176, 2.4175, 2.4174, 2.4173, 2.4168, 2.4168, 2.4168, 2.4167, 2.4166, 2.4166, 2.4166, 2.4158, 2.3836, 2.3876, 2.3779, 2.3933, 2.3999, 2.3715, 2.2573, 2.129, 2.1726, 2.0212, 1.6087, 2.1088, 2.1418, 2.0985, 1.9008, 1.814, 1.8061, 1.3808, 1.4641, 1.44, 1.7984, 1.626, 1.364, 1.4363, 1.5553, 0.8345, 2.5013, 2.5013, 2.501, 2.5007, 2.5007, 2.5006, 2.5005, 2.5002, 2.5002, 2.5002, 2.5, 2.5, 2.4998, 2.4997, 2.4992, 2.4992, 2.4991, 2.499, 2.4986, 2.4986, 2.4986, 2.4985, 2.4984, 2.4982, 2.4982, 2.498, 2.498, 2.4979, 2.4977, 2.4977, 2.4667, 2.4861, 2.3692, 2.4237, 2.2924, 2.3305, 2.3953, 2.2727, 2.4025, 2.1738, 2.0227, 2.0605, 1.1755, 1.9025, 2.0632, 1.7548, 1.8664, 1.0301, 1.604, 1.0492, 1.3309, 1.5176, 0.3597, 1.2131, 2.6074, 2.6071, 2.607, 2.6069, 2.6069, 2.6069, 2.6066, 2.6064, 2.6061, 2.6061, 2.6059, 2.6057, 2.6054, 2.6052, 2.6051, 2.6049, 2.6049, 2.6048, 2.6045, 2.6044, 2.6041, 2.6041, 2.6038, 2.6038, 2.6036, 2.6036, 2.6034, 2.603, 2.603, 2.6028, 2.5763, 2.5997, 2.5969, 2.5984, 2.5428, 2.5188, 2.517, 2.5405, 2.4541, 2.547, 2.0959, 2.4947, 1.5836, 2.1994, 2.246, 2.3425, 1.5537, 2.0428, 2.0108, 1.6614, 1.4123, 2.0852, 2.0062, 1.6401, 1.736, 1.9394, 1.4673, 1.2678, 2.0456, 1.9596, 0.9139, 2.9641, 2.9635, 2.9632, 2.9628, 2.9625, 2.9624, 2.9622, 2.962, 2.9618, 2.9614, 2.9613, 2.9613, 2.9613, 2.9612, 2.9612, 2.9611, 2.961, 2.961, 2.9609, 2.9608, 2.9604, 2.96, 2.9597, 2.9596, 2.9596, 2.9594, 2.959, 2.9586, 2.9584, 2.9584, 2.9305, 2.9479, 2.904, 2.905, 2.8929, 2.9259, 2.9155, 2.7853, 2.6981, 2.741, 2.8056, 2.6283, 2.5566, 1.9062, 2.7903, 1.9695, 2.3891, 1.8099, 1.678, 1.9044, 0.1465, 1.7405, 0.6301, 3.3185, 3.3172, 3.317, 3.317, 3.3168, 3.3167, 3.3163, 3.3162, 3.3159, 3.3158, 3.3156, 3.3151, 3.3146, 3.314, 3.3139, 3.3133, 3.313, 3.313, 3.313, 3.3126, 3.3126, 3.3125, 3.3124, 3.3124, 3.3122, 3.3121, 3.3121, 3.3119, 3.3117, 3.3116, 3.2944, 3.0827, 3.1567, 2.7124, 3.0982, 2.8028, 2.6497, 3.1225, 2.4963, 3.1575, 2.9118, 1.985, 2.9982, 2.1283, 1.6266, 2.6225, 2.132, 2.064, 1.6983, 2.4914, 3.3667, 3.3659, 3.3657, 3.3655, 3.3654, 3.3653, 3.3651, 3.3649, 3.3647, 3.3643, 3.3643, 3.3641, 3.3638, 3.3638, 3.3637, 3.3635, 3.3634, 3.3633, 3.3628, 3.3625, 3.3622, 3.362, 3.3613, 3.3612, 3.361, 3.361, 3.3609, 3.3608, 3.3607, 3.3604, 3.3012, 2.7653, 3.2104, 2.5452, 2.435, 1.2286, 2.2004, 1.9922, 1.817, 1.3044, 1.8873, 0.9408, 3.6645, 3.6635, 3.6632, 3.6628, 3.6627, 3.6627, 3.6627, 3.6626, 3.6622, 3.662, 3.6619, 3.6615, 3.6613, 3.6613, 3.6612, 3.661, 3.661, 3.6607, 3.6606, 3.66, 3.66, 3.6596, 3.659, 3.659, 3.6588, 3.6584, 3.6581, 3.6577, 3.6576, 3.6574, 3.6573, 3.6263, 3.5183, 3.5768, 3.4049, 3.3203, 3.1537, 3.4009, 2.6733, 3.1587, 1.822, 2.9718, 3.7311, 3.7309, 3.7306, 3.7304, 3.7301, 3.73, 3.7296, 3.7291, 3.7285, 3.7279, 3.7274, 3.7264, 3.7264, 3.7262, 3.7262, 3.7261, 3.7261, 3.7261, 3.7261, 3.7254, 3.7254, 3.7253, 3.7253, 3.7252, 3.725, 3.7248, 3.7241, 3.724, 3.7233, 3.7233, 3.6499, 3.5167, 3.4339, 3.0121, 2.8448, 1.8742, 2.2051, 2.6713, 3.4604, 1.8028, 3.5553, 2.1448, 3.8942, 3.894, 3.8939, 3.8937, 3.8928, 3.8926, 3.8925, 3.8925, 3.8922, 3.8919, 3.8918, 3.8906, 3.89, 3.889, 3.8887, 3.8886, 3.8885, 3.8885, 3.8883, 3.8877, 3.8869, 3.8866, 3.8858, 3.8858, 3.8856, 3.8855, 3.8852, 3.8852, 3.8849, 3.8848, 3.8659, 3.8164, 3.7602, 2.6525, 2.9207, 2.3787, 2.5988, 3.2046, 2.7093, 3.0367, 2.3479, 2.4733, 1.2782, 3.9461, 3.9455, 3.9449, 3.9445, 3.9445, 3.9444, 3.9442, 3.9436, 3.9435, 3.9434, 3.9431, 3.943, 3.9428, 3.9424, 3.942, 3.9419, 3.9418, 3.9414, 3.9412, 3.9411, 3.9408, 3.9407, 3.9401, 3.9401, 3.94, 3.9397, 3.9395, 3.9395, 3.9393, 3.9392, 3.8896, 3.8562, 3.8846, 3.14, 3.6231, 3.3895, 3.3171, 1.0411, 3.9753, 3.9748, 3.9747, 3.9744, 3.9733, 3.9732, 3.9728, 3.9728, 3.9727, 3.9727, 3.9726, 3.9721, 3.972, 3.9719, 3.9717, 3.9713, 3.9711, 3.971, 3.9707, 3.9703, 3.9702, 3.97, 3.9699, 3.9697, 3.9694, 3.9689, 3.9685, 3.9685, 3.9682, 3.9679, 3.9577, 3.9155, 3.8842, 3.7714, 3.6252, 3.4956, 2.7174, 3.7719, 3.0522, 1.9082, 4.0412, 4.041, 4.041, 4.0406, 4.0402, 4.0387, 4.0386, 4.0382, 4.0381, 4.0381, 4.0376, 4.037, 4.0355, 4.0351, 4.035, 4.0348, 4.034, 4.0339, 4.0337, 4.0336, 4.0331, 4.0326, 4.0321, 4.032, 4.0316, 4.0314, 4.0312, 4.0307, 4.0304, 4.0303, 3.987, 3.7479, 3.7961, 3.1132, 3.6351, 3.168, 2.7587, 3.3863, 2.5994, 3.0861, 3.2167, 4.1205, 4.1202, 4.1198, 4.1193, 4.119, 4.1188, 4.1187, 4.118, 4.1174, 4.1169, 4.1164, 4.1164, 4.1161, 4.1158, 4.1155, 4.1148, 4.1137, 4.1135, 4.1134, 4.1127, 4.1122, 4.1118, 4.1117, 4.1117, 4.1112, 4.1104, 4.1103, 4.1103, 4.1097, 4.1096, 3.7642, 2.2461, 3.1269, 3.0248, 2.9694, 3.8457, 1.7427, 1.9033, 4.1305, 4.1288, 4.1281, 4.1279, 4.1263, 4.126, 4.1248, 4.1235, 4.1231, 4.1226, 4.1226, 4.1224, 4.1218, 4.1213, 4.1212, 4.1206, 4.1206, 4.1206, 4.1205, 4.1195, 4.1191, 4.1188, 4.1185, 4.1182, 4.1181, 4.118, 4.1179, 4.1178, 4.1177, 4.1173, 3.9543, 3.6625, 3.8497, 3.7074, 3.4966, 3.1431, 3.0805, 3.1632, 1.7645, 2.788, 4.1691, 4.1688, 4.1688, 4.1683, 4.1679, 4.1676, 4.1673, 4.167, 4.1669, 4.1662, 4.1653, 4.1652, 4.1652, 4.165, 4.1648, 4.1646, 4.1638, 4.1637, 4.1632, 4.1629, 4.1623, 4.162, 4.162, 4.1617, 4.1614, 4.1611, 4.1608, 4.1606, 4.1599, 4.1594, 3.4525, 3.843, 2.6092, 4.2676, 4.2673, 4.266, 4.2651, 4.265, 4.2646, 4.264, 4.2634, 4.2633, 4.2632, 4.2629, 4.2626, 4.262, 4.2619, 4.2619, 4.2612, 4.2611, 4.261, 4.2609, 4.2609, 4.2609, 4.2605, 4.2602, 4.2595, 4.2585, 4.2583, 4.2578, 4.2577, 4.2556, 4.2554, 4.2525, 3.9213, 3.1859, 3.8967, 1.7951, 4.2886, 4.2885, 4.2875, 4.2875, 4.2866, 4.2839, 4.2833, 4.2828, 4.2815, 4.2814, 4.2809, 4.2808, 4.2808, 4.2802, 4.28, 4.2794, 4.279, 4.2784, 4.2783, 4.2775, 4.2755, 4.2753, 4.2749, 4.2735, 4.2733, 4.2731, 4.2728, 4.2716, 4.2715, 4.2709, 3.918]}, \"token.table\": {\"Topic\": [10, 13, 19, 3, 4, 5, 4, 15, 10, 12, 7, 2, 4, 5, 4, 2, 5, 20, 9, 7, 14, 3, 4, 5, 8, 4, 8, 11, 14, 15, 1, 2, 3, 4, 5, 6, 7, 17, 6, 7, 10, 17, 9, 2, 3, 5, 1, 14, 17, 2, 4, 5, 7, 15, 2, 5, 2, 8, 3, 12, 13, 1, 2, 3, 4, 3, 3, 3, 4, 9, 12, 11, 4, 4, 5, 8, 18, 10, 20, 1, 11, 1, 6, 17, 8, 8, 1, 2, 6, 1, 3, 5, 9, 12, 17, 3, 1, 3, 14, 4, 1, 6, 15, 6, 7, 8, 18, 11, 6, 2, 9, 14, 15, 9, 17, 12, 2, 18, 1, 3, 7, 12, 8, 2, 3, 5, 7, 12, 11, 11, 7, 2, 2, 6, 7, 13, 2, 5, 10, 1, 2, 3, 18, 8, 11, 13, 17, 7, 2, 19, 3, 6, 9, 13, 1, 4, 8, 10, 17, 2, 3, 4, 5, 6, 9, 15, 1, 3, 4, 6, 11, 12, 16, 14, 20, 1, 18, 11, 4, 12, 2, 9, 14, 2, 3, 9, 15, 15, 19, 10, 13, 4, 3, 4, 8, 17, 5, 9, 9, 2, 12, 18, 2, 2, 19, 1, 3, 7, 9, 4, 14, 4, 2, 5, 9, 3, 13, 16, 10, 1, 3, 4, 6, 5, 14, 13, 3, 5, 12, 3, 1, 18, 17, 5, 11, 6, 7, 1, 2, 3, 4, 6, 9, 4, 1, 2, 6, 8, 9, 15, 1, 7, 9, 12, 5, 15, 16, 18, 4, 4, 12, 18, 5, 1, 15, 6, 7, 1, 3, 4, 17, 19, 20, 8, 17, 14, 6, 15, 9, 12, 10, 5, 7, 9, 10, 10, 9, 20, 12, 9, 12, 10, 13, 17, 1, 16, 16, 20, 17, 3, 9, 2, 2, 11, 7, 16, 2, 17, 15, 8, 16, 12, 15, 19, 6, 7, 6, 4, 16, 16, 19, 2, 7, 11, 19, 9, 12, 20, 7, 15, 7, 8, 15, 3, 10, 1, 11, 16, 16, 11, 19, 13, 15, 9, 9, 20, 17, 7, 11, 15, 5, 7, 2, 3, 5, 16, 12, 6, 15, 17, 2, 14, 1, 3, 4, 6, 9, 3, 12, 16, 1, 3, 6, 18, 3, 13, 4, 3, 4, 6, 16, 15, 3, 5, 13, 7, 9, 3, 17, 10, 16, 11, 14, 1, 6, 1, 3, 4, 7, 3, 15, 3, 16, 18, 3, 5, 19, 13, 6, 15, 9, 10, 19, 20, 8, 10, 5, 20, 5, 8, 10, 1, 2, 3, 4, 5, 9, 11, 8, 1, 17, 17, 1, 3, 4, 5, 8, 10, 6, 14, 10, 19, 2, 3, 4, 5, 8, 2, 12, 13, 13, 3, 10, 11, 4, 12, 6, 15, 5, 18, 16, 8, 17, 19, 13, 11, 12, 1, 2, 6, 8, 19, 12, 1, 2, 3, 4, 5, 6, 8, 9, 17, 1, 6, 3, 19, 2, 3, 6, 8, 15, 4, 9, 3, 1, 3, 6, 8, 17, 3, 6, 7, 10, 1, 2, 3, 4, 5, 17, 1, 6, 14, 1, 4, 1, 7, 1, 6, 11, 15, 1, 2, 3, 6, 8, 11, 12, 18, 1, 2, 15, 18, 14, 1, 2, 4, 5, 2, 6, 7, 8, 3, 4, 8, 12, 8, 18, 1, 13, 13, 11, 1, 2, 3, 4, 18, 12, 2, 18, 14, 19, 1, 2, 3, 4, 5, 6, 18, 14, 1, 2, 5, 20, 6, 7, 15, 9, 13, 6, 17, 3, 4, 5, 6, 12, 1, 4, 7, 3, 4, 8, 5, 2, 5, 9, 8, 13, 2, 14, 13, 2, 2, 15, 2, 5, 10, 7, 10, 10, 8, 4, 3, 4, 5, 10, 4, 1, 15, 19, 1, 9, 9, 2, 2, 18, 6, 1, 4, 12, 18, 12, 1, 2, 3, 13, 20, 14, 4, 12, 17, 1, 4, 5, 6, 7, 1, 2, 7, 8, 19, 8, 17, 10, 4, 3, 4, 8, 10, 15, 18, 6, 2, 3, 4, 6, 8, 12, 8, 11, 18, 19, 1, 3, 4, 6, 7, 1, 1, 3, 4, 5, 11, 18, 12, 5, 16, 9, 3, 7, 11, 4, 6, 6, 1, 2, 8, 6, 1, 5, 8, 18, 1, 6, 2, 1, 2, 5, 6, 7, 8, 1, 2, 6, 8, 6, 7, 10, 2, 20, 2, 5, 1, 2, 3, 4, 5, 6, 1, 3, 13, 2, 1, 3, 4, 5, 6, 7, 13, 12, 9, 3, 10, 20, 19, 1, 2, 3, 4, 5, 6, 7, 8, 9, 1, 1, 2, 3, 4, 9, 4, 18, 19, 4, 2, 20, 2, 5, 9, 15, 4, 9, 14, 18, 16, 7, 4, 13, 13, 14, 10, 7, 14, 11, 6, 11, 7, 10, 10, 3, 19, 5, 11, 7, 7, 20, 1, 2, 3, 6, 7, 11, 1, 3, 4, 5, 6, 3, 6, 1, 2, 5, 6, 9, 11, 16, 1, 3, 1, 2, 3, 5, 7, 9, 13, 15, 4, 7, 8, 1, 5, 8, 18, 8, 2, 7, 16, 11, 1, 18, 1, 2, 4, 5, 7, 8, 9, 13, 16, 3, 10, 17, 16, 15, 12, 8, 7, 1, 2, 6, 7, 2, 3, 4, 6, 13, 4, 7, 19, 16, 10, 2, 4, 5, 10, 15, 1, 2, 4, 5, 6, 6, 1, 5, 16, 17, 4, 13, 4, 12, 14, 12, 9, 14, 6, 18, 18, 1, 3, 4, 18, 7, 14, 1, 1, 3, 4, 1, 9, 9, 1, 1, 8, 14, 6, 11, 8, 8, 14, 8, 18, 6, 18, 19, 20, 1, 3, 6, 8, 14, 16, 4, 9, 17, 4, 4, 4, 8, 13, 5, 19, 12, 2, 3, 5, 13, 4, 7, 15, 14, 8, 6, 20, 20, 2, 7, 5, 19, 19, 9, 9, 18, 6, 14, 1, 2, 6, 14, 1, 2, 3, 6, 16, 5, 12, 5, 5, 20, 5, 7, 10, 13, 3, 16, 4, 6, 3, 4, 8, 4, 9, 20, 5, 6, 11, 17, 2, 2, 3, 4, 9, 20, 2, 18, 7, 17, 3, 6, 9, 14, 1, 2, 3, 5, 10, 3, 1, 1, 2, 3, 6, 1, 3, 4, 6, 20, 18, 19, 3, 4, 5, 19, 7, 13, 9, 9, 3, 5, 3, 15, 1, 14, 17, 2, 3, 12, 4, 7, 8, 10, 12, 3, 5, 6, 7, 9, 10, 17, 1, 10, 17, 5, 13, 9, 10, 5, 17, 11, 2, 1, 4, 7, 20, 4, 11, 12, 8, 8, 16, 8, 2, 5, 8, 8, 12, 1, 1, 4, 7, 9, 17, 9, 17, 13, 9, 15, 16, 10, 1, 3, 14, 10, 4, 3, 10, 3, 8, 2, 15, 14, 18, 11, 1, 2, 3, 8, 10, 17, 9, 4, 5, 9, 9, 1, 2, 3, 5, 5, 2, 6, 7, 6, 1, 2, 4, 5, 8, 3, 12, 14, 6, 3, 4, 5, 1, 2, 3, 5, 4, 1, 14, 11, 19, 11, 1, 8, 17, 3, 10, 4, 8, 11, 12, 13, 10, 15, 1, 2, 4, 7, 8, 10, 14, 8, 1, 5, 10, 1, 4, 12, 15, 7, 16, 19, 2, 6, 7, 14, 11, 13, 14, 17, 2, 5, 12, 2, 16, 16, 6, 1, 12, 2, 4, 9, 11, 1, 19, 6, 3, 5, 12, 10, 10, 7, 2, 7, 11, 1, 6, 14, 15, 7, 18, 1, 20, 18, 8, 1, 4, 8, 10, 5, 1, 1, 2, 6, 8, 1, 1, 20, 16, 20, 1, 2, 3, 4, 4, 7, 14, 2, 2, 4, 5, 6, 1, 2, 5, 6, 14, 11, 17, 11, 16, 2, 5, 9, 10, 4, 13, 14, 1, 3, 4, 8, 4, 7, 15, 9, 5, 14, 11, 6, 3, 15, 8, 18, 2, 5, 7, 9, 9, 1, 5, 17, 17, 12, 4, 12, 16, 2, 3, 1, 3, 4, 15, 1, 3, 6, 1, 3, 6, 15, 3, 8, 14, 15, 8, 8, 1, 2, 3, 5, 7, 16, 8, 13, 17, 7, 18, 16, 15, 10, 3, 10, 13, 4, 17, 15, 4, 12, 2, 3, 6, 4, 3, 1, 2, 3, 11, 17, 12, 12, 1, 11, 4, 15, 2, 7, 9, 14, 9, 14, 7, 20, 19, 7, 5, 19, 2, 3, 4, 5, 7, 9, 5, 9, 3, 14, 20, 7, 19, 11, 19, 2, 3, 5, 12, 20, 16, 17, 10, 4, 11, 1, 2, 4, 14, 8, 18, 11, 1, 2, 3, 12, 17, 14, 17, 18, 2, 6, 7, 8, 8, 7, 1, 2, 3, 6, 7, 8, 20, 4, 5, 7, 8, 9, 11, 13, 8, 19, 2, 5, 19, 8, 18, 7, 13, 4, 12, 13, 1, 3, 4, 12, 2, 3, 1, 3, 5, 1, 2, 5, 6, 7, 12, 17, 6, 15, 2, 6, 1, 2, 3, 6, 20, 1, 2, 3, 4, 6, 1, 4, 6, 7, 8, 8, 12], \"Freq\": [0.9934589282529422, 0.995118160296744, 0.9958845583853462, 0.8242736489524647, 0.1753479956733049, 0.9981049730860091, 0.9663014681077724, 0.030622229623133632, 0.9626629808543157, 0.034605531991495006, 0.9923679563411862, 0.3212171005653311, 0.03485346838978666, 0.6433761867628186, 0.9942574907571575, 0.9228940846697489, 0.07616976130671631, 0.990705989648826, 0.9973449061629085, 0.9978597826255349, 0.9928666816076739, 0.006601592149600974, 0.4208514995370621, 0.5297777700054782, 0.04208514995370621, 0.27701450393341154, 0.24623511460747693, 0.034199321473260685, 0.0547189143572171, 0.3830324005005197, 0.3848497229920437, 0.18043399475591365, 0.12676059125257225, 0.034259619257451954, 0.22953944902492812, 0.020555771554471174, 0.02329654109506733, 0.9816927194530266, 0.9352391109646048, 0.06408998983767596, 0.914332748448099, 0.08078441954159911, 0.9975996921899217, 0.22001831246954906, 0.7337724132360735, 0.04536460050918537, 0.9978217722967658, 0.9945409498227223, 0.9921945363557335, 0.19793551401159584, 0.14958485410036634, 0.18584784903378848, 0.04986161803345544, 0.4170244417343546, 0.9956154353590735, 0.9990903055266885, 0.999033342873382, 0.9973536599908949, 0.9984979169287183, 0.9945045071700178, 0.9911304305682019, 0.3579007138943684, 0.5616965509800896, 0.033022473601852974, 0.04733221216265593, 0.9967768380175487, 0.9963382170699694, 0.9991344908152293, 0.6144708303431103, 0.11106632379441196, 0.27261734022264755, 0.9910325152555255, 0.9975839173888709, 0.9981244017926035, 0.9993778115148159, 0.9960839060965059, 0.9932039586433317, 0.9971252686907228, 0.9993443519036138, 0.9908430160873581, 0.008588021807907763, 0.581255875522622, 0.41810721462352957, 0.9958375466098929, 0.9954416979771584, 0.9960158265173551, 0.7987362821993674, 0.20012293663896238, 0.0010532786138892757, 0.57741501624927, 0.16330929752504608, 0.029162374558043942, 0.01603930600692417, 0.21288533427372078, 0.9898989542714649, 0.9991236329958927, 0.16826605578402098, 0.8313342756062028, 0.9911321871623984, 0.9977908361264649, 0.9971611474784144, 0.9982080556654565, 0.9930558343584361, 0.9365789185347685, 0.023365794225399632, 0.01557719615026642, 0.023365794225399632, 0.9984449729125554, 0.9954122324728026, 0.6457011696734251, 0.22749387201574256, 0.12600708479913886, 0.9939258594800108, 0.9357291983376137, 0.06254231145701274, 0.9974029148239967, 0.9856200509249279, 0.011664142614496187, 0.10514166303018414, 0.37659832030811413, 0.2121949926609171, 0.30586665608780844, 0.9982617712328062, 0.0035385479950539823, 0.8554439778043001, 0.1397726458046323, 0.9964824719507236, 0.9971769461414969, 0.9961049440088792, 0.9945725899766196, 0.9988371202817353, 0.9919603127814055, 0.48050137124589687, 0.1492342142777359, 0.3698056628530708, 0.9957598380452405, 0.9832927160750197, 0.016031946457744885, 0.9938173005266772, 0.5537537201715793, 0.18534574688904407, 0.2607019232422899, 0.9913420497150295, 0.15840562016068765, 0.1848065568541356, 0.3927139333150382, 0.2607092498477985, 0.9996928870221893, 0.6602699973574365, 0.33897072857036276, 0.06703306221482541, 0.9126809240018536, 0.018906761137514858, 0.9894161857497737, 0.1585116538122128, 0.14034886014623008, 0.03467442427142155, 0.03797675039250931, 0.6257907999461317, 0.07379503062094477, 0.10724877783577307, 0.38422612609971907, 0.04181718401853537, 0.3797984242624624, 0.013283105511770059, 0.9884451456908284, 0.30767019319120975, 0.25684561850475623, 0.17334810294843972, 0.044471502850646834, 0.03539568594235156, 0.0898505873921232, 0.09257333246461179, 0.9964922549582992, 0.9782529978782156, 0.9973482455556023, 0.9905568811181962, 0.997077425497021, 0.7795195827191784, 0.21882793246569948, 0.5288793786962631, 0.43943654259321857, 0.031110551688015475, 0.12737575426076145, 0.8417127545069235, 0.029261997600445195, 0.9967989513703024, 0.9985678326631987, 0.994996396700102, 0.9956139163521148, 0.9967947695009735, 0.9973220684656875, 0.9565384264720559, 0.04258792994186539, 0.850165524512972, 0.1469777686446155, 0.9969623295072962, 0.9976882207064218, 0.9918624769026174, 0.990196418432637, 0.9948913127014536, 0.9925482250451693, 0.9992903410207531, 0.9985117534103787, 0.9940606248643084, 0.9429406356359268, 0.05676945428271685, 0.9819811477608061, 0.014711328056341665, 0.9968442276713897, 0.994207141735086, 0.9972513046640988, 0.766282494376268, 0.16312782358446754, 0.06943389414108106, 0.9986074658294118, 0.9943299602840522, 0.9954057384132765, 0.9939530715159974, 0.0016266102484346961, 0.20169967080590231, 0.24805806288629115, 0.5481676537224925, 0.8989094885664741, 0.09923026821837701, 0.99340543152811, 0.9939128383904858, 0.9975534568999168, 0.9881264112712271, 0.9947882012252451, 0.9975847457108787, 0.9969341655992544, 0.9964358592127877, 0.9986807824640042, 0.9896451532493155, 0.032412957571087975, 0.9659061356184218, 0.8716505597959381, 0.09685006219954867, 0.009161492370227578, 0.00026175692486364507, 0.006020409271863836, 0.01596717241668235, 0.9985000276325016, 0.15529582484470436, 0.04235340677582847, 0.7670672560511156, 0.036078827994224245, 0.8560466726612909, 0.1412035748719655, 0.26797078766916005, 0.5630576669476993, 0.055827247431075006, 0.11165449486215001, 0.9983641537222625, 0.9945486484558965, 0.9958155522685688, 0.9830024060203458, 0.9980581508390344, 0.9955706301589223, 0.9943976981108638, 0.9970791995931829, 0.9942651072331039, 0.964512970775812, 0.03490940116059565, 0.998366392181697, 0.9960777583505247, 0.08315546492751907, 0.06756381525360924, 0.8492251855722885, 0.9858518464926926, 0.9858093360689053, 0.9854465445505738, 0.8499056629814606, 0.14668422609832316, 0.9921026961248267, 0.2538934933400896, 0.7444255824146316, 0.9911809769538068, 0.9926951193695147, 0.9975924969321875, 0.046154761164957446, 0.7995195724381339, 0.06550998358897187, 0.08784293253975772, 0.9978105533203407, 0.9943692476258619, 0.99638829301403, 0.9918111200636172, 0.9961475265128839, 0.9939962296134036, 0.2359440983408663, 0.5735256544285673, 0.18875527867269304, 0.9958801391958046, 0.9950883820651727, 0.9867452088559554, 0.9893676091641435, 0.9905675438662804, 0.9979280124909141, 0.9949971803547012, 0.9978058329279472, 0.9974811429988151, 0.9913505442498307, 0.6290425339384863, 0.36889613007240046, 0.9552865105522341, 0.042283173417885775, 0.9873815627115337, 0.9973196743002103, 0.9925824095002816, 0.9969720890862143, 0.9931542176683953, 0.9894489189679261, 0.9969452400273873, 0.9955259053465917, 0.9948534925941941, 0.299671135710427, 0.6999617768418732, 0.9903705181673501, 0.988950672768376, 0.7931315848939979, 0.05058893352296852, 0.15605399832508932, 0.9990022980022226, 0.25738933861688484, 0.0518233567685003, 0.689250645021054, 0.995194423535853, 0.9918979352490911, 0.3243343275664375, 0.4368974177218481, 0.23657327422493085, 0.3984781638363132, 0.5999813262308125, 0.9978922299615633, 0.9960800771900171, 0.9973540227730774, 0.9937059390053404, 0.9903209980064391, 0.9927309910477162, 0.9893621403979506, 0.9870693633014819, 0.9969019856607051, 0.9988869705380573, 0.9748779908530086, 0.9872160545923634, 0.9979437840902861, 0.04307920971291833, 0.9477426136842032, 0.9993387338277812, 0.9957770207612279, 0.33585469904753273, 0.1589950436980341, 0.18936488350552377, 0.3162036262309218, 0.9952905104466991, 0.8930375490305671, 0.10389910542737898, 0.9912894065084856, 0.9906140619013104, 0.9934662702421413, 0.7993789550438545, 0.13720683556722876, 0.009942524316465853, 0.04374710699244975, 0.008948271884819267, 0.6311297585943875, 0.03261156807326623, 0.33378899086754843, 0.9519643924294199, 0.008742530134555898, 0.014570883557593162, 0.02428480592932194, 0.9997492100514875, 0.9978536110080289, 0.9971039201739401, 0.7127092230022222, 0.04780366739649051, 0.13037363835406504, 0.10864469862838752, 0.9927658677882988, 0.9586879115697304, 0.040725909582401465, 0.997906575948699, 0.9960656177688328, 0.9946011296825948, 0.998213952937785, 0.9822392266488387, 0.23384677840363136, 0.7618878909279602, 0.18301223193044616, 0.8121167791913548, 0.9772763390298039, 0.021092295086974185, 0.22180131056460003, 0.4303427601715338, 0.34716726870980874, 0.9970758645028381, 0.6042312077645394, 0.394960887026577, 0.9939457189116119, 0.9973881079753566, 0.9982951414267395, 0.09250193831321366, 0.9057481459835504, 0.9918508998010973, 0.988488326114939, 0.33012069447918563, 0.6644737055542582, 0.9958244479787606, 0.9935107807922362, 0.9926548007428821, 0.9950893932339091, 0.4993094321283643, 0.4993094321283643, 0.9993384585027363, 0.9877620020311296, 0.1663015282294913, 0.8028349638665097, 0.03153994500904145, 0.33868158202110954, 0.37205787900451764, 0.20868968850678327, 0.002459306093514281, 0.07658981834087332, 0.0014053177677224463, 0.9953357724743412, 0.995930129835611, 0.6267847050780347, 0.3724891961606607, 0.9955938914991045, 0.6568759933756869, 0.037627921060800394, 0.0017918057648000187, 0.06522172983872068, 0.18419763262144193, 0.05447089524992057, 0.38028967881298553, 0.6164373019468555, 0.9941982860990842, 0.9875149706747701, 0.08388400073999823, 0.391263136318733, 0.09678923162307487, 0.4076879756244669, 0.020531049132167398, 0.9973287586462322, 0.9699675264668853, 0.028343206942214184, 0.9943808845224658, 0.023675207323776908, 0.16572645126643837, 0.8049570490084149, 0.957072536082803, 0.040459334615745315, 0.9986681716728358, 0.9944203513221994, 0.9979819132091573, 0.9917069846249327, 0.9987724554924465, 0.9994047753494953, 0.9860989238103302, 0.9975704046981804, 0.996035268057577, 0.9950810578503365, 0.9912692163497614, 0.6263844585067673, 0.3435251664894511, 0.012095956566529967, 0.017864797390567337, 0.9948844725050446, 0.9939673694191551, 0.6848834336867603, 0.037630957894876936, 0.15412331450858294, 0.024541929061876265, 0.04417547231137727, 0.022578574736926163, 0.021269671853626094, 0.01047122306640054, 0.9915147177833525, 0.9998301610330571, 0.9979924206751166, 0.9990741243532503, 0.9940384807345646, 0.00021916956312721293, 0.018410243302685887, 0.9687294690222812, 0.012492665098251138, 0.9885355385911844, 0.7466132907705141, 0.2530363035665759, 0.9981876252890822, 0.3822186893088411, 0.007280355986835069, 0.5678677669731353, 0.041498029124959895, 0.9919280896545294, 0.9977154346035255, 0.12415574573841286, 0.2715906938027781, 0.6026726824385458, 0.03580077123774368, 0.1263556631920365, 0.29482988078141853, 0.374855134136375, 0.1679477356594152, 0.99892447717428, 0.9970917832437592, 0.9890219536335348, 0.0076966688998718665, 0.9809776426838172, 0.01719239167590195, 0.1588103338986549, 0.8405995259808112, 0.9992691192909298, 0.9977225664941645, 0.478914048304433, 0.5180979249838866, 0.7711475820335826, 0.22836559296273476, 0.04889111707849455, 0.2770496634448024, 0.19013212197192325, 0.41104753988215786, 0.05794502764858613, 0.014486256912146533, 0.9078750762831869, 0.09170455315991786, 0.9942262788983973, 0.993528080322932, 0.9960183469981906, 0.16294220418072192, 0.7819297490566004, 0.018801023559314067, 0.035673737009980534, 0.029486923258288698, 0.12062832242027194, 0.8356862114337729, 0.013403146935585772, 0.42603571131561213, 0.23161465258031294, 0.10143707412276479, 0.2417583599925894, 0.9979102431960338, 0.9977442314918963, 0.9980395997799715, 0.9976374412970225, 0.9885802674161791, 0.9897097417137871, 0.9568626478678435, 0.030397570305193924, 0.003964900474590511, 0.006608167457650853, 0.9870363904011202, 0.9899464484085042, 0.9997854427797217, 0.9970114839260257, 0.9405536999176527, 0.0565949217715493, 0.005182148881744973, 0.15481669784213106, 0.45084695271181263, 0.13667917675602367, 0.04858264576635912, 0.2040471122187083, 0.9953814570419814, 0.9978042294279649, 0.9627065158367808, 0.03534164889268652, 0.9994886953549708, 0.9858943526290668, 0.9949869930190777, 0.9974386141285037, 0.9868355351696111, 0.2707285732506123, 0.7235836412334545, 0.994080373714792, 0.9815639286519886, 0.03402765392703098, 0.11517052098379715, 0.8109051681995536, 0.036121663399463655, 0.003664516576757182, 0.026306816572087704, 0.30639704007490387, 0.6654077132939831, 0.9970599585693447, 0.9520084851226354, 0.04606492669948235, 0.9970104166406711, 0.06687444178383928, 0.7206915288669108, 0.211968096725562, 0.9943834140109216, 0.9901751074471035, 0.9977420586160867, 0.9959750334231968, 0.9968969305913064, 0.9985145319275756, 0.9951192678294972, 0.9824643818806091, 0.9982519248781362, 0.9981772196065021, 0.9982696465489074, 0.9983757766662217, 0.9898861518204936, 0.9944036010198777, 0.9952637578005624, 0.9985332465834414, 0.16370503154182542, 0.6704434279327041, 0.1650635795214256, 0.99790472426316, 0.9985490151679248, 0.9985536100584386, 0.9973305677444608, 0.9963932673027924, 0.9774405846847863, 0.021964956959208682, 0.9994883470657119, 0.9979729369928538, 0.9587163758124185, 0.03959300667071935, 0.995326476386253, 0.1167641059281402, 0.5940142214280782, 0.2882034678067587, 0.9952994014696048, 0.9883249395850082, 0.703874679655413, 0.2093026364940413, 0.08652646644219027, 0.9960957039913128, 0.991225579343623, 0.9961491140314803, 0.9720226701375356, 0.025052130673647827, 0.991535213020134, 0.12108097274857509, 0.07154784753324891, 0.08805888927169098, 0.42561796481317304, 0.2944469110022167, 0.5223142018787366, 0.0006017444722105261, 0.03730815727705262, 0.439273464713684, 0.9804676062840854, 0.7250112681354818, 0.2705783680122851, 0.996521005736352, 0.9992747366674367, 0.25326507040031265, 0.03667186539733034, 0.30483488111530843, 0.3713026371479697, 0.032087882222664045, 0.991099613235328, 0.9974316372949745, 0.14090141516219268, 0.2042597696310981, 0.015130353306007266, 0.5929207201791598, 0.04728235408127271, 0.9971471901694732, 0.1583490589613592, 0.840468082179522, 0.9946832011137376, 0.9866359692749616, 0.0008982317929469301, 0.15988525914455357, 0.03682750351082414, 0.4554035190240936, 0.346717472077515, 0.9993187898550212, 0.39687688414726185, 0.11055856058388008, 0.05527928029194004, 0.21969970372437708, 0.20410811184716324, 0.012756756990447702, 0.99106302403978, 0.9971419015108341, 0.9887568161726408, 0.9959601634135665, 0.04704809088289029, 0.030824611268100533, 0.919871294158579, 0.08425629259331255, 0.9147826052988219, 0.9977270302321192, 0.054930245899059565, 0.9365910647528435, 0.00841743104614341, 0.9948005407191898, 0.09479130323806782, 0.8429375395385206, 0.04935414961982044, 0.012534387205033762, 0.9140102624641439, 0.08508604625120757, 0.9951188658680391, 0.5330220629942931, 0.4282842646238192, 0.006222047427948947, 0.029036221330428418, 0.001382677206210877, 0.0017283465077635963, 0.2978714002288754, 0.09042524649805146, 0.013829743582054929, 0.5968066268871397, 0.9995372918403753, 0.9988645741597796, 0.9958120560082109, 0.9952704365415851, 0.9805134351085757, 0.6256042809909791, 0.3738508853877319, 0.49484324550713965, 0.0128769617789962, 0.11555818947125161, 0.011873562159853638, 0.016388860445995163, 0.34834690111232575, 0.3033891084485112, 0.2508016629841026, 0.4456448904099242, 0.9979028452784876, 0.2899629982882814, 0.3530583950620692, 0.1055037782119074, 0.06757758342984918, 0.18376965289851843, 0.9973535774086466, 0.9943667360318488, 0.9858581758355546, 0.9956927385089922, 0.22791657112034877, 0.7707178786569688, 0.9992579998009359, 0.9912102397745483, 0.13254223865170192, 0.05767528376475732, 0.33385116179215296, 0.024955651628981532, 0.1173839909955798, 0.3024255264075095, 0.009797403972859418, 0.0049911303257963065, 0.016082531049788098, 0.9989559808763678, 0.45147689210216346, 0.007750676259264609, 0.458743151095224, 0.08186651798848243, 0.9928886604232667, 0.97731125599241, 0.019416779920379004, 0.9916770515094115, 0.9987558391409522, 0.9980529503268096, 0.9908485222951547, 0.3979643170790472, 0.2783404653833808, 0.311178385456701, 0.011727828597614358, 0.2645112699890504, 0.33553744433796207, 0.3967669049835756, 0.9914506214585103, 0.993116887939066, 0.9941376300624603, 0.996869906405409, 0.9950930294554973, 0.9923563559476963, 0.9927411923906027, 0.9952891998726018, 0.9303155993298003, 0.06833703901587848, 0.9937849537965162, 0.9989722271948384, 0.9979959334428897, 0.99296108459799, 0.9968670256893005, 0.9952809234071502, 0.9966857559739271, 0.9942351764532971, 0.9986852897974758, 0.9960413624808192, 0.9976268341472322, 0.9963936701656931, 0.9926225060971567, 0.31702129241988264, 0.03338997408589042, 0.02238229032131116, 0.5991849195852643, 0.02788613220360079, 0.9951113677201788, 0.12717042976533804, 0.47209844474529605, 0.10974982294816844, 0.21485415074509168, 0.07548929620773491, 0.9959702600885408, 0.997355462636034, 0.19072076033731863, 0.6814193999991636, 0.05367016371301429, 0.010222888326288437, 0.06389305203930273, 0.9947403249242998, 0.9927367179232816, 0.9956651433871623, 0.00373507824421765, 0.04010275134136512, 0.3662445148012427, 0.03805669259945874, 0.05728964477337875, 0.3470115626273227, 0.08838973765035578, 0.05483437428309109, 0.007775023219244259, 0.7248482295612012, 0.09296650639662701, 0.18157520780591213, 0.4176937020275359, 0.20355443568593368, 0.30370321804341305, 0.07490803233242359, 0.9979577825436635, 0.999231432011188, 0.9612183305349001, 0.034227358950797634, 0.9987235386988988, 0.9980820106666622, 0.9951559183081716, 0.005319023754336292, 0.3324389846460183, 0.20478241454194726, 0.27570273126643113, 0.009751543549616536, 0.08776389194654882, 0.026595118771681463, 0.05717950535911514, 0.9970561808174311, 0.9939845899905195, 0.9926767204642434, 0.0035326573682001546, 0.992061682705573, 0.9883668570438991, 0.9968174676957627, 0.9912220841787595, 0.9963188402916615, 0.4718239449035907, 0.234919355456907, 0.016543616581472326, 0.2759475245789584, 0.04822297942343021, 0.17798663314466057, 0.07014251552498939, 0.6646003345992745, 0.03857838353874416, 0.9969531659584288, 0.8523865902099417, 0.1449807103582892, 0.9942310918632681, 0.9950558289593927, 0.45418201387363516, 0.3737539489168456, 0.09394538679826679, 0.05271755518176122, 0.02500704540673289, 0.13573792359638454, 0.7697457313171532, 0.09410260039849101, 0.005983135690212973, 0.990208956730247, 0.9957946227943013, 0.9972518024619167, 0.9980879083435302, 0.9963696155244299, 0.9889290727181853, 0.9966410618333571, 0.9907148524826832, 0.9958671278769188, 0.08238103364463696, 0.9113401846937964, 0.9928550516939294, 0.9989224739796131, 0.9895494961043237, 0.9986884090336695, 0.9980835566062328, 0.9887821448854347, 0.46057762178307043, 0.09548355084131661, 0.44373748935955776, 0.9879555627302983, 0.9530829741639012, 0.04674521399168998, 0.9980154950598125, 0.15501399018653883, 0.3035352477998195, 0.5405199867237427, 0.9975902872862227, 0.9930073999482613, 0.9985536718657606, 0.9985323684530235, 0.3333200810115776, 0.6666401620231552, 0.9985141819118182, 0.9935171494495442, 0.9979418760914979, 0.9922931188695048, 0.9929017240702528, 0.9964463525861375, 0.7893742739799994, 0.20940724684590525, 0.9987717862564061, 0.9961255689570949, 0.9901918532411318, 0.9940893301090348, 0.4071138960868671, 0.4554988345261605, 0.05745711439666091, 0.07333342232205406, 0.006426124636468655, 0.9900832930580555, 0.24488299310645614, 0.2238177893983739, 0.5292632431655665, 0.9974027481234583, 0.9948620637559881, 0.37921018141983603, 0.08667661289596253, 0.5308942539877705, 0.01255795673763167, 0.9826601147196782, 0.9964418841832459, 0.5790516043715719, 0.32252874336758536, 0.09800873441867711, 0.989767414658487, 0.23329298263649886, 0.765617863978888, 0.9936988069017212, 0.9964129471361965, 0.9956505982224159, 0.9985986911635447, 0.9875331171478761, 0.976605160735505, 0.05820602650052653, 0.940997428425179, 0.2896507316324835, 0.7068540790297303, 0.9968405330154286, 0.9965416282676206, 0.9982526716739364, 0.993305160132187, 0.9960994456624703, 0.9922647758903634, 0.32935366752717615, 0.11982867478116409, 0.5500907000187942, 0.98838663714861, 0.14860899907601824, 0.6401077927104143, 0.00210792906490806, 0.055508798709245584, 0.15317617871665237, 0.9945029586404436, 0.9893495896096747, 0.9954007247344006, 0.9995335694449557, 0.9951086650666686, 0.16217795577116953, 0.1274255366773475, 0.7095285564988667, 0.9914447009415686, 0.9948856349102702, 0.9925101231550888, 0.994524863181768, 0.9966735681350459, 0.8895929544938753, 0.09963441090331403, 0.009963441090331404, 0.45162639399784704, 0.547806089015907, 0.9979743224035881, 0.05658775956929634, 0.9399855617344225, 0.34067057452137717, 0.655790855953651, 0.9968033793687238, 0.41212972940739084, 0.5791864304223209, 0.003392014233805686, 0.004664019571482818, 0.9832564041578864, 0.9964748805949726, 0.9888386495517586, 0.9425697129691505, 0.056999053439137415, 0.48362929987013564, 0.5125566598623681, 0.0027119399992717886, 0.9977200581024254, 0.0948278646154245, 0.38758133037583387, 0.427276715563686, 0.08931461667266727, 0.9940906934855201, 0.9964260237223393, 0.9984843512038736, 0.7290566974328629, 0.007967832758829103, 0.0008853147509810115, 0.2616105089148889, 0.10721932812365263, 0.8438406663777547, 0.00450157484488618, 0.044197280295246125, 0.9870502295672356, 0.30544671823975933, 0.690309583221856, 0.11971886311123422, 0.23436489303978902, 0.6452643808368218, 0.996379077948615, 0.055909529970444495, 0.9364846270049453, 0.9918258201635269, 0.990366881144384, 0.9955601965932308, 0.9971251637449586, 0.9984987685799758, 0.9879838412953352, 0.9986494120989061, 0.9983767503952633, 0.9893985510924203, 0.8840486380499161, 0.042658854915424524, 0.07296909393427879, 0.5366045240844826, 0.24221048243079393, 0.0866444002191458, 0.09058278204728878, 0.0433222001095729, 0.22784283251817522, 0.38704682009363656, 0.041945960798325146, 0.11058480574103902, 0.04861918183442233, 0.09056514263274747, 0.09342509450536055, 0.13575475156038772, 0.8632609842814397, 0.9924082162472909, 0.9972823968372093, 0.9971358228847041, 0.9904995866387576, 0.9975108419130523, 0.9970916058999238, 0.9897978479650027, 0.9971414438563422, 0.994838549226135, 0.6462210327926372, 0.3534478160127151, 0.992365071272272, 0.9984386209882818, 0.9972848706242009, 0.7411480115715042, 0.25468020474850916, 0.9944333482661769, 0.9906169442253373, 0.9934841001296382, 0.9979414941268043, 0.4261186430083755, 0.3101049751913954, 0.2633466147784681, 0.11652801275373356, 0.8700758285612106, 0.9998067802411287, 0.09576209817244194, 0.16840920713084617, 0.21463918555892159, 0.13868993528422627, 0.3797462513734767, 0.16115536804877356, 0.836968201801695, 0.992651272218108, 0.9988389227226128, 0.9940414658634614, 0.9940193255515837, 0.9947158397705137, 0.7708981916948876, 0.22894811479385663, 0.9934491447293663, 0.9966172492552012, 0.9965010586933799, 0.910486496644107, 0.08923604255011156, 0.9963227423464368, 0.9976723945023971, 0.9978007897479307, 0.996606098161094, 0.997071651529719, 0.9985281097559897, 0.99514145848198, 0.36878383857473473, 0.2616158854846409, 0.007354663447359381, 0.28473054203348463, 0.07564796688712506, 0.9812656686798369, 0.9951553826189631, 0.07427861573253369, 0.9249456197170266, 0.9970561863114026, 0.997394637530951, 0.8265936995499067, 0.007659903457262696, 0.12300903787251269, 0.04258005157125439, 0.9966823489034613, 0.15976330849519002, 0.5228617368933491, 0.31745176882810483, 0.9968963335906994, 0.16893037708738914, 0.186680308013238, 0.022646463595048544, 0.6194113826537602, 0.001836199750949882, 0.9990484508865193, 0.9898229796926802, 0.9944094386180232, 0.9969043490858567, 0.0031152322602015694, 0.9937590910043006, 0.9988210939709691, 0.24329263809616344, 0.27168753485009234, 0.01097075556401798, 0.47367850494054103, 0.9963662954417194, 0.9988733369285544, 0.9904251685103599, 0.9959370514990115, 0.9957052662064136, 0.9963591823734811, 0.5593529542407049, 0.08856421775477827, 0.3495955964004405, 0.9938552273255121, 0.9963222863814355, 0.3870863903576357, 0.05798460098474705, 0.4858169271695023, 0.06738750925254387, 0.9919191379594268, 0.9973410693600705, 0.9962574842656258, 0.04241849403334452, 0.1765156687194014, 0.11083541989357762, 0.2668260108549091, 0.10673040434196364, 0.012315046654841958, 0.283246073061365, 0.9915278219780753, 0.9952863634338247, 0.9832360557655256, 0.013580608505048697, 0.26678674874302416, 0.7322740447269465, 0.9937146805319845, 0.9968120084292951, 0.9955089595358257, 0.9847904466818619, 0.9907947643608291, 0.9972232871309678, 0.6962840174200238, 0.19722598928485807, 0.10569569591508968, 0.9926315174990279, 0.9961997342557372, 0.9969444805132305, 0.9905945608906135, 0.0023869410727341135, 0.9969457213786147, 0.9977883860725031, 0.9955438126211995, 0.9987141600744662, 0.9896136872108562, 0.9954664961589367, 0.49602768725852, 0.49984328485281626, 0.48532150339520136, 0.12823535658816296, 0.037484181156539946, 0.3452490369681311, 0.9984527178341471, 0.9903952314725868, 0.9981238670313894, 0.15316084722324141, 0.7951481367524356, 0.05081504744322495, 0.9995434575836504, 0.9973425295467566, 0.9939624220228956, 0.23316374141469362, 0.7145340462708353, 0.051145594890965054, 0.14170733590214493, 0.8582275272946805, 0.99472237958888, 0.9896739168230332, 0.27419190865206855, 0.7218521676758539, 0.9970225888488805, 0.9776721165537807, 0.9957628629013792, 0.9951310716157564, 0.03626655554095972, 0.9631360964377731, 0.2293494382847178, 0.7657938871540577, 0.9952674966788052, 0.9986639650767601, 0.8720979168755557, 0.02258021073613349, 0.1018618395430022, 0.0030106947648177985, 0.9986867941294908, 0.9986084962563012, 0.9928430155063865, 0.9953400873473729, 0.9820597564108884, 0.0944323727806113, 0.790506048431509, 0.054517658512517865, 0.060521091146336796, 0.7555077954532217, 0.12992809221170054, 0.11228353647924738, 0.9970049318130106, 0.07284749015648351, 0.266199707020421, 0.5494198556661887, 0.11165409706227378, 0.5806745140455155, 0.0758951777129665, 0.023940089614157216, 0.3193709827250335, 0.9966681424009329, 0.9908992663666372, 0.9944952617399987, 0.9982240804821303, 0.9952614645993246, 0.48045307028224415, 0.2339086507306828, 0.12723925347535886, 0.15838789289426886, 0.15105739694474313, 0.1431070076318619, 0.7036094541899877, 0.9826877695444648, 0.01060351340715812, 0.006304791755607531, 0.9942731614985375, 0.5447795135000669, 0.17782120618696548, 0.27643114779973726, 0.9984448762632084, 0.9979416937468176, 0.993186517643079, 0.9922821090201089, 0.9955805500312059, 0.5568165266864148, 0.4387039301165692, 0.5122486467524323, 0.48754630084305106, 0.3651582737835047, 0.036623543683301354, 0.20358381635717518, 0.39316451307073513, 0.9918007651938182, 0.9997201487499411, 0.9967068608891512, 0.988411144693273, 0.9856057737818581, 0.9979710089566498, 0.5748770122077314, 0.4228980319689058, 0.9983986600739394, 0.9997411994071286, 0.9968525408304484, 0.9975246637363725, 0.9730166319500546, 0.02545683048706538, 0.9851538473819952, 0.824060936099901, 0.15945727860994474, 0.016064725830106374, 0.8760363110017321, 0.11928330300647075, 0.004581042656083072, 0.9863073172805931, 0.17648233433085567, 0.8223325791161147, 0.9805185989783779, 0.014490422645000658, 0.9968713948765462, 0.9963899459481101, 0.9323336891953222, 0.003968266150248907, 0.009189668979523785, 0.05430258942445873, 0.0002088561131709951, 0.984903792302239, 0.9916881312028055, 0.9120152852825614, 0.08335623575163195, 0.9981239698906955, 0.996084564337808, 0.9924238490636988, 0.9914426003778593, 0.9974686930239354, 0.9953926609642543, 0.9916199958593798, 0.9934075923279094, 0.9975417364296616, 0.9878508669080083, 0.9873425622881838, 0.06773174169276441, 0.9256671364677803, 0.07032167177065456, 0.9098938262032255, 0.01972437135030555, 0.9978583457381601, 0.9988830109210015, 0.4875134369393453, 0.418668634020208, 0.09322047476610454, 0.7618783361114021, 0.2323458755517042, 0.9950216235000592, 0.9977889798182386, 0.7824188021875256, 0.21687736028805416, 0.21732793504647283, 0.7823805661673021, 0.7930296686854456, 0.15860593373708912, 0.008458983132644753, 0.03912279698848198, 0.18294821201988745, 0.8121115753077931, 0.9987556572428014, 0.9908761665794189, 0.9960875831642997, 0.9957746296720371, 0.9976280233541646, 0.9954042343954775, 0.4782627617549393, 0.0606069376443986, 0.018158948874371337, 0.26544450743109693, 0.05968164088646885, 0.11785967454130185, 0.9661201658120272, 0.03363928153941599, 0.9973101169279928, 0.999085951730637, 0.9846577831584258, 0.997594340591867, 0.998160678991432, 0.9945707902313622, 0.9880569014642141, 0.9976390775459362, 0.9058454023439092, 0.09271446718319402, 0.9965666878269965, 0.9922167448131544, 0.9840789544535667, 0.9953552711833503, 0.9921633714417403, 0.9965198656933602, 0.9894995867347063, 0.668270316248039, 0.33131482582532723, 0.9976493619793864, 0.9961534490402054, 0.9968011823067032, 0.9944702417551585, 0.993099504801843, 0.7872200275936206, 0.028583384171489853, 0.1805797329422359, 0.0033627510789988064, 0.9970382001604936, 0.1684828379044202, 0.7556200002986119, 0.07147756759581464, 0.1928856177320308, 0.5696854291155329, 0.07064996463440663, 0.16597134549035208, 0.9916369772487309, 0.997927476817276, 0.49802736837986883, 0.00730059239817526, 0.04888222736169522, 0.38788364828565947, 0.010474763006077548, 0.04697772499695385, 0.9892694505282142, 0.135249815282609, 0.0919100954682923, 0.31533382347658007, 0.19801768535851594, 0.07771260104636096, 0.14496389041340413, 0.03661459087761238, 0.9753293940672438, 0.02388171875776797, 0.03930221591408127, 0.8757024983356233, 0.08413130594108022, 0.9975288394030257, 0.9965408611073955, 0.9975802490347297, 0.9926985435941316, 0.9981646948769654, 0.05376243866945557, 0.9408426767154725, 0.2727156919417882, 0.0998677181758661, 0.24774876239782165, 0.3764244762013414, 0.9620422160299787, 0.03601227546636284, 0.14319538684442237, 0.8342216097224303, 0.02169627073400339, 0.38712070605217674, 0.4795763446316642, 0.08291183072612106, 0.0002982439954177016, 0.03489454746387109, 0.015210443766302784, 0.9969178970714734, 0.9948964929451598, 0.9937933321970832, 0.009975552897448711, 0.9900736250717846, 0.538564910019781, 0.08473377418440321, 0.01619064356384814, 0.3589884826745618, 0.0014793481428896779, 0.39201205251503934, 0.5341557649007049, 0.06904123173018045, 0.004467373817835206, 0.00030459366939785494, 0.18677382556548422, 0.0869905488935132, 0.08386343765877906, 0.09694044827675817, 0.5449702033623033, 0.9909329722418379, 0.9927810176985881], \"Term\": [\"absolute\", \"absolutely\", \"accelerator\", \"accept\", \"accept\", \"access\", \"action\", \"action\", \"activity\", \"activity\", \"additional\", \"address\", \"address\", \"address\", \"adult\", \"advance\", \"advance\", \"aged\", \"agency\", \"air\", \"algorithm\", \"allow\", \"allow\", \"allow\", \"allow\", \"alone\", \"alone\", \"alone\", \"alone\", \"alone\", \"also\", \"also\", \"also\", \"also\", \"also\", \"also\", \"also\", \"aluminum\", \"amount\", \"amount\", \"animal\", \"animal\", \"announcement\", \"answer\", \"answer\", \"answer\", \"anyway\", \"anywhere\", \"apartment\", \"appear\", \"appear\", \"appear\", \"appear\", \"appear\", \"apple\", \"application\", \"appreciate\", \"arab\", \"argument\", \"armenian\", \"arrogance\", \"article\", \"article\", \"article\", \"article\", \"assumption\", \"atheism\", \"atheist\", \"attack\", \"attack\", \"attack\", \"audio\", \"author\", \"authority\", \"available\", \"average\", \"award\", \"aware\", \"ax\", \"back\", \"back\", \"bad\", \"bad\", \"band\", \"baseball\", \"battery\", \"be\", \"be\", \"be\", \"begin\", \"begin\", \"begin\", \"begin\", \"begin\", \"beginning\", \"belief\", \"believe\", \"believe\", \"bend\", \"benefit\", \"best\", \"better\", \"biblical\", \"big\", \"big\", \"big\", \"big\", \"bike\", \"bill\", \"bit\", \"bit\", \"bit\", \"blind\", \"block\", \"block\", \"blood\", \"board\", \"board\", \"body\", \"body\", \"body\", \"body\", \"bomb\", \"book\", \"book\", \"book\", \"box\", \"brain\", \"btw\", \"bug\", \"bus\", \"busmastere\", \"buy\", \"buy\", \"buy\", \"byte\", \"ca\", \"ca\", \"cable\", \"can\", \"can\", \"can\", \"canadian\", \"capable\", \"capable\", \"capable\", \"capable\", \"car\", \"card\", \"card\", \"care\", \"care\", \"care\", \"carefully\", \"carry\", \"carry\", \"carry\", \"carry\", \"carry\", \"case\", \"case\", \"case\", \"case\", \"case\", \"case\", \"catcher\", \"cause\", \"cause\", \"cause\", \"cause\", \"cause\", \"cause\", \"cause\", \"cd\", \"celebration\", \"chance\", \"channel\", \"character\", \"child\", \"child\", \"chip\", \"chip\", \"chip\", \"choose\", \"choose\", \"choose\", \"christian\", \"church\", \"circle\", \"circuit\", \"circumstance\", \"civilian\", \"claim\", \"claim\", \"clearly\", \"clearly\", \"client\", \"clipper\", \"clipper_chip\", \"clock\", \"closed\", \"coach\", \"color\", \"com\", \"combination\", \"come\", \"come\", \"commercial\", \"commercial\", \"commit\", \"communication\", \"community\", \"computer\", \"computer\", \"computer\", \"conclusion\", \"conflict\", \"connection\", \"connector\", \"consider\", \"consider\", \"consider\", \"consider\", \"contain\", \"contain\", \"contest\", \"context\", \"controller\", \"controlling\", \"convert\", \"convince\", \"cool\", \"cop\", \"copy\", \"corner\", \"cost\", \"cost\", \"could\", \"could\", \"could\", \"could\", \"could\", \"could\", \"country\", \"couple\", \"couple\", \"couple\", \"couple\", \"court\", \"court\", \"cover\", \"cover\", \"cover\", \"cover\", \"cpu\", \"crack\", \"crash\", \"crazy\", \"crime\", \"criminal\", \"cub\", \"cycle\", \"data\", \"day\", \"day\", \"deal\", \"dealer\", \"death\", \"death\", \"death\", \"decrease\", \"deeply\", \"defeat\", \"defense\", \"defense\", \"definitely\", \"deny\", \"deny\", \"department\", \"dept\", \"description\", \"design\", \"design\", \"design\", \"design\", \"device\", \"devil\", \"di_di\", \"diagnose\", \"diagnosis\", \"diet\", \"difficult\", \"difficult\", \"difficult\", \"direct\", \"directory\", \"disabled\", \"disbelief\", \"discharge\", \"discussion\", \"disease\", \"disk\", \"display\", \"distance\", \"distribution\", \"distribution\", \"distribution_usa\", \"distribution_usa\", \"divine\", \"division\", \"dn\", \"doctor\", \"doctrine\", \"documentation\", \"dollar\", \"door\", \"draft\", \"draw\", \"draw\", \"drawing\", \"drink\", \"drive\", \"drive\", \"drive\", \"driver\", \"drug\", \"drug\", \"drug\", \"dual\", \"earlier\", \"early\", \"early\", \"early\", \"earth\", \"earth\", \"eat\", \"edge\", \"edu\", \"eeg\", \"egg\", \"electronic\", \"eliminate\", \"enable\", \"encrypt\", \"encryption\", \"enforcement\", \"engage\", \"engine\", \"enjoy\", \"enjoy\", \"entry\", \"environment\", \"error\", \"error\", \"error\", \"error\", \"escape\", \"especially\", \"especially\", \"espn\", \"este\", \"ethnic\", \"even\", \"even\", \"even\", \"even\", \"even\", \"event\", \"event\", \"event\", \"ever\", \"ever\", \"ever\", \"ever\", \"evidence\", \"evil\", \"examine\", \"example\", \"example\", \"example\", \"example\", \"excuse\", \"exist\", \"exist\", \"existence\", \"expensive\", \"expert\", \"explain\", \"explosive\", \"extend\", \"extend\", \"extremely\", \"extremely\", \"face\", \"face\", \"fact\", \"fact\", \"fact\", \"factor\", \"faith\", \"faith\", \"false\", \"family\", \"fan\", \"faq\", \"faq\", \"father\", \"favor\", \"fear\", \"fear\", \"federal\", \"feed\", \"fetch\", \"few\", \"field\", \"field\", \"file\", \"film\", \"final\", \"final\", \"final\", \"find\", \"find\", \"find\", \"find\", \"find\", \"find\", \"finger\", \"finish\", \"fire\", \"fire\", \"firearm\", \"first\", \"first\", \"first\", \"first\", \"first\", \"first\", \"fit\", \"fit\", \"flight\", \"floppy\", \"follow\", \"follow\", \"follow\", \"follow\", \"follow\", \"font\", \"food\", \"food\", \"fool\", \"foot\", \"foot\", \"foot\", \"force\", \"force\", \"forget\", \"forgive\", \"format\", \"franchise\", \"function\", \"game\", \"garbage\", \"gateway\", \"gay\", \"gear\", \"genocide\", \"get\", \"get\", \"get\", \"get\", \"gift\", \"girl\", \"give\", \"give\", \"give\", \"give\", \"give\", \"give\", \"give\", \"give\", \"glock\", \"go\", \"goal\", \"god\", \"gold\", \"good\", \"good\", \"good\", \"good\", \"gospel\", \"government\", \"government\", \"graphic\", \"great\", \"great\", \"great\", \"great\", \"greatly_appreciate\", \"greek\", \"ground\", \"ground\", \"ground\", \"group\", \"group\", \"group\", \"group\", \"group\", \"gun\", \"guy\", \"half\", \"half\", \"hand\", \"hand\", \"handle\", \"handle\", \"happen\", \"happy\", \"hate\", \"hate\", \"have\", \"have\", \"head\", \"head\", \"head\", \"head\", \"head\", \"head\", \"hear\", \"hear\", \"heart\", \"heat\", \"helmet\", \"help\", \"help\", \"help\", \"help\", \"high\", \"high\", \"high\", \"high\", \"history\", \"history\", \"history\", \"history\", \"hit\", \"hockey\", \"hole\", \"homosexual\", \"homosexuality\", \"hook\", \"hope\", \"hope\", \"hope\", \"hope\", \"horse\", \"hospital\", \"host\", \"hot\", \"hour\", \"hour\", \"however\", \"however\", \"however\", \"however\", \"however\", \"however\", \"ice\", \"ide\", \"ill\", \"ill\", \"image\", \"imagination\", \"imagine\", \"impact\", \"impair\", \"implement\", \"implement\", \"impossible\", \"impressive\", \"include\", \"include\", \"include\", \"include\", \"include\", \"increase\", \"increase\", \"increase\", \"indeed\", \"individual\", \"individual\", \"industry\", \"information\", \"information\", \"information\", \"injure\", \"injury\", \"input\", \"insert\", \"insist\", \"instal\", \"install\", \"intelligent\", \"interested\", \"interface\", \"internal\", \"internet\", \"interpret\", \"interpretation\", \"invasion\", \"israeli\", \"issue\", \"issue\", \"issue\", \"item\", \"jewish\", \"job\", \"judge\", \"jumper\", \"keep\", \"keep\", \"key\", \"keyboard\", \"keyword\", \"keyword\", \"kid\", \"kill\", \"kill\", \"kill\", \"king\", \"knife\", \"know\", \"know\", \"know\", \"knowledge\", \"label\", \"laboratory\", \"land\", \"land\", \"landing\", \"large\", \"large\", \"large\", \"large\", \"large\", \"last\", \"last\", \"last\", \"last\", \"lately\", \"laugh\", \"laugh\", \"launch\", \"law\", \"lead\", \"lead\", \"lead\", \"lead\", \"lead\", \"leafs\", \"learn\", \"least\", \"least\", \"least\", \"least\", \"least\", \"lebanese\", \"left\", \"left\", \"leg\", \"lemon\", \"less\", \"less\", \"less\", \"less\", \"less\", \"let\", \"level\", \"level\", \"level\", \"level\", \"level\", \"level\", \"liar\", \"library\", \"libxmu\", \"license\", \"light\", \"light\", \"light\", \"likely\", \"likely\", \"limit\", \"line\", \"line\", \"line\", \"link\", \"list\", \"list\", \"list\", \"list\", \"little\", \"little\", \"localtalk\", \"look\", \"look\", \"look\", \"look\", \"look\", \"look\", \"lose\", \"lose\", \"lose\", \"lose\", \"lot\", \"low\", \"lunar\", \"mac\", \"mad\", \"mail\", \"mail\", \"make\", \"make\", \"make\", \"make\", \"make\", \"make\", \"man\", \"man\", \"man\", \"manager\", \"many\", \"many\", \"many\", \"many\", \"many\", \"market\", \"marriage\", \"massacre\", \"master\", \"material\", \"material\", \"max\", \"maxtor\", \"may\", \"may\", \"may\", \"may\", \"may\", \"may\", \"may\", \"may\", \"may\", \"maybe\", \"mean\", \"mean\", \"mean\", \"mean\", \"medical\", \"medium\", \"medium\", \"meg\", \"member\", \"memory\", \"mere\", \"message\", \"message\", \"message\", \"message\", \"method\", \"method\", \"method\", \"middle\", \"migraine\", \"mile\", \"military\", \"mine\", \"miracle\", \"mirror\", \"mission\", \"model\", \"model\", \"modem\", \"money\", \"monitor\", \"moon\", \"moral\", \"morality\", \"mother\", \"motherboard\", \"motif\", \"motorcycle\", \"mount\", \"mouse\", \"movie\", \"much\", \"much\", \"much\", \"much\", \"much\", \"music\", \"must\", \"must\", \"must\", \"must\", \"must\", \"nature\", \"necessarily\", \"need\", \"need\", \"need\", \"need\", \"need\", \"negative\", \"neurologist\", \"never\", \"never\", \"new\", \"new\", \"new\", \"new\", \"new\", \"new\", \"new\", \"new\", \"news\", \"news\", \"news\", \"next\", \"next\", \"next\", \"next\", \"night\", \"nntp_poste\", \"nntp_posting\", \"nntp_posting\", \"normal\", \"notice\", \"nuclear\", \"number\", \"number\", \"number\", \"number\", \"number\", \"number\", \"number\", \"number\", \"object\", \"objective\", \"obtain\", \"obtain\", \"occasional\", \"occupant\", \"occupy\", \"offense\", \"oil\", \"old\", \"old\", \"old\", \"old\", \"opinion\", \"opinion\", \"opinion\", \"opinion\", \"opinion\", \"oppose\", \"option\", \"option\", \"optional\", \"orbit\", \"order\", \"order\", \"order\", \"order\", \"order\", \"organization\", \"organization\", \"organization\", \"originator\", \"originator\", \"owner\", \"pack\", \"package\", \"pain\", \"paranoid\", \"parent\", \"participate\", \"party\", \"past\", \"past\", \"pathology\", \"patient\", \"pattern\", \"pay\", \"pen\", \"penguin\", \"people\", \"people\", \"people\", \"percentage\", \"performance\", \"performance\", \"period\", \"person\", \"person\", \"person\", \"personally\", \"pgp\", \"phone\", \"physical\", \"pick\", \"pick\", \"picture\", \"piece\", \"pin\", \"pitch\", \"pitcher\", \"plane\", \"play\", \"play\", \"player\", \"playoff\", \"please\", \"plot\", \"point\", \"point\", \"point\", \"point\", \"point\", \"pointer\", \"police\", \"police\", \"police\", \"policy\", \"political\", \"poor\", \"poor\", \"poor\", \"port\", \"port\", \"positive\", \"post\", \"post\", \"post\", \"poster\", \"power\", \"power\", \"prayer\", \"predict\", \"prediction\", \"pretty\", \"prevalence\", \"prevention\", \"price\", \"price\", \"print\", \"print\", \"printer\", \"privacy\", \"private\", \"prize\", \"pro\", \"probability\", \"probably\", \"probably\", \"probably\", \"probe\", \"problem\", \"problem\", \"problem\", \"problem\", \"problem\", \"procedure\", \"proceed\", \"processor\", \"program\", \"prohibit\", \"project\", \"project\", \"project\", \"promise\", \"proof\", \"properly\", \"property\", \"proposal\", \"prove\", \"prove\", \"prove\", \"public\", \"public\", \"publish\", \"purchase\", \"purchase\", \"push\", \"push\", \"quality\", \"question\", \"question\", \"question\", \"question\", \"radical\", \"ram\", \"ranger\", \"rate\", \"rate\", \"rather\", \"rather\", \"rather\", \"rational\", \"read\", \"read\", \"read\", \"read\", \"realistic\", \"reality\", \"realize\", \"really\", \"really\", \"really\", \"really\", \"reason\", \"reason\", \"reason\", \"reason\", \"rebel\", \"recall\", \"recall\", \"receive\", \"receive\", \"receive\", \"recommend\", \"regardless\", \"regardless\", \"register\", \"registration\", \"reject\", \"release\", \"religion\", \"remark\", \"remember\", \"remove\", \"rent\", \"reply\", \"reply\", \"reply\", \"report\", \"report\", \"report\", \"report\", \"report\", \"require\", \"require\", \"require\", \"require\", \"require\", \"require\", \"require\", \"research\", \"research\", \"resistance\", \"resource\", \"responsibility\", \"restrict\", \"revelation\", \"review\", \"revolver\", \"ride\", \"rider\", \"right\", \"right\", \"ring\", \"ripem\", \"risk\", \"road\", \"road\", \"rock\", \"rocket\", \"root\", \"route\", \"run\", \"run\", \"run\", \"russian\", \"russian\", \"s\", \"safe\", \"safe\", \"safe\", \"safe\", \"safe\", \"safety\", \"safety\", \"sake\", \"sale\", \"salvation\", \"sample\", \"satellite\", \"say\", \"say\", \"scale\", \"schedule\", \"school\", \"science\", \"science\", \"scientific\", \"score\", \"screen\", \"scripture\", \"scsi\", \"season\", \"seat\", \"second\", \"second\", \"second\", \"second\", \"second\", \"secondary\", \"secret\", \"section\", \"section\", \"secure\", \"security\", \"see\", \"see\", \"see\", \"see\", \"select\", \"sell\", \"sell\", \"sell\", \"seller\", \"send\", \"send\", \"send\", \"send\", \"send\", \"sense\", \"serdar_argic\", \"serial\", \"serious\", \"serve\", \"serve\", \"server\", \"set\", \"set\", \"set\", \"set\", \"sex\", \"shall\", \"shape\", \"shift\", \"ship\", \"shipping\", \"shoot\", \"shoot\", \"shoot\", \"should\", \"shuttle\", \"side\", \"side\", \"side\", \"side\", \"sight\", \"signal\", \"sin\", \"single\", \"single\", \"single\", \"single\", \"single\", \"single\", \"single\", \"sink\", \"sit\", \"site\", \"site\", \"situation\", \"situation\", \"slaughter\", \"slave\", \"slip\", \"slmr\", \"slot\", \"slow\", \"small\", \"small\", \"small\", \"snow\", \"society\", \"socket\", \"soft\", \"software\", \"software\", \"soldier\", \"solid\", \"solution\", \"solve\", \"somewhere\", \"son\", \"son\", \"soon\", \"soon\", \"soon\", \"soon\", \"sorry\", \"soul\", \"sound\", \"source\", \"source\", \"source\", \"space\", \"special\", \"specify\", \"speed\", \"speed\", \"speed\", \"spend\", \"spend\", \"sphere\", \"spiritually\", \"sport\", \"sport\", \"stand\", \"standpoint\", \"star\", \"stat\", \"state\", \"state\", \"station\", \"station\", \"status\", \"steal\", \"still\", \"still\", \"still\", \"still\", \"stop\", \"story\", \"stream\", \"string\", \"stuff_delete\", \"subject\", \"subject\", \"subject\", \"subject\", \"suggest\", \"suggest\", \"suggest\", \"suggestion\", \"support\", \"support\", \"support\", \"support\", \"sure\", \"sure\", \"sure\", \"sure\", \"surface\", \"surrender\", \"surveillance\", \"switch\", \"syndrome\", \"system\", \"system\", \"system\", \"system\", \"table\", \"table\", \"table\", \"take\", \"take\", \"take\", \"talent\", \"talk\", \"talk\", \"talk\", \"tap\", \"tape\", \"task\", \"taste\", \"tax\", \"teach\", \"teach\", \"team\", \"team\", \"technology\", \"technology\", \"technology\", \"technology\", \"telephone\", \"tell\", \"telnet\", \"tension\", \"terrible\", \"terrorism\", \"terrorist\", \"terrorist\", \"test\", \"thank\", \"theory\", \"there\", \"therefore\", \"therefore\", \"thi\", \"thing\", \"thing\", \"thing\", \"think\", \"think\", \"think\", \"thinking\", \"third\", \"third\", \"thread\", \"thread\", \"throw\", \"tie\", \"time\", \"time\", \"time\", \"time\", \"time\", \"toll\", \"tomorrow\", \"totally\", \"totally\", \"track\", \"trade\", \"trademark\", \"tradition\", \"transfer\", \"translation\", \"transmit\", \"tree\", \"trial\", \"trigger\", \"trivial\", \"troop\", \"troop\", \"true\", \"true\", \"true\", \"trust\", \"truth\", \"try\", \"try\", \"try\", \"tube\", \"tube\", \"tumor\", \"turkish\", \"turn\", \"turn\", \"tv\", \"tv\", \"type\", \"type\", \"type\", \"type\", \"typical\", \"typical\", \"unit\", \"univ\", \"university\", \"unknown\", \"update\", \"upgrade\", \"use\", \"use\", \"use\", \"use\", \"use\", \"use\", \"user\", \"user\", \"valid\", \"value\", \"vat\", \"vehicle\", \"version\", \"vertical\", \"vga\", \"video\", \"view\", \"view\", \"village\", \"violence\", \"virus\", \"visible\", \"volume\", \"vote\", \"vram\", \"want\", \"want\", \"war\", \"warranty\", \"watch\", \"water\", \"wave\", \"way\", \"way\", \"way\", \"way\", \"weapon\", \"wear\", \"wear\", \"wear\", \"week\", \"week\", \"week\", \"week\", \"weekend\", \"weight\", \"well\", \"well\", \"well\", \"well\", \"well\", \"well\", \"wide_range\", \"will\", \"will\", \"will\", \"will\", \"will\", \"will\", \"will\", \"win\", \"win\", \"window\", \"window\", \"window\", \"wing\", \"winner\", \"wire\", \"wise\", \"withdraw\", \"witness\", \"witness\", \"woman\", \"woman\", \"woman\", \"woman\", \"wonder\", \"wonder\", \"word\", \"word\", \"word\", \"work\", \"work\", \"work\", \"work\", \"work\", \"work\", \"workstation\", \"worry\", \"worship\", \"worth\", \"worth\", \"would\", \"would\", \"would\", \"would\", \"would\", \"write\", \"write\", \"write\", \"write\", \"write\", \"year\", \"year\", \"year\", \"year\", \"year\", \"yesterday\", \"youth\"]}, \"R\": 30, \"lambda.step\": 0.01, \"plot.opts\": {\"xlab\": \"PC1\", \"ylab\": \"PC2\"}, \"topic.order\": [19, 14, 17, 8, 2, 4, 6, 1, 9, 7, 3, 11, 10, 15, 5, 13, 16, 12, 20, 18]};\n",
              "\n",
              "function LDAvis_load_lib(url, callback){\n",
              "  var s = document.createElement('script');\n",
              "  s.src = url;\n",
              "  s.async = true;\n",
              "  s.onreadystatechange = s.onload = callback;\n",
              "  s.onerror = function(){console.warn(\"failed to load library \" + url);};\n",
              "  document.getElementsByTagName(\"head\")[0].appendChild(s);\n",
              "}\n",
              "\n",
              "if(typeof(LDAvis) !== \"undefined\"){\n",
              "   // already loaded: just create the visualization\n",
              "   !function(LDAvis){\n",
              "       new LDAvis(\"#\" + \"ldavis_el581399158696059601556521159\", ldavis_el581399158696059601556521159_data);\n",
              "   }(LDAvis);\n",
              "}else if(typeof define === \"function\" && define.amd){\n",
              "   // require.js is available: use it to load d3/LDAvis\n",
              "   require.config({paths: {d3: \"https://cdnjs.cloudflare.com/ajax/libs/d3/3.5.5/d3.min\"}});\n",
              "   require([\"d3\"], function(d3){\n",
              "      window.d3 = d3;\n",
              "      LDAvis_load_lib(\"https://cdn.rawgit.com/bmabey/pyLDAvis/files/ldavis.v1.0.0.js\", function(){\n",
              "        new LDAvis(\"#\" + \"ldavis_el581399158696059601556521159\", ldavis_el581399158696059601556521159_data);\n",
              "      });\n",
              "    });\n",
              "}else{\n",
              "    // require.js not available: dynamically load d3 & LDAvis\n",
              "    LDAvis_load_lib(\"https://cdnjs.cloudflare.com/ajax/libs/d3/3.5.5/d3.min.js\", function(){\n",
              "         LDAvis_load_lib(\"https://cdn.rawgit.com/bmabey/pyLDAvis/files/ldavis.v1.0.0.js\", function(){\n",
              "                 new LDAvis(\"#\" + \"ldavis_el581399158696059601556521159\", ldavis_el581399158696059601556521159_data);\n",
              "            })\n",
              "         });\n",
              "}\n",
              "</script>"
            ],
            "text/plain": [
              "PreparedData(topic_coordinates=              x         y  topics  cluster       Freq\n",
              "topic                                                \n",
              "18    -0.301188  0.130372       1        1  21.164506\n",
              "13    -0.248823 -0.123365       2        1  11.624432\n",
              "16    -0.261437  0.110544       3        1  10.459088\n",
              "7     -0.137676  0.017063       4        1   8.881553\n",
              "1     -0.167173 -0.189846       5        1   8.194309\n",
              "3     -0.173435  0.172027       6        1   7.367378\n",
              "5     -0.040499 -0.126008       7        1   5.157488\n",
              "0      0.009303  0.111955       8        1   3.618255\n",
              "8     -0.022891 -0.268196       9        1   3.448523\n",
              "6      0.077730 -0.088507      10        1   2.559403\n",
              "2      0.111457  0.020941      11        1   2.392969\n",
              "10     0.095764  0.037839      12        1   2.031908\n",
              "9      0.119116  0.020057      13        1   1.929019\n",
              "14     0.116036 -0.042521      14        1   1.874134\n",
              "4      0.115214  0.055707      15        1   1.754159\n",
              "12     0.121027  0.021482      16        1   1.621537\n",
              "15     0.144921  0.020980      17        1   1.606057\n",
              "11     0.138437  0.089818      18        1   1.543541\n",
              "19     0.146769  0.005512      19        1   1.400083\n",
              "17     0.157346  0.024146      20        1   1.371659, topic_info=               Term          Freq         Total Category  logprob  loglift\n",
              "19             line  11523.000000  11523.000000  Default  30.0000  30.0000\n",
              "176           would  12167.000000  12167.000000  Default  29.0000  29.0000\n",
              "116            good   4562.000000   4562.000000  Default  28.0000  28.0000\n",
              "199           write   9849.000000   9849.000000  Default  27.0000  27.0000\n",
              "171             use   8645.000000   8645.000000  Default  26.0000  26.0000\n",
              "...             ...           ...           ...      ...      ...      ...\n",
              "11758   celebration     58.326384     59.289366  Topic20  -5.5934   4.2728\n",
              "5159     prevention     54.330602     55.293585  Topic20  -5.6643   4.2716\n",
              "2850   stuff_delete     54.023489     54.986471  Topic20  -5.6700   4.2715\n",
              "1507    enforcement     52.377026     53.340008  Topic20  -5.7010   4.2709\n",
              "1505           drug    399.411841    578.889556  Topic20  -3.6694   3.9180\n",
              "\n",
              "[963 rows x 6 columns], token_table=      Topic      Freq         Term\n",
              "term                              \n",
              "474      10  0.993459     absolute\n",
              "4370     13  0.995118   absolutely\n",
              "4640     19  0.995885  accelerator\n",
              "1215      3  0.824274       accept\n",
              "1215      4  0.175348       accept\n",
              "...     ...       ...          ...\n",
              "42        6  0.083863         year\n",
              "42        7  0.096940         year\n",
              "42        8  0.544970         year\n",
              "723       8  0.990933    yesterday\n",
              "4503     12  0.992781        youth\n",
              "\n",
              "[1476 rows x 3 columns], R=30, lambda_step=0.01, plot_opts={'xlab': 'PC1', 'ylab': 'PC2'}, topic_order=[19, 14, 17, 8, 2, 4, 6, 1, 9, 7, 3, 11, 10, 15, 5, 13, 16, 12, 20, 18])"
            ]
          },
          "metadata": {
            "tags": []
          },
          "execution_count": 65
        }
      ]
    },
    {
      "cell_type": "code",
      "metadata": {
        "id": "vDxZw7VQyTd9"
      },
      "source": [
        "from gensim import corpora, models, similarities\n"
      ],
      "execution_count": null,
      "outputs": []
    },
    {
      "cell_type": "code",
      "metadata": {
        "colab": {
          "base_uri": "https://localhost:8080/"
        },
        "id": "saptVULNvKw-",
        "outputId": "dcc7ca81-9dd3-4c65-8719-4368fbd1226a"
      },
      "source": [
        "from google.colab import drive\n",
        "drive.mount('/content/gdrive')"
      ],
      "execution_count": null,
      "outputs": [
        {
          "output_type": "stream",
          "text": [
            "Mounted at /content/gdrive\n"
          ],
          "name": "stdout"
        }
      ]
    },
    {
      "cell_type": "code",
      "metadata": {
        "id": "WGAJoicEy6AK"
      },
      "source": [
        "path = F\"/content/gdrive/My Drive/nlpProject/LdaModelFinal\" \n"
      ],
      "execution_count": null,
      "outputs": []
    },
    {
      "cell_type": "code",
      "metadata": {
        "id": "QPn176hz1cr4"
      },
      "source": [
        "lda_model.save(path)\n"
      ],
      "execution_count": null,
      "outputs": []
    },
    {
      "cell_type": "code",
      "metadata": {
        "id": "QgbuQ_ze1eG3"
      },
      "source": [
        "model =  models.LdaModel.load(path)\n"
      ],
      "execution_count": null,
      "outputs": []
    },
    {
      "cell_type": "code",
      "metadata": {
        "id": "9Kn0h83M5M40",
        "colab": {
          "base_uri": "https://localhost:8080/"
        },
        "outputId": "0523377c-4489-4f84-b12c-b00d5f46bc6e"
      },
      "source": [
        "model.show_topics(200, 20)\n"
      ],
      "execution_count": null,
      "outputs": [
        {
          "output_type": "execute_result",
          "data": {
            "text/plain": [
              "[(0,\n",
              "  '0.046*\"year\" + 0.036*\"game\" + 0.025*\"win\" + 0.021*\"play\" + 0.019*\"team\" + 0.018*\"last\" + 0.014*\"run\" + 0.014*\"lose\" + 0.012*\"first\" + 0.012*\"hit\" + 0.011*\"watch\" + 0.011*\"score\" + 0.010*\"division\" + 0.009*\"wing\" + 0.009*\"next\" + 0.008*\"throw\" + 0.008*\"route\" + 0.007*\"bomb\" + 0.007*\"clearly\" + 0.007*\"average\"'),\n",
              " (1,\n",
              "  '0.025*\"use\" + 0.024*\"program\" + 0.022*\"file\" + 0.017*\"include\" + 0.015*\"window\" + 0.014*\"available\" + 0.013*\"software\" + 0.013*\"information\" + 0.012*\"source\" + 0.011*\"list\" + 0.011*\"send\" + 0.011*\"also\" + 0.010*\"image\" + 0.010*\"copy\" + 0.009*\"entry\" + 0.009*\"support\" + 0.009*\"system\" + 0.008*\"application\" + 0.008*\"set\" + 0.008*\"user\"'),\n",
              " (2,\n",
              "  '0.023*\"bike\" + 0.021*\"light\" + 0.020*\"pin\" + 0.018*\"monitor\" + 0.016*\"character\" + 0.014*\"normal\" + 0.014*\"ride\" + 0.013*\"drive\" + 0.012*\"switch\" + 0.011*\"side\" + 0.010*\"edge\" + 0.009*\"road\" + 0.009*\"motorcycle\" + 0.008*\"head\" + 0.008*\"btw\" + 0.008*\"turn\" + 0.007*\"foot\" + 0.007*\"will\" + 0.007*\"wave\" + 0.006*\"soon\"'),\n",
              " (3,\n",
              "  '0.053*\"good\" + 0.052*\"would\" + 0.025*\"make\" + 0.019*\"may\" + 0.019*\"much\" + 0.017*\"lot\" + 0.015*\"well\" + 0.011*\"big\" + 0.011*\"pay\" + 0.011*\"money\" + 0.010*\"player\" + 0.010*\"deal\" + 0.009*\"probably\" + 0.009*\"sound\" + 0.009*\"great\" + 0.009*\"case\" + 0.009*\"opinion\" + 0.008*\"bad\" + 0.008*\"consider\" + 0.008*\"pretty\"'),\n",
              " (4,\n",
              "  '0.025*\"church\" + 0.023*\"christian\" + 0.022*\"slave\" + 0.020*\"faith\" + 0.019*\"sin\" + 0.017*\"talk\" + 0.016*\"judge\" + 0.015*\"deny\" + 0.014*\"appear\" + 0.011*\"heart\" + 0.011*\"tv\" + 0.011*\"scripture\" + 0.010*\"prayer\" + 0.010*\"doctrine\" + 0.010*\"worship\" + 0.009*\"blind\" + 0.008*\"tradition\" + 0.008*\"fear\" + 0.006*\"excuse\" + 0.006*\"early\"'),\n",
              " (5,\n",
              "  '0.027*\"car\" + 0.021*\"high\" + 0.016*\"price\" + 0.016*\"power\" + 0.015*\"cost\" + 0.014*\"new\" + 0.014*\"low\" + 0.012*\"rate\" + 0.011*\"internet\" + 0.010*\"model\" + 0.009*\"design\" + 0.009*\"use\" + 0.009*\"wire\" + 0.008*\"speed\" + 0.008*\"buy\" + 0.007*\"bus\" + 0.007*\"increase\" + 0.007*\"engine\" + 0.007*\"will\" + 0.007*\"old\"'),\n",
              " (6,\n",
              "  '0.037*\"space\" + 0.018*\"system\" + 0.017*\"device\" + 0.017*\"research\" + 0.015*\"item\" + 0.013*\"launch\" + 0.012*\"special\" + 0.012*\"revelation\" + 0.012*\"moral\" + 0.012*\"internal\" + 0.011*\"lead\" + 0.010*\"transfer\" + 0.010*\"activity\" + 0.010*\"signal\" + 0.010*\"orbit\" + 0.010*\"obtain\" + 0.010*\"mission\" + 0.009*\"earth\" + 0.009*\"material\" + 0.009*\"satellite\"'),\n",
              " (7,\n",
              "  '0.026*\"people\" + 0.018*\"state\" + 0.014*\"law\" + 0.012*\"government\" + 0.010*\"issue\" + 0.010*\"right\" + 0.009*\"child\" + 0.008*\"death\" + 0.008*\"case\" + 0.007*\"group\" + 0.007*\"force\" + 0.007*\"talk\" + 0.007*\"person\" + 0.007*\"country\" + 0.006*\"kill\" + 0.006*\"member\" + 0.006*\"fact\" + 0.006*\"action\" + 0.005*\"order\" + 0.005*\"report\"'),\n",
              " (8,\n",
              "  '0.050*\"key\" + 0.026*\"use\" + 0.019*\"sale\" + 0.017*\"public\" + 0.016*\"patient\" + 0.014*\"encryption\" + 0.014*\"phone\" + 0.013*\"security\" + 0.012*\"private\" + 0.011*\"chip\" + 0.011*\"system\" + 0.011*\"clipper\" + 0.010*\"government\" + 0.010*\"message\" + 0.010*\"block\" + 0.010*\"encrypt\" + 0.009*\"technology\" + 0.009*\"information\" + 0.009*\"secure\" + 0.008*\"bit\"'),\n",
              " (9,\n",
              "  '0.030*\"man\" + 0.022*\"existence\" + 0.016*\"society\" + 0.013*\"knowledge\" + 0.012*\"absolutely\" + 0.012*\"insist\" + 0.012*\"evil\" + 0.011*\"mine\" + 0.010*\"byte\" + 0.010*\"homosexual\" + 0.009*\"marriage\" + 0.009*\"gay\" + 0.009*\"responsibility\" + 0.008*\"totally\" + 0.008*\"sake\" + 0.008*\"witness\" + 0.008*\"promise\" + 0.007*\"difficult\" + 0.007*\"circumstance\" + 0.007*\"miracle\"'),\n",
              " (10,\n",
              "  '0.021*\"soldier\" + 0.019*\"lebanese\" + 0.018*\"village\" + 0.017*\"brain\" + 0.013*\"kill\" + 0.013*\"food\" + 0.012*\"turkish\" + 0.012*\"doctor\" + 0.011*\"terrorism\" + 0.011*\"occupy\" + 0.011*\"child\" + 0.010*\"tumor\" + 0.010*\"blood\" + 0.010*\"armenian\" + 0.008*\"woman\" + 0.008*\"attack\" + 0.007*\"positive\" + 0.007*\"body\" + 0.007*\"girl\" + 0.006*\"begin\"'),\n",
              " (11,\n",
              "  '0.043*\"team\" + 0.027*\"season\" + 0.024*\"fan\" + 0.024*\"hockey\" + 0.020*\"trade\" + 0.017*\"playoff\" + 0.016*\"cool\" + 0.015*\"pen\" + 0.014*\"hot\" + 0.013*\"star\" + 0.013*\"play\" + 0.011*\"cycle\" + 0.010*\"ice\" + 0.009*\"water\" + 0.009*\"winner\" + 0.009*\"award\" + 0.009*\"coach\" + 0.008*\"king\" + 0.008*\"canadian\" + 0.008*\"prize\"'),\n",
              " (12,\n",
              "  '0.042*\"test\" + 0.033*\"solution\" + 0.026*\"function\" + 0.024*\"problem\" + 0.021*\"family\" + 0.019*\"object\" + 0.018*\"pain\" + 0.017*\"draw\" + 0.017*\"connection\" + 0.014*\"edu\" + 0.012*\"crash\" + 0.011*\"sample\" + 0.010*\"migraine\" + 0.010*\"directory\" + 0.010*\"error\" + 0.009*\"event\" + 0.009*\"distribution\" + 0.009*\"syndrome\" + 0.009*\"properly\" + 0.008*\"neurologist\"'),\n",
              " (13,\n",
              "  '0.081*\"line\" + 0.040*\"write\" + 0.037*\"subject\" + 0.031*\"use\" + 0.027*\"article\" + 0.027*\"host\" + 0.018*\"thank\" + 0.017*\"organization\" + 0.016*\"need\" + 0.014*\"drive\" + 0.014*\"get\" + 0.014*\"problem\" + 0.012*\"system\" + 0.012*\"help\" + 0.012*\"work\" + 0.012*\"reply\" + 0.010*\"know\" + 0.010*\"try\" + 0.009*\"look\" + 0.009*\"post\"'),\n",
              " (14,\n",
              "  '0.027*\"value\" + 0.021*\"scsi\" + 0.020*\"remove\" + 0.017*\"picture\" + 0.016*\"hour\" + 0.012*\"cd\" + 0.012*\"sphere\" + 0.011*\"warranty\" + 0.011*\"communication\" + 0.011*\"rational\" + 0.010*\"ide\" + 0.010*\"plane\" + 0.010*\"single\" + 0.009*\"thread\" + 0.009*\"fit\" + 0.009*\"surface\" + 0.009*\"socket\" + 0.009*\"laboratory\" + 0.009*\"bit\" + 0.009*\"typical\"'),\n",
              " (15,\n",
              "  '0.061*\"gun\" + 0.021*\"weapon\" + 0.021*\"carry\" + 0.018*\"safety\" + 0.016*\"firearm\" + 0.015*\"cop\" + 0.011*\"fire\" + 0.011*\"police\" + 0.010*\"workstation\" + 0.010*\"visible\" + 0.008*\"push\" + 0.008*\"shoot\" + 0.008*\"glock\" + 0.008*\"wear\" + 0.007*\"band\" + 0.006*\"surveillance\" + 0.006*\"safe\" + 0.006*\"greatly_appreciate\" + 0.006*\"resistance\" + 0.006*\"rent\"'),\n",
              " (16,\n",
              "  '0.017*\"reason\" + 0.017*\"evidence\" + 0.017*\"believe\" + 0.015*\"may\" + 0.013*\"say\" + 0.012*\"claim\" + 0.011*\"question\" + 0.011*\"sense\" + 0.010*\"point\" + 0.010*\"exist\" + 0.009*\"true\" + 0.009*\"many\" + 0.008*\"book\" + 0.008*\"mean\" + 0.007*\"must\" + 0.006*\"read\" + 0.006*\"religion\" + 0.006*\"word\" + 0.006*\"god\" + 0.006*\"argument\"'),\n",
              " (17,\n",
              "  '0.119*\"ax\" + 0.101*\"max\" + 0.038*\"ripem\" + 0.037*\"publish\" + 0.025*\"drug\" + 0.024*\"di_di\" + 0.012*\"violence\" + 0.010*\"prohibit\" + 0.010*\"stream\" + 0.008*\"wide_range\" + 0.008*\"univ\" + 0.007*\"aged\" + 0.007*\"film\" + 0.007*\"few\" + 0.007*\"movie\" + 0.007*\"label\" + 0.006*\"defeat\" + 0.006*\"disbelief\" + 0.006*\"vat\" + 0.006*\"plot\"'),\n",
              " (18,\n",
              "  '0.027*\"would\" + 0.024*\"go\" + 0.021*\"say\" + 0.021*\"think\" + 0.019*\"be\" + 0.018*\"know\" + 0.018*\"time\" + 0.016*\"write\" + 0.015*\"see\" + 0.014*\"take\" + 0.014*\"get\" + 0.014*\"could\" + 0.014*\"come\" + 0.012*\"make\" + 0.012*\"s\" + 0.011*\"thing\" + 0.011*\"people\" + 0.010*\"tell\" + 0.010*\"even\" + 0.010*\"way\"'),\n",
              " (19,\n",
              "  '0.061*\"driver\" + 0.045*\"version\" + 0.026*\"card\" + 0.023*\"university\" + 0.020*\"port\" + 0.017*\"recommend\" + 0.017*\"print\" + 0.017*\"printer\" + 0.015*\"gift\" + 0.013*\"gateway\" + 0.012*\"upgrade\" + 0.011*\"circle\" + 0.011*\"ship\" + 0.011*\"jumper\" + 0.010*\"electronic\" + 0.009*\"slot\" + 0.009*\"accelerator\" + 0.009*\"motherboard\" + 0.009*\"window\" + 0.008*\"drink\"')]"
            ]
          },
          "metadata": {
            "tags": []
          },
          "execution_count": 81
        }
      ]
    },
    {
      "cell_type": "code",
      "metadata": {
        "id": "uCzmPmmY6idv"
      },
      "source": [
        ""
      ],
      "execution_count": null,
      "outputs": []
    },
    {
      "cell_type": "code",
      "metadata": {
        "id": "JuljTbe_51Xs"
      },
      "source": [
        ""
      ],
      "execution_count": null,
      "outputs": []
    }
  ]
}